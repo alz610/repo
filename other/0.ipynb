{
 "cells": [
  {
   "cell_type": "markdown",
   "metadata": {},
   "source": [
    "# Import"
   ]
  },
  {
   "cell_type": "code",
   "execution_count": 1,
   "metadata": {},
   "outputs": [],
   "source": [
    "from sympy import *\n",
    "from sympy.abc import x"
   ]
  },
  {
   "cell_type": "markdown",
   "metadata": {},
   "source": [
    "# Вычисление первообразной $f(x)$"
   ]
  },
  {
   "cell_type": "markdown",
   "metadata": {},
   "source": [
    "$$f(x) = \\sqrt{1 + \\sin(x)}$$\n",
    "$$\\left[ 1 + \\sin x = \\left( \\cos \\frac x 2 + \\sin \\frac x 2 \\right)^2 \\right]$$\n",
    "$$f(x) = \\left| \\cos \\frac x 2 + \\sin \\frac x 2 \\right|$$"
   ]
  },
  {
   "cell_type": "code",
   "execution_count": 2,
   "metadata": {},
   "outputs": [
    {
     "data": {
      "text/latex": [
       "$\\displaystyle \\sqrt{2} \\sin{\\left(\\frac{x}{2} + \\frac{\\pi}{4} \\right)}$"
      ],
      "text/plain": [
       "sqrt(2)*sin(x/2 + pi/4)"
      ]
     },
     "execution_count": 2,
     "metadata": {},
     "output_type": "execute_result"
    }
   ],
   "source": [
    "simplify(cos(x / 2) + sin(x / 2))"
   ]
  },
  {
   "cell_type": "markdown",
   "metadata": {},
   "source": [
    "$$f(x) = \\sqrt 2 \\, \\left| \\sin \\left( \\frac x 2 + \\frac \\pi 4 \\right) \\right|$$\n",
    "\n",
    "$$\\left[ \\int \\left|\\sin {ax}\\right|\\,dx={2 \\over a}\\left\\lfloor {\\frac {ax}{\\pi }}\\right\\rfloor -{1 \\over a}\\cos {\\left(ax-\\left\\lfloor {\\frac {ax}{\\pi }}\\right\\rfloor \\pi \\right)}+C \\right]$$\n",
    "\n",
    "\\begin{align*}\n",
    "F(x) &= \\sqrt 2 \\, \\int \\left| \\sin \\left( \\frac x 2 + \\frac \\pi 4 \\right) \\right| dx \\\\\n",
    "&= 2 \\sqrt 2 \\, \\int \\left| \\sin \\left( \\frac x 2 + \\frac \\pi 4 \\right) \\right| d\\left( \\frac x 2 + \\frac \\pi 4 \\right) \\\\\n",
    "&= 2 \\sqrt 2 \\left( {2 \\over a}\\left\\lfloor {\\frac {ax}{\\pi }}\\right\\rfloor -{1 \\over a}\\cos {\\left(ax-\\left\\lfloor {\\frac {ax}{\\pi }}\\right\\rfloor \\pi \\right)} \\right) \\Bigg|_{\\begin{aligned}a &= 1 \\\\ x &= \\frac x 2 + \\frac \\pi 4\\end{aligned}}\n",
    "\\end{align*}"
   ]
  },
  {
   "cell_type": "markdown",
   "metadata": {},
   "source": [
    "Вычисление последнего выражения:"
   ]
  },
  {
   "cell_type": "code",
   "execution_count": 3,
   "metadata": {},
   "outputs": [
    {
     "data": {
      "text/latex": [
       "$\\displaystyle - 2 \\sqrt{2} \\cos{\\left(\\frac{x}{2} - \\pi \\left\\lfloor{\\frac{x}{2 \\pi} + \\frac{1}{4}}\\right\\rfloor + \\frac{\\pi}{4} \\right)} + 4 \\sqrt{2} \\left\\lfloor{\\frac{x}{2 \\pi} + \\frac{1}{4}}\\right\\rfloor$"
      ],
      "text/plain": [
       "-2*sqrt(2)*cos(x/2 - pi*floor(x/(2*pi) + 1/4) + pi/4) + 4*sqrt(2)*floor(x/(2*pi) + 1/4)"
      ]
     },
     "execution_count": 3,
     "metadata": {},
     "output_type": "execute_result"
    }
   ],
   "source": [
    "a_ = 1\n",
    "x_ = x / 2 + pi / 4\n",
    "\n",
    "int_abssinax = S(2) / a_ * floor(a_ * x_ / pi) \\\n",
    "             - S(1) / a_ * cos(a_ * x_ - floor(a_ * x_ / pi) * pi)\n",
    "\n",
    "F_expr = expand(2 * sqrt(2) * int_abssinax)\n",
    "F_expr"
   ]
  },
  {
   "cell_type": "markdown",
   "metadata": {},
   "source": [
    "# Проверка"
   ]
  },
  {
   "cell_type": "markdown",
   "metadata": {},
   "source": [
    "Проверим с помощью сравнения символьного и численного решений определенного интеграла: \n",
    "\n",
    "$$I(x) = \\int \\limits_{x_0}^x f(t) \\, dt$$\n",
    "\n",
    "Символьное решение:\n",
    "\n",
    "$$I(x) = F(x) - F(x_0)$$\n",
    "\n",
    "Численное решение:\n",
    "\n",
    "$$I(x_i^*) \\approx S(x_i^*) = \\sum _{j=1}^i f(x_j^*) \\, \\Delta x_j$$\n",
    "$$\\Delta x_i = x_i - x_{i-1}$$\n",
    "$$x_i^* = \\frac {x_i + x_{i-1}} {2}$$"
   ]
  },
  {
   "cell_type": "code",
   "execution_count": 5,
   "metadata": {},
   "outputs": [
    {
     "data": {
      "image/png": "[encoded data removed]",
      "text/plain": [
       "<Figure size 432x288 with 1 Axes>"
      ]
     },
     "metadata": {
      "needs_background": "light"
     },
     "output_type": "display_data"
    }
   ],
   "source": [
    "import matplotlib.pyplot as plt\n",
    "import numpy as np\n",
    "\n",
    "plt.grid()\n",
    "plt.title('решения')\n",
    "plt.xlabel('$x$')\n",
    "plt.ylabel('$I$')\n",
    "\n",
    "from sympy.abc import x\n",
    "F_expr_np = lambdify(x, F_expr, 'numpy')\n",
    "\n",
    "x0 = -10\n",
    "\n",
    "x = np.linspace(-10, 10, 100)\n",
    "I = F_expr_np(x) - F_expr_np(x0)\n",
    "\n",
    "plt.plot(x, I, label='символьное')\n",
    "\n",
    "\n",
    "f_expr = lambda x: np.sqrt(1 + np.sin(x))\n",
    "\n",
    "x = np.linspace(-10, 10, 1000)\n",
    "h = x[1] - x[0]\n",
    "\n",
    "x_ = (x[:-1] + x[1:]) / 2\n",
    "S = np.cumsum(f_expr(x_) * h)\n",
    "\n",
    "plt.plot(x_, S, '--', label='численное')\n",
    "\n",
    "plt.legend();"
   ]
  }
 ],
 "metadata": {
  "kernelspec": {
   "display_name": "Python 3",
   "language": "python",
   "name": "python3"
  },
  "language_info": {
   "codemirror_mode": {
    "name": "ipython",
    "version": 3
   },
   "file_extension": ".py",
   "mimetype": "text/x-python",
   "name": "python",
   "nbconvert_exporter": "python",
   "pygments_lexer": "ipython3",
   "version": "3.8.2"
  }
 },
 "nbformat": 4,
 "nbformat_minor": 4
}
