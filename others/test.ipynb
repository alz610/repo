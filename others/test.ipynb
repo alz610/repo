{
 "cells": [
  {
   "cell_type": "code",
   "execution_count": 1,
   "metadata": {
    "tags": []
   },
   "outputs": [],
   "source": [
    "%matplotlib tk"
   ]
  },
  {
   "cell_type": "code",
   "execution_count": 1,
   "metadata": {},
   "outputs": [],
   "source": [
    "import matplotlib \n",
    "matplotlib.use('TKAgg')"
   ]
  },
  {
   "cell_type": "code",
   "execution_count": 1,
   "metadata": {},
   "outputs": [],
   "source": [
    "%matplotlib qt"
   ]
  },
  {
   "cell_type": "code",
   "execution_count": null,
   "metadata": {
    "tags": []
   },
   "outputs": [],
   "source": [
    "import matplotlib \n",
    "matplotlib.use('QT5Agg')"
   ]
  },
  {
   "cell_type": "code",
   "execution_count": null,
   "metadata": {},
   "outputs": [],
   "source": [
    "%matplotlib gtk3"
   ]
  },
  {
   "cell_type": "code",
   "execution_count": 4,
   "metadata": {},
   "outputs": [
    {
     "data": {
      "text/markdown": [
       "$$f_{X, Y, Z}(x, y, z) = f_{X, Y}(x, y) \\, f_{Z|XY}(x, y, z)\n",
       "= f_{X, Y}(x, y) \\, f_{Z|XY}(x, y, z)$$\n"
      ],
      "text/plain": [
       "<IPython.core.display.Markdown object>"
      ]
     },
     "metadata": {},
     "output_type": "display_data"
    }
   ],
   "source": [
    "%%markdown\n",
    "$$f_{X, Y, Z}(x, y, z) = f_{X, Y}(x, y) \\, f_{Z|XY}(x, y, z)\n",
    "= f_{X, Y}(x, y) \\, f_{Z|XY}(x, y, z)$$"
   ]
  },
  {
   "cell_type": "code",
   "execution_count": null,
   "metadata": {},
   "outputs": [],
   "source": [
    "import matplotlib \n",
    "matplotlib.use('GTK3Agg')"
   ]
  },
  {
   "cell_type": "code",
   "execution_count": 1,
   "metadata": {},
   "outputs": [],
   "source": [
    "import matplotlib\n",
    "matplotlib.use('qt5cairo')\n",
    "# matplotlib.use('tkcairo')\n",
    "# matplotlib.use('gtk3agg')"
   ]
  },
  {
   "cell_type": "code",
   "execution_count": 1,
   "metadata": {},
   "outputs": [],
   "source": [
    "import matplotlib\n",
    "matplotlib.use(\"module://mplcairo.qt\")"
   ]
  },
  {
   "cell_type": "code",
   "execution_count": 2,
   "metadata": {},
   "outputs": [],
   "source": [
    "%matplotlib widget"
   ]
  },
  {
   "cell_type": "code",
   "execution_count": 3,
   "metadata": {},
   "outputs": [],
   "source": [
    "def init_mpl():\n",
    "    import matplotlib as mpl\n",
    "    from jupyterthemes import jtplot\n",
    "\n",
    "    # jtplot.style(theme='monokai', ticks=True, grid=True)\n",
    "    jtplot.style(theme='monokai', context='notebook', ticks=True, grid=True)\n",
    "\n",
    "    colors = mpl.rcParams['axes.prop_cycle'].by_key()['color']\n",
    "    i = 6\n",
    "    colors[i] = hex(int(colors[i].replace('#', '0x'), 16) ^ 0xFFFFFF).replace('0x', '#')\n",
    "    mpl.rcParams['axes.prop_cycle'] = mpl.cycler(color=colors)\n",
    "\n",
    "    mpl.rcParams['path.simplify'] = True\n",
    "    mpl.rcParams['path.simplify_threshold'] = 1\n",
    "    mpl.rcParams['agg.path.chunksize'] = 100000\n",
    "\n",
    "\n",
    "init_mpl()"
   ]
  },
  {
   "cell_type": "code",
   "execution_count": 2,
   "metadata": {},
   "outputs": [],
   "source": [
    "%matplotlib qt\n",
    "import matplotlib.pyplot as plt\n",
    "import numpy as np\n",
    "\n",
    "# init_mpl()\n",
    "\n",
    "x = np.linspace(0, 2 * np.pi)\n",
    "plt.plot(x, np.sin(x))\n",
    "plt.show()"
   ]
  },
  {
   "cell_type": "code",
   "execution_count": 1,
   "metadata": {},
   "outputs": [],
   "source": [
    "import matplotlib\n",
    "matplotlib.use(\"module://mplcairo.qt\")\n",
    "import matplotlib.pyplot as plt\n",
    "import numpy as np\n",
    "\n",
    "# init_mpl()\n",
    "\n",
    "x = np.linspace(0, 2 * np.pi)\n",
    "plt.plot(x, np.sin(x))\n",
    "plt.show()"
   ]
  },
  {
   "cell_type": "code",
   "execution_count": 1,
   "metadata": {},
   "outputs": [],
   "source": [
    "%matplotlib tk\n",
    "import matplotlib.pyplot as plt\n",
    "import numpy as np\n",
    "\n",
    "# init_mpl()\n",
    "\n",
    "x = np.linspace(0, 2 * np.pi)\n",
    "plt.plot(x, np.sin(x))\n",
    "plt.show()"
   ]
  },
  {
   "cell_type": "code",
   "execution_count": 4,
   "metadata": {},
   "outputs": [
    {
     "data": {
      "application/vnd.jupyter.widget-view+json": {
       "model_id": "cb75b4a325ab40a19daba5cb3b4e62a9",
       "version_major": 2,
       "version_minor": 0
      },
      "text/plain": [
       "Canvas(toolbar=Toolbar(toolitems=[('Home', 'Reset original view', 'home', 'home'), ('Back', 'Back to previous …"
      ]
     },
     "metadata": {},
     "output_type": "display_data"
    }
   ],
   "source": [
    "# %matplotlib widget\n",
    "import matplotlib.pyplot as plt\n",
    "import numpy as np\n",
    "\n",
    "# init_mpl()\n",
    "\n",
    "x = np.linspace(0, 2 * np.pi)\n",
    "plt.plot(x, np.sin(x))\n",
    "plt.show()"
   ]
  },
  {
   "cell_type": "code",
   "execution_count": 1,
   "metadata": {},
   "outputs": [],
   "source": [
    "%matplotlib tk\n",
    "import matplotlib\n",
    "matplotlib.use(\"module://mplcairo.tk\")"
   ]
  },
  {
   "cell_type": "code",
   "execution_count": 2,
   "metadata": {},
   "outputs": [],
   "source": [
    "import matplotlib.pyplot as plt\n",
    "import numpy as np\n",
    "\n",
    "# init_mpl()\n",
    "\n",
    "x = np.linspace(0, 2 * np.pi)\n",
    "plt.plot(x, np.sin(x))\n",
    "plt.show()"
   ]
  },
  {
   "cell_type": "code",
   "execution_count": 4,
   "metadata": {},
   "outputs": [],
   "source": [
    "import matplotlib.pyplot as plt\n",
    "import numpy as np"
   ]
  },
  {
   "cell_type": "code",
   "execution_count": 7,
   "metadata": {},
   "outputs": [],
   "source": [
    "x = np.linspace(0, 2 * np.pi)\n",
    "plt.plot(x, np.sin(x))\n",
    "plt.show()"
   ]
  },
  {
   "cell_type": "code",
   "execution_count": null,
   "metadata": {},
   "outputs": [],
   "source": [
    "plt.ion()\n",
    "\n",
    "x = np.linspace(0, 2 * np.pi)\n",
    "plt.plot(x, np.sin(x));"
   ]
  },
  {
   "cell_type": "code",
   "execution_count": 2,
   "metadata": {},
   "outputs": [],
   "source": [
    "plt.ioff()\n",
    "\n",
    "x = np.linspace(0, 2 * np.pi)\n",
    "plt.plot(x, np.sin(x))\n",
    "\n",
    "plt.show()"
   ]
  },
  {
   "cell_type": "code",
   "execution_count": null,
   "metadata": {},
   "outputs": [],
   "source": [
    "# Setup, and create the data to plot\n",
    "y = np.random.rand(100000)\n",
    "y[50000:] *= 2\n",
    "y[np.logspace(1, np.log10(50000), 400).astype(int)] = -1\n",
    "\n",
    "plt.figure()\n",
    "plt.plot(y)\n",
    "plt.show()"
   ]
  },
  {
   "cell_type": "code",
   "execution_count": null,
   "metadata": {},
   "outputs": [],
   "source": [
    "import time\n",
    "from matplotlib import pyplot as plt\n",
    "import numpy as np\n",
    "\n",
    "\n",
    "def live_update_demo(blit = False):\n",
    "    x = np.linspace(0,50., num=100)\n",
    "    X,Y = np.meshgrid(x,x)\n",
    "    fig = plt.figure()\n",
    "    ax1 = fig.add_subplot(2, 1, 1)\n",
    "    ax2 = fig.add_subplot(2, 1, 2)\n",
    "\n",
    "    img = ax1.imshow(X, vmin=-1, vmax=1, interpolation=\"None\", cmap=\"RdBu\")\n",
    "    # img = ax1.pcolormesh(x, x, X, vmin=-1, vmax=1, cmap=\"RdBu\")\n",
    "    # img.set_visible(False)\n",
    "\n",
    "\n",
    "    line, = ax2.plot([], lw=3)\n",
    "    text = ax2.text(0.8,0.5, \"\")\n",
    "\n",
    "    ax2.set_xlim(x.min(), x.max())\n",
    "    ax2.set_ylim([-1.1, 1.1])\n",
    "\n",
    "    fig.canvas.draw()   # note that the first draw comes before setting data \n",
    "\n",
    "\n",
    "    if blit:\n",
    "        # cache the background\n",
    "        axbackground = fig.canvas.copy_from_bbox(ax1.bbox)\n",
    "        ax2background = fig.canvas.copy_from_bbox(ax2.bbox)\n",
    "\n",
    "    # img.set_visible(True)\n",
    "    plt.show(block=False)\n",
    "\n",
    "    # return\n",
    "\n",
    "\n",
    "    t_start = time.time()\n",
    "    k=0.\n",
    "\n",
    "    for i in np.arange(1000):\n",
    "        data = np.sin(X/3.+k)*np.cos(Y/3.+k)\n",
    "        # img.set_array(data.ravel())\n",
    "        img.set_data(data)\n",
    "        line.set_data(x, np.sin(x/3.+k))\n",
    "        tx = 'Mean Frame Rate:\\n {fps:.3f}FPS'.format(fps= ((i+1) / (time.time() - t_start)) ) \n",
    "        text.set_text(tx)\n",
    "        #print tx\n",
    "        k+=0.11\n",
    "        if blit:\n",
    "            # restore background\n",
    "            fig.canvas.restore_region(axbackground)\n",
    "            fig.canvas.restore_region(ax2background)\n",
    "\n",
    "            # redraw just the points\n",
    "            ax1.draw_artist(img)\n",
    "            ax2.draw_artist(line)\n",
    "            ax2.draw_artist(text)\n",
    "\n",
    "            # fill in the axes rectangle\n",
    "            fig.canvas.blit(ax1.bbox)\n",
    "            fig.canvas.blit(ax2.bbox)\n",
    "\n",
    "            # in this post http://bastibe.de/2013-05-30-speeding-up-matplotlib.html\n",
    "            # it is mentionned that blit causes strong memory leakage. \n",
    "            # however, I did not observe that.\n",
    "\n",
    "        else:\n",
    "            # redraw everything\n",
    "            fig.canvas.draw()\n",
    "\n",
    "        fig.canvas.flush_events()\n",
    "        #alternatively you could use\n",
    "        #plt.pause(0.000000000001) \n",
    "        # however plt.pause calls canvas.draw(), as can be read here:\n",
    "        #http://bastibe.de/2013-05-30-speeding-up-matplotlib.html\n",
    "\n",
    "\n",
    "# live_update_demo(True)   # 175 fps\n",
    "live_update_demo(False) # 28 fps"
   ]
  },
  {
   "cell_type": "code",
   "execution_count": 1,
   "metadata": {},
   "outputs": [
    {
     "ename": "SystemExit",
     "evalue": "0",
     "output_type": "error",
     "traceback": [
      "An exception has occurred, use %tb to see the full traceback.\n",
      "\u001b[0;31mSystemExit\u001b[0m\u001b[0;31m:\u001b[0m 0\n"
     ]
    }
   ],
   "source": [
    "import sys\n",
    "from PyQt5.QtWidgets import QDialog, QApplication, QPushButton, QVBoxLayout\n",
    "from PyQt5 import QtCore\n",
    "import matplotlib\n",
    "matplotlib.use('Qt5Agg')\n",
    "\n",
    "from matplotlib.figure import Figure\n",
    "from matplotlib.backends.backend_qt5agg import FigureCanvasQTAgg as FigureCanvas\n",
    "from matplotlib.backends.backend_qt5agg import NavigationToolbar2QT as NavigationToolbar\n",
    "# import matplotlib.pyplot as plt\n",
    "\n",
    "import random\n",
    "\n",
    "class Window(QDialog):\n",
    "    def __init__(self, parent=None):\n",
    "        super(Window, self).__init__(parent)\n",
    "\n",
    "        # a figure instance to plot on\n",
    "        self.figure = Figure()\n",
    "        self.axes = self.figure.add_subplot(111)\n",
    "\n",
    "        # this is the Canvas Widget that displays the `figure`\n",
    "        # it takes the `figure` instance as a parameter to __init__\n",
    "        self.canvas = FigureCanvas(self.figure)\n",
    "\n",
    "        # this is the Navigation widget\n",
    "        # it takes the Canvas widget and a parent\n",
    "        self.toolbar = NavigationToolbar(self.canvas, self)\n",
    "\n",
    "        # set the layout\n",
    "        layout = QVBoxLayout()\n",
    "        layout.addWidget(self.toolbar)\n",
    "        layout.addWidget(self.canvas)\n",
    "        self.setLayout(layout)\n",
    "\n",
    "        n_data = 50\n",
    "        self.xdata = list(range(n_data))\n",
    "        self.ydata = [random.randint(0, 10) for i in range(n_data)]\n",
    "\n",
    "        # We need to store a reference to the plotted line \n",
    "        # somewhere, so we can apply the new data to it.\n",
    "        plot_refs = self.axes.plot(self.xdata, self.ydata, 'r')\n",
    "        self._plot_ref = plot_refs[0]\n",
    "        self.update_plot()\n",
    "\n",
    "        self.show()\n",
    "\n",
    "        # Setup a timer to trigger the redraw by calling update_plot.\n",
    "        self.timer = QtCore.QTimer()\n",
    "        self.timer.setInterval(1)\n",
    "        self.timer.timeout.connect(self.update_plot)\n",
    "        self.timer.start()\n",
    "\n",
    "\n",
    "    def update_plot(self):\n",
    "        # Drop off the first y element, append a new one.\n",
    "        self.ydata = self.ydata[1:] + [random.randint(0, 10)]\n",
    "\n",
    "        # We have a reference, we can use it to update the data for that line.\n",
    "        self._plot_ref.set_ydata(self.ydata)\n",
    "\n",
    "        # Trigger the canvas to update and redraw.\n",
    "        self.canvas.draw()\n",
    "\n",
    "\n",
    "if __name__ == '__main__':\n",
    "    app = QApplication(sys.argv)\n",
    "\n",
    "    main = Window()\n",
    "    main.show()\n",
    "\n",
    "    sys.exit(app.exec_())"
   ]
  },
  {
   "cell_type": "code",
   "execution_count": 6,
   "metadata": {},
   "outputs": [],
   "source": [
    "import time\n",
    "import numpy as np\n",
    "import matplotlib.pyplot as plt\n",
    "import matplotlib.animation as animation\n",
    "\n",
    "fig, ax = plt.subplots()\n",
    "\n",
    "\n",
    "def f(x, y):\n",
    "    return np.sin(x) + np.cos(y)\n",
    "\n",
    "x = np.linspace(0, 2 * np.pi, 400)\n",
    "y = np.linspace(0, 2 * np.pi, 400).reshape(-1, 1)\n",
    "\n",
    "im = ax.imshow(f(x, y), animated=True)\n",
    "text = ax.text(200,200, \"\")\n",
    "\n",
    "class FPS():\n",
    "    def __init__(self, avg=10):\n",
    "        self.fps = np.empty(avg)\n",
    "        self.t0 = time.time()\n",
    "    def tick(self):\n",
    "        t = time.time()\n",
    "        self.fps[1:] = self.fps[:-1]\n",
    "        self.fps[0] = 1./(t-self.t0)\n",
    "        self.t0 = t\n",
    "        return self.fps.mean()\n",
    "\n",
    "fps = FPS(100)\n",
    "\n",
    "def updatefig(i):\n",
    "    global x, y\n",
    "    x += np.pi / 15.\n",
    "    y += np.pi / 20.\n",
    "    im.set_array(f(x, y))\n",
    "    tx = 'Mean Frame Rate:\\n {fps:.3f}FPS'.format(fps= fps.tick() ) \n",
    "    text.set_text(tx)     \n",
    "    return im, text,\n",
    "\n",
    "ani = animation.FuncAnimation(fig, updatefig, interval=1, blit=True)\n",
    "plt.show()"
   ]
  },
  {
   "cell_type": "code",
   "execution_count": 5,
   "metadata": {},
   "outputs": [
    {
     "ename": "KeyboardInterrupt",
     "evalue": "",
     "output_type": "error",
     "traceback": [
      "\u001b[0;31m---------------------------------------------------------------------------\u001b[0m",
      "\u001b[0;31mKeyboardInterrupt\u001b[0m                         Traceback (most recent call last)",
      "\u001b[0;32m<ipython-input-5-1159feb4da21>\u001b[0m in \u001b[0;36m_update\u001b[0;34m(self)\u001b[0m\n\u001b[1;32m     57\u001b[0m         \u001b[0mself\u001b[0m\u001b[0;34m.\u001b[0m\u001b[0mimg\u001b[0m\u001b[0;34m.\u001b[0m\u001b[0msetImage\u001b[0m\u001b[0;34m(\u001b[0m\u001b[0mself\u001b[0m\u001b[0;34m.\u001b[0m\u001b[0mf\u001b[0m\u001b[0;34m(\u001b[0m\u001b[0mself\u001b[0m\u001b[0;34m.\u001b[0m\u001b[0mx\u001b[0m\u001b[0;34m,\u001b[0m \u001b[0mself\u001b[0m\u001b[0;34m.\u001b[0m\u001b[0my\u001b[0m\u001b[0;34m)\u001b[0m\u001b[0;34m)\u001b[0m\u001b[0;34m\u001b[0m\u001b[0;34m\u001b[0m\u001b[0m\n\u001b[1;32m     58\u001b[0m \u001b[0;34m\u001b[0m\u001b[0m\n\u001b[0;32m---> 59\u001b[0;31m         \u001b[0mtx\u001b[0m \u001b[0;34m=\u001b[0m \u001b[0;34m'Mean Frame Rate:\\n {fps:.3f}FPS'\u001b[0m\u001b[0;34m.\u001b[0m\u001b[0mformat\u001b[0m\u001b[0;34m(\u001b[0m\u001b[0mfps\u001b[0m\u001b[0;34m=\u001b[0m \u001b[0mfps\u001b[0m\u001b[0;34m.\u001b[0m\u001b[0mtick\u001b[0m\u001b[0;34m(\u001b[0m\u001b[0;34m)\u001b[0m \u001b[0;34m)\u001b[0m\u001b[0;34m\u001b[0m\u001b[0;34m\u001b[0m\u001b[0m\n\u001b[0m\u001b[1;32m     60\u001b[0m         \u001b[0mself\u001b[0m\u001b[0;34m.\u001b[0m\u001b[0mlabel\u001b[0m\u001b[0;34m.\u001b[0m\u001b[0msetText\u001b[0m\u001b[0;34m(\u001b[0m\u001b[0mtx\u001b[0m\u001b[0;34m)\u001b[0m\u001b[0;34m\u001b[0m\u001b[0;34m\u001b[0m\u001b[0m\n\u001b[1;32m     61\u001b[0m         \u001b[0mQtCore\u001b[0m\u001b[0;34m.\u001b[0m\u001b[0mQTimer\u001b[0m\u001b[0;34m.\u001b[0m\u001b[0msingleShot\u001b[0m\u001b[0;34m(\u001b[0m\u001b[0;36m1\u001b[0m\u001b[0;34m,\u001b[0m \u001b[0mself\u001b[0m\u001b[0;34m.\u001b[0m\u001b[0m_update\u001b[0m\u001b[0;34m)\u001b[0m\u001b[0;34m\u001b[0m\u001b[0;34m\u001b[0m\u001b[0m\n",
      "\u001b[0;32m<ipython-input-5-1159feb4da21>\u001b[0m in \u001b[0;36mtick\u001b[0;34m(self)\u001b[0m\n\u001b[1;32m     14\u001b[0m         \u001b[0mself\u001b[0m\u001b[0;34m.\u001b[0m\u001b[0mfps\u001b[0m\u001b[0;34m[\u001b[0m\u001b[0;36m0\u001b[0m\u001b[0;34m]\u001b[0m \u001b[0;34m=\u001b[0m \u001b[0;36m1.\u001b[0m\u001b[0;34m/\u001b[0m\u001b[0;34m(\u001b[0m\u001b[0mt\u001b[0m\u001b[0;34m-\u001b[0m\u001b[0mself\u001b[0m\u001b[0;34m.\u001b[0m\u001b[0mt0\u001b[0m\u001b[0;34m)\u001b[0m\u001b[0;34m\u001b[0m\u001b[0;34m\u001b[0m\u001b[0m\n\u001b[1;32m     15\u001b[0m         \u001b[0mself\u001b[0m\u001b[0;34m.\u001b[0m\u001b[0mt0\u001b[0m \u001b[0;34m=\u001b[0m \u001b[0mt\u001b[0m\u001b[0;34m\u001b[0m\u001b[0;34m\u001b[0m\u001b[0m\n\u001b[0;32m---> 16\u001b[0;31m         \u001b[0;32mreturn\u001b[0m \u001b[0mself\u001b[0m\u001b[0;34m.\u001b[0m\u001b[0mfps\u001b[0m\u001b[0;34m.\u001b[0m\u001b[0mmean\u001b[0m\u001b[0;34m(\u001b[0m\u001b[0;34m)\u001b[0m\u001b[0;34m\u001b[0m\u001b[0;34m\u001b[0m\u001b[0m\n\u001b[0m\u001b[1;32m     17\u001b[0m \u001b[0;34m\u001b[0m\u001b[0m\n\u001b[1;32m     18\u001b[0m \u001b[0mfps\u001b[0m \u001b[0;34m=\u001b[0m \u001b[0mFPS\u001b[0m\u001b[0;34m(\u001b[0m\u001b[0;36m100\u001b[0m\u001b[0;34m)\u001b[0m\u001b[0;34m\u001b[0m\u001b[0;34m\u001b[0m\u001b[0m\n",
      "\u001b[0;32m~/miniconda3/envs/sci3/lib/python3.8/site-packages/numpy/core/_methods.py\u001b[0m in \u001b[0;36m_mean\u001b[0;34m(a, axis, dtype, out, keepdims)\u001b[0m\n\u001b[1;32m    145\u001b[0m \u001b[0;34m\u001b[0m\u001b[0m\n\u001b[1;32m    146\u001b[0m     \u001b[0mis_float16_result\u001b[0m \u001b[0;34m=\u001b[0m \u001b[0;32mFalse\u001b[0m\u001b[0;34m\u001b[0m\u001b[0;34m\u001b[0m\u001b[0m\n\u001b[0;32m--> 147\u001b[0;31m     \u001b[0mrcount\u001b[0m \u001b[0;34m=\u001b[0m \u001b[0m_count_reduce_items\u001b[0m\u001b[0;34m(\u001b[0m\u001b[0marr\u001b[0m\u001b[0;34m,\u001b[0m \u001b[0maxis\u001b[0m\u001b[0;34m)\u001b[0m\u001b[0;34m\u001b[0m\u001b[0;34m\u001b[0m\u001b[0m\n\u001b[0m\u001b[1;32m    148\u001b[0m     \u001b[0;31m# Make this warning show up first\u001b[0m\u001b[0;34m\u001b[0m\u001b[0;34m\u001b[0m\u001b[0;34m\u001b[0m\u001b[0m\n\u001b[1;32m    149\u001b[0m     \u001b[0;32mif\u001b[0m \u001b[0mrcount\u001b[0m \u001b[0;34m==\u001b[0m \u001b[0;36m0\u001b[0m\u001b[0;34m:\u001b[0m\u001b[0;34m\u001b[0m\u001b[0;34m\u001b[0m\u001b[0m\n",
      "\u001b[0;32m~/miniconda3/envs/sci3/lib/python3.8/site-packages/numpy/core/_methods.py\u001b[0m in \u001b[0;36m_count_reduce_items\u001b[0;34m(arr, axis)\u001b[0m\n\u001b[1;32m     63\u001b[0m         \u001b[0maxis\u001b[0m \u001b[0;34m=\u001b[0m \u001b[0;34m(\u001b[0m\u001b[0maxis\u001b[0m\u001b[0;34m,\u001b[0m\u001b[0;34m)\u001b[0m\u001b[0;34m\u001b[0m\u001b[0;34m\u001b[0m\u001b[0m\n\u001b[1;32m     64\u001b[0m     \u001b[0mitems\u001b[0m \u001b[0;34m=\u001b[0m \u001b[0;36m1\u001b[0m\u001b[0;34m\u001b[0m\u001b[0;34m\u001b[0m\u001b[0m\n\u001b[0;32m---> 65\u001b[0;31m     \u001b[0;32mfor\u001b[0m \u001b[0max\u001b[0m \u001b[0;32min\u001b[0m \u001b[0maxis\u001b[0m\u001b[0;34m:\u001b[0m\u001b[0;34m\u001b[0m\u001b[0;34m\u001b[0m\u001b[0m\n\u001b[0m\u001b[1;32m     66\u001b[0m         \u001b[0mitems\u001b[0m \u001b[0;34m*=\u001b[0m \u001b[0marr\u001b[0m\u001b[0;34m.\u001b[0m\u001b[0mshape\u001b[0m\u001b[0;34m[\u001b[0m\u001b[0mmu\u001b[0m\u001b[0;34m.\u001b[0m\u001b[0mnormalize_axis_index\u001b[0m\u001b[0;34m(\u001b[0m\u001b[0max\u001b[0m\u001b[0;34m,\u001b[0m \u001b[0marr\u001b[0m\u001b[0;34m.\u001b[0m\u001b[0mndim\u001b[0m\u001b[0;34m)\u001b[0m\u001b[0;34m]\u001b[0m\u001b[0;34m\u001b[0m\u001b[0;34m\u001b[0m\u001b[0m\n\u001b[1;32m     67\u001b[0m     \u001b[0;32mreturn\u001b[0m \u001b[0mitems\u001b[0m\u001b[0;34m\u001b[0m\u001b[0;34m\u001b[0m\u001b[0m\n",
      "\u001b[0;31mKeyboardInterrupt\u001b[0m: "
     ]
    }
   ],
   "source": [
    "import sys\n",
    "import time\n",
    "from pyqtgraph.Qt import QtCore, QtGui\n",
    "import numpy as np\n",
    "import pyqtgraph as pg\n",
    "\n",
    "class FPS():\n",
    "    def __init__(self, avg=10):\n",
    "        self.fps = np.empty(avg)\n",
    "        self.t0 = time.time()\n",
    "    def tick(self):\n",
    "        t = time.time()\n",
    "        self.fps[1:] = self.fps[:-1]\n",
    "        self.fps[0] = 1./(t-self.t0)\n",
    "        self.t0 = t\n",
    "        return self.fps.mean()\n",
    "\n",
    "fps = FPS(100)\n",
    "\n",
    "class App(QtGui.QMainWindow):\n",
    "    def __init__(self, parent=None):\n",
    "        super(App, self).__init__(parent)\n",
    "\n",
    "        #### Create Gui Elements ###########\n",
    "        self.mainbox = QtGui.QWidget()\n",
    "        self.setCentralWidget(self.mainbox)\n",
    "        self.mainbox.setLayout(QtGui.QVBoxLayout())\n",
    "\n",
    "        self.canvas = pg.GraphicsLayoutWidget()\n",
    "        self.mainbox.layout().addWidget(self.canvas)\n",
    "\n",
    "        self.label = QtGui.QLabel()\n",
    "        self.mainbox.layout().addWidget(self.label)\n",
    "\n",
    "        self.view = self.canvas.addViewBox()\n",
    "        self.view.setAspectLocked(True)\n",
    "        self.view.setRange(QtCore.QRectF(0,0, 100, 100))\n",
    "\n",
    "        #  image plot\n",
    "        self.img = pg.ImageItem(border='w')\n",
    "        self.view.addItem(self.img)\n",
    "\n",
    "        #### Set Data  #####################\n",
    "        self.x = np.linspace(0, 2 * np.pi, 400)\n",
    "        self.y = np.linspace(0, 2 * np.pi, 400).reshape(-1, 1)\n",
    "\n",
    "        #### Start  #####################\n",
    "        self._update()\n",
    "        \n",
    "    def f(self, x, y):\n",
    "            return np.sin(x) + np.cos(y)\n",
    "        \n",
    "    def _update(self):\n",
    "\n",
    "        self.x += np.pi / 15.\n",
    "        self.y += np.pi / 20.\n",
    "        self.img.setImage(self.f(self.x, self.y))\n",
    "\n",
    "        tx = 'Mean Frame Rate:\\n {fps:.3f}FPS'.format(fps= fps.tick() ) \n",
    "        self.label.setText(tx)\n",
    "        QtCore.QTimer.singleShot(1, self._update)\n",
    "\n",
    "\n",
    "if __name__ == '__main__':\n",
    "\n",
    "    app = QtGui.QApplication(sys.argv)\n",
    "    thisapp = App()\n",
    "    thisapp.show()\n",
    "    sys.exit(app.exec_())"
   ]
  },
  {
   "cell_type": "code",
   "execution_count": 4,
   "metadata": {},
   "outputs": [],
   "source": [
    "import sys\n",
    "import time\n",
    "from pyqtgraph.Qt import QtCore, QtGui\n",
    "import numpy as np\n",
    "import pyqtgraph as pg\n",
    "\n",
    "\n",
    "class App(QtGui.QMainWindow):\n",
    "    def __init__(self, parent=None):\n",
    "        super(App, self).__init__(parent)\n",
    "\n",
    "        #### Create Gui Elements ###########\n",
    "        self.mainbox = QtGui.QWidget()\n",
    "        self.setCentralWidget(self.mainbox)\n",
    "        self.mainbox.setLayout(QtGui.QVBoxLayout())\n",
    "\n",
    "        self.canvas = pg.GraphicsLayoutWidget()\n",
    "        self.mainbox.layout().addWidget(self.canvas)\n",
    "\n",
    "        self.label = QtGui.QLabel()\n",
    "        self.mainbox.layout().addWidget(self.label)\n",
    "\n",
    "        self.view = self.canvas.addViewBox()\n",
    "        self.view.setAspectLocked(True)\n",
    "        self.view.setRange(QtCore.QRectF(0,0, 100, 100))\n",
    "\n",
    "        #  image plot\n",
    "        self.img = pg.ImageItem(border='w')\n",
    "        self.view.addItem(self.img)\n",
    "\n",
    "        self.canvas.nextRow()\n",
    "        #  line plot\n",
    "        self.otherplot = self.canvas.addPlot()\n",
    "        self.h2 = self.otherplot.plot(pen='y')\n",
    "\n",
    "\n",
    "        #### Set Data  #####################\n",
    "\n",
    "        self.x = np.linspace(0,50., num=100)\n",
    "        self.X,self.Y = np.meshgrid(self.x,self.x)\n",
    "\n",
    "        self.counter = 0\n",
    "        self.fps = 0.\n",
    "        self.lastupdate = time.time()\n",
    "\n",
    "        #### Start  #####################\n",
    "        self._update()\n",
    "\n",
    "    def _update(self):\n",
    "\n",
    "        self.data = np.sin(self.X/3.+self.counter/9.)*np.cos(self.Y/3.+self.counter/9.)\n",
    "        self.ydata = np.sin(self.x/3.+ self.counter/9.)\n",
    "\n",
    "        self.img.setImage(self.data)\n",
    "        self.h2.setData(self.ydata)\n",
    "\n",
    "        now = time.time()\n",
    "        dt = (now-self.lastupdate)\n",
    "        if dt <= 0:\n",
    "            dt = 0.000000000001\n",
    "        fps2 = 1.0 / dt\n",
    "        self.lastupdate = now\n",
    "        self.fps = self.fps * 0.9 + fps2 * 0.1\n",
    "        tx = 'Mean Frame Rate:  {fps:.3f} FPS'.format(fps=self.fps )\n",
    "        self.label.setText(tx)\n",
    "        QtCore.QTimer.singleShot(1, self._update)\n",
    "        self.counter += 1\n",
    "\n",
    "\n",
    "if __name__ == '__main__':\n",
    "\n",
    "    app = QtGui.QApplication(sys.argv)\n",
    "    thisapp = App()\n",
    "    thisapp.show()\n",
    "    sys.exit(app.exec_())"
   ]
  },
  {
   "cell_type": "code",
   "execution_count": 20,
   "metadata": {},
   "outputs": [],
   "source": [
    "from mpl_toolkits.mplot3d import Axes3D\n",
    "import matplotlib.animation as animation\n",
    "import matplotlib.pyplot as plt\n",
    "import numpy as np\n",
    "\n",
    "\n",
    "class Ball:\n",
    "\n",
    "    def __init__(self, initpos, initvel, radius, M):\n",
    "        self.pos = initpos\n",
    "        self.vel = initvel\n",
    "        self.radius = radius\n",
    "        self.M = M\n",
    "\n",
    "    def step(self, dt):\n",
    "\n",
    "        self.pos += self.vel * dt\n",
    "        self.vel[2] += -9.81 * dt * self.M\n",
    "\n",
    "initpos = np.array([5., 5., 10.])\n",
    "initvel = np.array([0., 0., 0.])\n",
    "radius = .25\n",
    "M, dt = 1, .1\n",
    "\n",
    "\n",
    "test_ball = Ball(initpos, initvel, radius, M)\n",
    "\n",
    "fig, ax = plt.subplots(subplot_kw=dict(projection='3d'))\n",
    "\n",
    "pts = ax.plot([], [], [], 'bo', c='blue')\n",
    "\n",
    "\n",
    "def init():\n",
    "    null = np.array([])\n",
    "    for pt in pts:\n",
    "        pt.set_data(null, null)\n",
    "        pt.set_3d_properties(null)\n",
    "    ax.set_xlim3d(0, 1.5 * initpos[0])\n",
    "    ax.set_ylim3d(0, 1.5 * initpos[1])\n",
    "    ax.set_zlim3d(0, 1.5 * initpos[2])\n",
    "    return pts\n",
    "\n",
    "\n",
    "def animate(i):\n",
    "    test_ball.step(dt)\n",
    "    for pt in pts:\n",
    "        pt.set_data(test_ball.pos[0], test_ball.pos[1])\n",
    "        pt.set_3d_properties(test_ball.pos[2])\n",
    "        pt.set_markersize(10)\n",
    "\n",
    "    return pts\n",
    "\n",
    "anim = animation.FuncAnimation(fig, animate, init_func=init, frames=50)\n",
    "plt.show()\n",
    "# mywriter = animation.FFMpegWriter(fps=10)\n",
    "# anim.save('mymovie.mp4', writer=mywriter)"
   ]
  },
  {
   "cell_type": "code",
   "execution_count": 16,
   "metadata": {
    "tags": []
   },
   "outputs": [
    {
     "name": "stdout",
     "output_type": "stream",
     "text": [
      "> \u001b[0;32m/home/alz/miniconda3/envs/sci3/lib/python3.8/site-packages/mpl_toolkits/mplot3d/art3d.py\u001b[0m(143)\u001b[0;36mset_3d_properties\u001b[0;34m()\u001b[0m\n",
      "\u001b[0;32m    141 \u001b[0;31m        \u001b[0mxs\u001b[0m \u001b[0;34m=\u001b[0m \u001b[0mself\u001b[0m\u001b[0;34m.\u001b[0m\u001b[0mget_xdata\u001b[0m\u001b[0;34m(\u001b[0m\u001b[0;34m)\u001b[0m\u001b[0;34m\u001b[0m\u001b[0;34m\u001b[0m\u001b[0m\n",
      "\u001b[0m\u001b[0;32m    142 \u001b[0;31m        \u001b[0mys\u001b[0m \u001b[0;34m=\u001b[0m \u001b[0mself\u001b[0m\u001b[0;34m.\u001b[0m\u001b[0mget_ydata\u001b[0m\u001b[0;34m(\u001b[0m\u001b[0;34m)\u001b[0m\u001b[0;34m\u001b[0m\u001b[0;34m\u001b[0m\u001b[0m\n",
      "\u001b[0m\u001b[0;32m--> 143 \u001b[0;31m        \u001b[0mzs\u001b[0m \u001b[0;34m=\u001b[0m \u001b[0mnp\u001b[0m\u001b[0;34m.\u001b[0m\u001b[0mbroadcast_to\u001b[0m\u001b[0;34m(\u001b[0m\u001b[0mzs\u001b[0m\u001b[0;34m,\u001b[0m \u001b[0mxs\u001b[0m\u001b[0;34m.\u001b[0m\u001b[0mshape\u001b[0m\u001b[0;34m)\u001b[0m\u001b[0;34m\u001b[0m\u001b[0;34m\u001b[0m\u001b[0m\n",
      "\u001b[0m\u001b[0;32m    144 \u001b[0;31m        \u001b[0mself\u001b[0m\u001b[0;34m.\u001b[0m\u001b[0m_verts3d\u001b[0m \u001b[0;34m=\u001b[0m \u001b[0mjuggle_axes\u001b[0m\u001b[0;34m(\u001b[0m\u001b[0mxs\u001b[0m\u001b[0;34m,\u001b[0m \u001b[0mys\u001b[0m\u001b[0;34m,\u001b[0m \u001b[0mzs\u001b[0m\u001b[0;34m,\u001b[0m \u001b[0mzdir\u001b[0m\u001b[0;34m)\u001b[0m\u001b[0;34m\u001b[0m\u001b[0;34m\u001b[0m\u001b[0m\n",
      "\u001b[0m\u001b[0;32m    145 \u001b[0;31m        \u001b[0mself\u001b[0m\u001b[0;34m.\u001b[0m\u001b[0mstale\u001b[0m \u001b[0;34m=\u001b[0m \u001b[0;32mTrue\u001b[0m\u001b[0;34m\u001b[0m\u001b[0;34m\u001b[0m\u001b[0m\n",
      "\u001b[0m\n",
      "array([], dtype=float64)\n",
      "[]\n",
      "[]\n",
      "*** AttributeError: 'list' object has no attribute 'shape'\n",
      "[]\n",
      "[]\n"
     ]
    }
   ],
   "source": [
    "%debug"
   ]
  }
 ],
 "metadata": {
  "kernelspec": {
   "display_name": "sci5",
   "language": "python",
   "name": "sci5"
  },
  "language_info": {
   "codemirror_mode": {
    "name": "ipython",
    "version": 3
   },
   "file_extension": ".py",
   "mimetype": "text/x-python",
   "name": "python",
   "nbconvert_exporter": "python",
   "pygments_lexer": "ipython3",
   "version": "3.8.5"
  }
 },
 "nbformat": 4,
 "nbformat_minor": 4
}
