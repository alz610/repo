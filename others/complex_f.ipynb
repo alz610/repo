{
 "cells": [
  {
   "cell_type": "markdown",
   "metadata": {},
   "source": [
    "Визуализация комплексной функции:\n",
    "$$f(z, \\, \\phi) = (z^2 - 2.5) (z - 2.5 i) (z + 2.5 i)\n",
    "\\frac {(z - 2 - i)^2} {(z - e^{i \\phi})^2 (z - e^{2 i \\phi})^2}.$$\n",
    "\n",
    "Область визуализации:\n",
    "$$\\operatorname {Re} z \\in [-3, 3], \\quad \\operatorname {Im} z \\in [-3, 3], \\quad \\phi \\in [0, 2 \\pi).$$"
   ]
  },
  {
   "cell_type": "code",
   "execution_count": 1,
   "metadata": {},
   "outputs": [],
   "source": [
    "QT_GUI, JS_LOSSLESS, MPEG_LOSSY, MPEG_LOSSLESS = range(4)\n",
    "mode = MPEG_LOSSY"
   ]
  },
  {
   "cell_type": "code",
   "execution_count": 2,
   "metadata": {},
   "outputs": [],
   "source": [
    "if mode == QT_GUI:\n",
    "    %matplotlib qt\n",
    "    \n",
    "import numpy as np\n",
    "import matplotlib as mpl\n",
    "import matplotlib.pyplot as plt\n",
    "from matplotlib.animation import FuncAnimation\n",
    "from IPython.display import HTML, Video\n",
    "from matplotlib.colors import hsv_to_rgb"
   ]
  },
  {
   "cell_type": "code",
   "execution_count": 9,
   "metadata": {},
   "outputs": [],
   "source": [
    "if not mode == QT_GUI:\n",
    "    # %matplotlib inline\n",
    "    # %config InlineBackend.print_figure_kwargs = {'bbox_inches':None}\n",
    "    plt.ioff()\n",
    "\n",
    "# use typesetting program LaTeX \n",
    "plt.rcParams['text.usetex'] = True\n",
    "plt.rcParams['text.latex.preamble'] = r'\\usepackage{amsmath}'\n",
    "\n",
    "# use dark theme\n",
    "# plt.style.use('dark_background')\n",
    "from jupyterthemes import jtplot\n",
    "jtplot.style(theme='monokai', context='notebook', ticks=True, grid=False)\n",
    "\n",
    "# set dpi\n",
    "plt.rcParams['figure.dpi'] = 100"
   ]
  },
  {
   "cell_type": "code",
   "execution_count": 4,
   "metadata": {},
   "outputs": [],
   "source": [
    "def z_to_rgb(z):\n",
    "    # angle in (-pi, pi]\n",
    "    # H in (0, 1]\n",
    "    # H = (angle + pi) / 2pi = angle / 2pi + 1 / 2\n",
    "    H = np.angle(z) / (2 * np.pi) + .5\n",
    "\n",
    "    r = np.log2(1. + np.abs(z))\n",
    "    S = (1. + np.abs(np.sin(2. * np.pi * r))) / 2.\n",
    "    V = (1. + np.abs(np.cos(2. * np.pi * r))) / 2.\n",
    "\n",
    "    rgb = hsv_to_rgb(np.dstack((H, S, V)))\n",
    "    \n",
    "    return rgb"
   ]
  },
  {
   "cell_type": "code",
   "execution_count": 11,
   "metadata": {},
   "outputs": [
    {
     "name": "stdout",
     "output_type": "stream",
     "text": [
      "Saving frame 299 of 300\n",
      "CPU times: user 2min 27s, sys: 23.3 s, total: 2min 50s\n",
      "Wall time: 5min 12s\n"
     ]
    },
    {
     "data": {
      "text/html": [
       "<video src=\"complex_f_lossy.mp4\" controls loop autoplay  >\n",
       "      Your browser does not support the <code>video</code> element.\n",
       "    </video>"
      ],
      "text/plain": [
       "<IPython.core.display.Video object>"
      ]
     },
     "metadata": {},
     "output_type": "display_data"
    }
   ],
   "source": [
    "f = lambda z, phi: (\n",
    "    (z ** 2 - 2.5) * (z - 2.5 * 1j) * (z + 2.5 * 1j)\n",
    "  * (z - 2 - 1j) ** 2 / ((z - np.exp(1j * phi)) ** 2\n",
    "  * (z - np.exp(1j * 2 * phi)) ** 2)\n",
    ")\n",
    "\n",
    "\n",
    "r = 3\n",
    "n = 1000\n",
    "x = np.linspace(-r, r, n)\n",
    "y = np.linspace(-r, r, n)\n",
    "X, Y = np.meshgrid(x, y, sparse=True)\n",
    "z = X + 1j * Y\n",
    "\n",
    "\n",
    "fig = plt.figure()\n",
    "ax = plt.subplot(xlabel='$\\operatorname {Re} z$', ylabel='$\\operatorname {Im} z$')\n",
    "# ax = plt.subplot(xlabel='$\\Re \\, \\{z\\}$', ylabel='$\\Im \\, \\{z\\}$')\n",
    "\n",
    "a = np.zeros(X.shape)\n",
    "im = plt.imshow(a, origin='lower', extent=[x.min(), x.max(), y.min(), y.max()])\n",
    "ttl = ax.text(.5, 1.05, 'z', transform = ax.transAxes, va='center')\n",
    "\n",
    "\n",
    "def init_func():\n",
    "#     ttl.set_text('')\n",
    "#     im.set_data(a)\n",
    "    \n",
    "    return im, ttl\n",
    "\n",
    "\n",
    "# import time\n",
    "# start = 0\n",
    "\n",
    "def func(t):\n",
    "#     global start\n",
    "\n",
    "    data = z_to_rgb(f(z, phi=2 * np.pi * t))\n",
    "    im.set_data(data)\n",
    "    ttl.set_text(f\"$f(z, \\, \\phi), \\ \\phi = 2 \\pi \\cdot {t:g}$\")\n",
    "\n",
    "#     end = time.time()\n",
    "#     elapsed = end - start\n",
    "#     start = end\n",
    "    \n",
    "#     print(f'Elapsed {elapsed * 1000} ms')#, end='\\r')\n",
    "\n",
    "    return im, ttl\n",
    "\n",
    "\n",
    "total_time = 5  # sec\n",
    "fps = 60\n",
    "frames = round(total_time * fps)\n",
    "t = np.linspace(0, 1, frames, endpoint=False)\n",
    "\n",
    "\n",
    "ani = FuncAnimation(\n",
    "    fig, func, init_func=init_func,\n",
    "    frames=t, interval=1000 / fps,\n",
    "#     blit=True\n",
    ")\n",
    "\n",
    "\n",
    "progress_callback = lambda i, n: print(f\"Saving frame {i} of {n}\", end=('\\n' if i == n - 1 else '\\r'))\n",
    "\n",
    "\n",
    "# save frames\n",
    "# ani.save('trip/trip.png', writer=\"imagemagick\", progress_callback=progress_callback)\n",
    "\n",
    "\n",
    "if mode == QT_GUI:\n",
    "    plt.show()\n",
    "\n",
    "if mode == JS_LOSSLESS:\n",
    "    display(HTML(ani.to_jshtml()))\n",
    "    plt.close()\n",
    "\n",
    "if mode == MPEG_LOSSY:\n",
    "    # display(HTML(ani.to_html5_video()))\n",
    "    # ani.save('complex_f_lossy.mp4', codec='libx264')\n",
    "    %time ani.save(\"complex_f_lossy.mp4\", bitrate=10000, fps=fps, \\\n",
    "                   progress_callback=progress_callback)\n",
    "    display(Video(\"complex_f_lossy.mp4\", html_attributes=\"controls loop autoplay\"))\n",
    "    plt.close()\n",
    "\n",
    "if mode == MPEG_LOSSLESS:\n",
    "    %time ani.save(\"complex_f_lossless.mp4\", fps=fps, codec='libx264', \\\n",
    "                   extra_args=['-preset', 'veryslow', '-crf', '0'], \\\n",
    "                   progress_callback=progress_callback)\n",
    "    display(Video(\"complex_f_lossless.mp4\", html_attributes=\"controls loop autoplay\"))\n",
    "    plt.close()"
   ]
  }
 ],
 "metadata": {
  "kernelspec": {
   "display_name": "Python [conda env:env0]",
   "language": "python",
   "name": "conda-env-env0-py"
  },
  "language_info": {
   "codemirror_mode": {
    "name": "ipython",
    "version": 3
   },
   "file_extension": ".py",
   "mimetype": "text/x-python",
   "name": "python",
   "nbconvert_exporter": "python",
   "pygments_lexer": "ipython3",
   "version": "3.9.0"
  }
 },
 "nbformat": 4,
 "nbformat_minor": 4
}
