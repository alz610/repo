{
 "cells": [
  {
   "cell_type": "markdown",
   "metadata": {},
   "source": [
    "Визуализация комплексной функции:\n",
    "$$f(z, \\, \\phi) = (z^2 - 2.5) (z - 2.5 i) (z + 2.5 i)\n",
    "\\frac {(z - 2 - i)^2} {(z - e^{i \\phi})^2 (z - e^{2 i \\phi})^2}.$$\n",
    "\n",
    "Область визуализации:\n",
    "$$\\operatorname {Re} z \\in [-3, 3], \\quad \\operatorname {Im} z \\in [-3, 3], \\quad \\phi \\in [0, 2 \\pi).$$"
   ]
  },
  {
   "cell_type": "code",
   "execution_count": 8,
   "metadata": {},
   "outputs": [
    {
     "data": {
      "text/html": [
       "<video src=\"complex_f.webm\" controls loop autoplay  >\n",
       "      Your browser does not support the <code>video</code> element.\n",
       "    </video>"
      ],
      "text/plain": [
       "<IPython.core.display.Video object>"
      ]
     },
     "metadata": {},
     "output_type": "display_data"
    }
   ],
   "source": [
    "display(Video(\"complex_f.webm\", html_attributes=\"controls loop autoplay\"))"
   ]
  },
  {
   "cell_type": "markdown",
   "metadata": {},
   "source": [
    "Программа ниже создает визуализацию и производит файл видео `complex_f.webm`"
   ]
  },
  {
   "cell_type": "markdown",
   "metadata": {},
   "source": [
    "# Init"
   ]
  },
  {
   "cell_type": "code",
   "execution_count": 1,
   "metadata": {},
   "outputs": [],
   "source": [
    "NONE, QT_GUI, JS = range(3)\n",
    "mode = NONE"
   ]
  },
  {
   "cell_type": "code",
   "execution_count": 2,
   "metadata": {},
   "outputs": [],
   "source": [
    "if mode == QT_GUI:\n",
    "    %matplotlib qt\n",
    "    \n",
    "import numpy as np\n",
    "import matplotlib as mpl\n",
    "import matplotlib.pyplot as plt\n",
    "from matplotlib.animation import FuncAnimation\n",
    "from IPython.display import HTML, Video\n",
    "from matplotlib.colors import hsv_to_rgb"
   ]
  },
  {
   "cell_type": "code",
   "execution_count": 3,
   "metadata": {},
   "outputs": [],
   "source": [
    "if not mode == QT_GUI:\n",
    "    # %matplotlib inline\n",
    "    # %config InlineBackend.print_figure_kwargs = {'bbox_inches':None}\n",
    "    plt.ioff()\n",
    "\n",
    "# use typesetting program LaTeX \n",
    "plt.rcParams['text.usetex'] = True\n",
    "plt.rcParams['text.latex.preamble'] = r'\\usepackage{amsmath}'\n",
    "\n",
    "# use dark theme\n",
    "# plt.style.use('dark_background')\n",
    "from jupyterthemes import jtplot\n",
    "jtplot.style(theme='monokai', context='notebook', ticks=True, grid=False)\n",
    "\n",
    "# set dpi\n",
    "plt.rcParams['figure.dpi'] = 100\n",
    "\n",
    "if mode == JS:\n",
    "    plt.rcParams[\"animation.html\"] = \"jshtml\""
   ]
  },
  {
   "cell_type": "markdown",
   "metadata": {},
   "source": [
    "# Визуализация"
   ]
  },
  {
   "cell_type": "code",
   "execution_count": 4,
   "metadata": {},
   "outputs": [],
   "source": [
    "def z_to_rgb(z):\n",
    "    \"\"\"\n",
    "    Переводит комплексное число $z$ в цвет с форматом `RGB`.\n",
    "    Применяется для покраски области определения комплексной функции\n",
    "    соответственно значениям этой функции в этой области.\n",
    "    \"\"\"\n",
    "\n",
    "    # angle in (-pi, pi]\n",
    "    # H in (0, 1]\n",
    "    # H = (angle + pi) / 2pi = angle / 2pi + 1 / 2\n",
    "    H = np.angle(z) / (2 * np.pi) + .5\n",
    "\n",
    "    r = np.log2(1. + np.abs(z))\n",
    "    S = (1. + np.abs(np.sin(2. * np.pi * r))) / 2.\n",
    "    V = (1. + np.abs(np.cos(2. * np.pi * r))) / 2.\n",
    "\n",
    "    rgb = hsv_to_rgb(np.dstack((H, S, V)))\n",
    "    \n",
    "    return rgb"
   ]
  },
  {
   "cell_type": "code",
   "execution_count": 5,
   "metadata": {},
   "outputs": [],
   "source": [
    "f = lambda z, phi: (\n",
    "    (z ** 2 - 2.5) * (z - 2.5 * 1j) * (z + 2.5 * 1j)\n",
    "  * (z - 2 - 1j) ** 2 / ((z - np.exp(1j * phi)) ** 2\n",
    "  * (z - np.exp(1j * 2 * phi)) ** 2)\n",
    ")\n",
    "\n",
    "\n",
    "r = 3\n",
    "n = 1000\n",
    "x = np.linspace(-r, r, n)\n",
    "y = np.linspace(-r, r, n)\n",
    "X, Y = np.meshgrid(x, y, sparse=True)\n",
    "z = X + 1j * Y\n",
    "\n",
    "\n",
    "fig = plt.figure()\n",
    "ax = plt.subplot(xlabel='$\\operatorname {Re} z$', ylabel='$\\operatorname {Im} z$')\n",
    "# ax = plt.subplot(xlabel='$\\Re \\, \\{z\\}$', ylabel='$\\Im \\, \\{z\\}$')\n",
    "\n",
    "a = np.zeros(X.shape)\n",
    "im = plt.imshow(a, origin='lower', extent=[x.min(), x.max(), y.min(), y.max()])\n",
    "ttl = ax.text(.5, 1.05, 'z', transform = ax.transAxes, va='center')\n",
    "\n",
    "\n",
    "def init_func():\n",
    "#     ttl.set_text('')\n",
    "#     im.set_data(a)\n",
    "    \n",
    "    return im, ttl\n",
    "\n",
    "\n",
    "def func(t):\n",
    "    data = z_to_rgb(f(z, phi=2 * np.pi * t))\n",
    "    im.set_data(data)\n",
    "    ttl.set_text(f\"$f(z, \\, \\phi), \\ \\phi = 2 \\pi \\cdot {t:g}$\")\n",
    "\n",
    "    return im, ttl\n",
    "\n",
    "\n",
    "period = 5  # sec\n",
    "fps = 60\n",
    "frames = round(period * fps)\n",
    "t = np.linspace(0, 1, frames, endpoint=False)\n",
    "\n",
    "\n",
    "ani = FuncAnimation(\n",
    "    fig, func, init_func=init_func,\n",
    "    frames=t, interval=1000 / fps,\n",
    "#     blit=True\n",
    ")\n",
    "\n",
    "\n",
    "if mode == JS:\n",
    "    display(ani)"
   ]
  },
  {
   "cell_type": "code",
   "execution_count": 6,
   "metadata": {},
   "outputs": [
    {
     "name": "stdout",
     "output_type": "stream",
     "text": [
      "Saving frame 299 of 300\n",
      "CPU times: user 2min 23s, sys: 17.2 s, total: 2min 40s\n",
      "Wall time: 3min 19s\n"
     ]
    }
   ],
   "source": [
    "import os\n",
    "\n",
    "\n",
    "# dir `complex_f` is in current directory\n",
    "path = \"./complex_f\"\n",
    "\n",
    "# if dir exists\n",
    "if os.path.isdir(path):\n",
    "    # remove all files in dir\n",
    "\n",
    "    files = os.listdir(path)\n",
    "    for x in files:\n",
    "        os.remove(os.path.join(path, x))\n",
    "\n",
    "else:\n",
    "    # create dir\n",
    "    os.mkdir(path)\n",
    "\n",
    "\n",
    "progress_callback = lambda i, n: print(f\"Saving frame {i} of {n}\", end=('\\n' if i == n - 1 else '\\r'))\n",
    "\n",
    "# write frames\n",
    "%time ani.save(\"complex_f/frame.png\", writer=\"imagemagick\", progress_callback=progress_callback)\n",
    "\n",
    "\n",
    "plt.close()"
   ]
  },
  {
   "cell_type": "code",
   "execution_count": 7,
   "metadata": {},
   "outputs": [
    {
     "name": "stdout",
     "output_type": "stream",
     "text": [
      "ffmpeg version 4.2.4-1ubuntu0.1 Copyright (c) 2000-2020 the FFmpeg developers\n",
      "  built with gcc 9 (Ubuntu 9.3.0-10ubuntu2)\n",
      "  configuration: --prefix=/usr --extra-version=1ubuntu0.1 --toolchain=hardened --libdir=/usr/lib/x86_64-linux-gnu --incdir=/usr/include/x86_64-linux-gnu --arch=amd64 --enable-gpl --disable-stripping --enable-avresample --disable-filter=resample --enable-avisynth --enable-gnutls --enable-ladspa --enable-libaom --enable-libass --enable-libbluray --enable-libbs2b --enable-libcaca --enable-libcdio --enable-libcodec2 --enable-libflite --enable-libfontconfig --enable-libfreetype --enable-libfribidi --enable-libgme --enable-libgsm --enable-libjack --enable-libmp3lame --enable-libmysofa --enable-libopenjpeg --enable-libopenmpt --enable-libopus --enable-libpulse --enable-librsvg --enable-librubberband --enable-libshine --enable-libsnappy --enable-libsoxr --enable-libspeex --enable-libssh --enable-libtheora --enable-libtwolame --enable-libvidstab --enable-libvorbis --enable-libvpx --enable-libwavpack --enable-libwebp --enable-libx265 --enable-libxml2 --enable-libxvid --enable-libzmq --enable-libzvbi --enable-lv2 --enable-omx --enable-openal --enable-opencl --enable-opengl --enable-sdl2 --enable-libdc1394 --enable-libdrm --enable-libiec61883 --enable-nvenc --enable-chromaprint --enable-frei0r --enable-libx264 --enable-shared\n",
      "  libavutil      56. 31.100 / 56. 31.100\n",
      "  libavcodec     58. 54.100 / 58. 54.100\n",
      "  libavformat    58. 29.100 / 58. 29.100\n",
      "  libavdevice    58.  8.100 / 58.  8.100\n",
      "  libavfilter     7. 57.100 /  7. 57.100\n",
      "  libavresample   4.  0.  0 /  4.  0.  0\n",
      "  libswscale      5.  5.100 /  5.  5.100\n",
      "  libswresample   3.  5.100 /  3.  5.100\n",
      "  libpostproc    55.  5.100 / 55.  5.100\n",
      "Input #0, image2, from 'complex_f/frame-%d.png':\n",
      "  Duration: 00:00:05.00, start: 0.000000, bitrate: N/A\n",
      "    Stream #0:0: Video: png, rgba(pc), 800x700, 60 fps, 60 tbr, 60 tbn, 60 tbc\n",
      "Stream mapping:\n",
      "  Stream #0:0 -> #0:0 (png (native) -> vp9 (libvpx-vp9))\n",
      "Press [q] to stop, [?] for help\n",
      "\u001b[1;36m[libvpx-vp9 @ 0x55885e969b80] \u001b[0mv1.8.2\n",
      "Output #0, webm, to 'complex_f.webm':\n",
      "  Metadata:\n",
      "    encoder         : Lavf58.29.100\n",
      "    Stream #0:0: Video: vp9 (libvpx-vp9), yuva420p, 800x700, q=-1--1, 60 fps, 1k tbn, 60 tbc\n",
      "    Metadata:\n",
      "      encoder         : Lavc58.54.100 libvpx-vp9\n",
      "    Side data:\n",
      "      cpb: bitrate max/min/avg: 0/0/0 buffer size: 0 vbv_delay: -1\n",
      "frame=  300 fps=6.4 q=0.0 Lsize=    3893kB time=00:00:04.98 bitrate=6399.3kbits/s speed=0.106x    \n",
      "video:3871kB audio:0kB subtitle:0kB other streams:0kB global headers:0kB muxing overhead: 0.568306%\n",
      "CPU times: user 920 ms, sys: 152 ms, total: 1.07 s\n",
      "Wall time: 47.3 s\n"
     ]
    }
   ],
   "source": [
    "# `PATH=/usr/bin:$PATH` -- use `ffmpeg` from `/usr/bin`, prevent the use of `ffmpeg` from a conda/python environment\n",
    "%time !PATH=/usr/bin:$PATH ffmpeg -y -framerate 60 -i complex_f/frame-%d.png -c:v libvpx-vp9 -b:v 0 -crf 15 complex_f.webm"
   ]
  }
 ],
 "metadata": {
  "kernelspec": {
   "display_name": "Python [conda env:env0]",
   "language": "python",
   "name": "conda-env-env0-py"
  },
  "language_info": {
   "codemirror_mode": {
    "name": "ipython",
    "version": 3
   },
   "file_extension": ".py",
   "mimetype": "text/x-python",
   "name": "python",
   "nbconvert_exporter": "python",
   "pygments_lexer": "ipython3",
   "version": "3.9.0"
  }
 },
 "nbformat": 4,
 "nbformat_minor": 4
}
