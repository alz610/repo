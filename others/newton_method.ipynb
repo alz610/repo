{
 "cells": [
  {
   "cell_type": "markdown",
   "metadata": {},
   "source": [
    "# Метод Ньютона"
   ]
  },
  {
   "cell_type": "markdown",
   "metadata": {},
   "source": [
    "Метод Ньютона -- численный метод решения уравнения\n",
    "$$f(x) = 0, $$\n",
    "\n",
    "где отображение $f$:\n",
    "$$f: \\, \\mathbb R^n \\to \\mathbb R^n,$$\n",
    "$$f_i: \\, \\mathbb R^n \\to \\mathbb R,$$\n",
    "$$f(x) = (f_i(x)).$$\n",
    "\n",
    "Метод Ньютона:\n",
    "$$f(x^k) + J(x^k) (x^{k + 1} - x^k) = 0,$$\n",
    "$$x = \\lim_{k \\to \\infty} x^k,$$\n",
    "\n",
    "где $J$ -- матрица Якоби отображения $f$:\n",
    "$$J(x) = \\left( \\partial f_i (x) \\over \\partial x_j \\right).$$\n",
    "\n",
    "Алгоритм метода Ньютона:\n",
    "$$J(x^k) \\, \\delta^k = - f(x^k),$$\n",
    "$$x^{k + 1} = x^k + \\delta^k.$$\n",
    "\n",
    "Аппроксимация элемента матрицы Якоби конечной разностью вперёд:\n",
    "$${\\partial f_i (x) \\over \\partial x_j}\n",
    "\\approx {f_i (x + n_j \\, dx_{ij}) - f_i (x) \\over dx_{ij}},$$\n",
    "\n",
    "где $n_j$ -- единичный вектор, j-тая компонента которого равна 1:\n",
    "$$n_i \\in \\mathbb R^n: \\, (j = i \\rightarrow {n_i}_j = 1)\n",
    "\\, \\land (j \\neq i \\rightarrow {n_i}_j = 0),$$\n",
    "\n",
    "$dx_{ij}$ -- шаг конечной разности вперед у элемента матрицы."
   ]
  },
  {
   "cell_type": "markdown",
   "metadata": {},
   "source": [
    "# Реализация и проверка"
   ]
  },
  {
   "cell_type": "markdown",
   "metadata": {},
   "source": [
    "Система нелинейных уравнений и ее точное решение:\n",
    "$$(i = 1) \\quad (3 + 2x_i)\\,x_i - 2x_{i + 1} = 3,$$\n",
    "$$(\\forall i \\in \\mathbb N[2, n - 1]) \\quad (3 + 2x_i)\\,x_i - x_{i - 1} - 2x_{i + 1} = 2,$$\n",
    "$$(i = n) \\quad (3 + 2x_i)\\,x_i - x_{i - 1} = 4.$$\n",
    "$$\\Leftrightarrow$$\n",
    "$$(\\forall i \\in \\mathbb N[1, n]) \\quad x_i = 1.$$\n",
    "\n",
    "Эквивалентное уравнение:\n",
    "$$f(x) = 0,$$\n",
    "\n",
    "где отображение $f$:\n",
    "$$(i = 1) \\quad f_i(x) = (3 + 2x_i)\\,x_i - 2x_{i + 1} - 3,$$\n",
    "$$(\\forall i \\in \\mathbb N[2, n - 1]) \\quad f_i(x) = (3 + 2x_i)\\,x_i - x_{i - 1} - 2x_{i + 1} - 2,$$\n",
    "$$(i = n) \\quad f_i(x) = (3 + 2x_i)\\,x_i - x_{i - 1} - 4.$$"
   ]
  },
  {
   "cell_type": "code",
   "execution_count": 3,
   "metadata": {},
   "outputs": [
    {
     "data": {
      "text/plain": [
       "array([1., 1., 1., 1., 1., 1., 1., 1., 1., 1.])"
      ]
     },
     "execution_count": 3,
     "metadata": {},
     "output_type": "execute_result"
    }
   ],
   "source": [
    "import numpy as np\n",
    "\n",
    "\n",
    "def newton_method(f, x0, dx, n_iteration):\n",
    "    n = len(x0)\n",
    "    unit_vector = np.eye(n)\n",
    "    J = lambda x: np.array([[(f(x + unit_vector[j] * dx[i, j])[i] - f(x)[i]) / dx[i, j]\n",
    "                             for j in range(n)] for i in range(n)])\n",
    "\n",
    "    x = x0\n",
    "    for i in range(n_iteration):\n",
    "        sigma = np.linalg.solve(J(x), - f(x))\n",
    "        x = sigma + x\n",
    "\n",
    "    return x\n",
    "\n",
    "\n",
    "f = lambda x: np.array(\n",
    "    [(3 + 2 * x[i]) * x[i]            - 2 * x[i + 1] - 3 for i in [0]] +\n",
    "    [(3 + 2 * x[i]) * x[i] - x[i - 1] - 2 * x[i + 1] - 2 for i in range(1, n - 2 + 1)] +\n",
    "    [(3 + 2 * x[i]) * x[i] - x[i - 1]                - 4 for i in [n - 1]]\n",
    ")\n",
    "\n",
    "n = 10\n",
    "x0 = np.zeros(n)\n",
    "dx = np.ones((n, n)) * 1e-8\n",
    "\n",
    "x = newton_method(f, x0, dx, n_iteration=10)\n",
    "\n",
    "x"
   ]
  },
  {
   "cell_type": "markdown",
   "metadata": {},
   "source": [
    "Численное решение сходится с точными решением."
   ]
  },
  {
   "cell_type": "markdown",
   "metadata": {},
   "source": [
    "# Векторизация"
   ]
  },
  {
   "cell_type": "markdown",
   "metadata": {},
   "source": [
    "Вывод векторизации:\n",
    "$$\\left[ f_i (x + n_j \\, dx_{ij}) - f_i (x) \\over dx_{ij} \\right]\n",
    "= {[f_i (x + n_j \\, dx_{ij})] - [f_i (x)]^T \\over [dx_{ij}]}$$\n",
    "$$= {\\bar f(x + [n_j \\, dx_{ij}]) - f(x)^T \\over dx}\n",
    "= {\\bar f(x + [n \\, dx_i]) - f(x)^T \\over dx}.$$\n",
    "$$dx = (dx_{ij}).$$\n",
    "$$\\bar f: \\, \\mathbb R^{n \\times n} \\to \\mathbb R^n,$$\n",
    "$$\\bar f(x) = (f_i(x_i)).$$\n",
    "$$x = (x_i),$$\n",
    "$$x_i = (x_{ij})_j,$$\n",
    "$$x = (x_{ij}).$$"
   ]
  },
  {
   "cell_type": "markdown",
   "metadata": {},
   "source": [
    "Ниже проверка формулы $[f_i (x + n_j \\, dx_{ij})] = \\bar f(x + [n \\, dx_i])$ с помощью Numpy.\n",
    "\n",
    "Отображение $f$:\n",
    "$$f(x) = (f_i(x)).$$\n",
    "$$(i = 1) \\quad f_i(x) = (3 + 2x_i)\\,x_i - 2x_{i + 1} - 3,$$\n",
    "$$(\\forall i \\in \\mathbb N[2, n - 1]) \\quad f_i(x) = (3 + 2x_i)\\,x_i - x_{i - 1} - 2x_{i + 1} - 2,$$\n",
    "$$(i = n) \\quad f_i(x) = (3 + 2x_i)\\,x_i - x_{i - 1} - 4.$$"
   ]
  },
  {
   "cell_type": "code",
   "execution_count": 4,
   "metadata": {},
   "outputs": [],
   "source": [
    "bar_f = lambda x: np.array(\n",
    "    [(3 + 2 * x[i, i]) * x[i, i]               - 2 * x[i, i + 1] - 3 for i in [0]] +\n",
    "    [(3 + 2 * x[i, i]) * x[i, i] - x[i, i - 1] - 2 * x[i, i + 1] - 2 for i in range(1, n - 2 + 1)] +\n",
    "    [(3 + 2 * x[i, i]) * x[i, i] - x[i, i - 1]                   - 4 for i in [n - 1]]\n",
    ")\n",
    "\n",
    "bar_f_vec = np.vectorize(bar_f, signature='(n,n)->(n)')"
   ]
  },
  {
   "cell_type": "code",
   "execution_count": 6,
   "metadata": {},
   "outputs": [],
   "source": [
    "n = 5\n",
    "x = np.arange(n)\n",
    "dx = (np.arange(n * n).reshape(n, n) + 1) * 1e-1\n",
    "unit_vector = np.eye(n)"
   ]
  },
  {
   "cell_type": "markdown",
   "metadata": {},
   "source": [
    "$[f_i (x + n_j \\, dx_{ij})] =$"
   ]
  },
  {
   "cell_type": "code",
   "execution_count": 28,
   "metadata": {},
   "outputs": [
    {
     "data": {
      "text/plain": [
       "array([[-4.68, -5.4 , -5.  , -5.  , -5.  ],\n",
       "       [-1.6 ,  4.88, -2.6 , -1.  , -1.  ],\n",
       "       [ 5.  ,  3.8 , 22.68,  2.2 ,  5.  ],\n",
       "       [15.  , 15.  , 13.2 , 50.72, 11.  ],\n",
       "       [37.  , 37.  , 37.  , 34.6 , 97.  ]])"
      ]
     },
     "execution_count": 28,
     "metadata": {},
     "output_type": "execute_result"
    }
   ],
   "source": [
    "np.array([[f(x + unit_vector[j] * dx[i, j])[i] for j in range(n)] for i in range(n)])"
   ]
  },
  {
   "cell_type": "code",
   "execution_count": 26,
   "metadata": {},
   "outputs": [
    {
     "name": "stdout",
     "output_type": "stream",
     "text": [
      "554 µs ± 82.1 µs per loop (mean ± std. dev. of 7 runs, 1000 loops each)\n"
     ]
    }
   ],
   "source": [
    "%timeit np.array([[f(x + unit_vector[j] * dx[i, j])[i] for j in range(n)] for i in range(n)])"
   ]
  },
  {
   "cell_type": "markdown",
   "metadata": {},
   "source": [
    "$\\bar f(x + [n \\, dx_i]) =$"
   ]
  },
  {
   "cell_type": "code",
   "execution_count": 30,
   "metadata": {},
   "outputs": [
    {
     "data": {
      "text/plain": [
       "array([[-4.68,  0.48,  8.48, 21.32, 47.  ],\n",
       "       [-2.48,  4.88, 15.08, 30.12, 58.  ],\n",
       "       [ 0.72, 10.28, 22.68, 39.92, 70.  ],\n",
       "       [ 4.92, 16.68, 31.28, 50.72, 83.  ],\n",
       "       [10.12, 24.08, 40.88, 62.52, 97.  ]])"
      ]
     },
     "execution_count": 30,
     "metadata": {},
     "output_type": "execute_result"
    }
   ],
   "source": [
    "bar_f_vec(x + np.array([unit_vector * dx[i] for i in range(n)]))"
   ]
  },
  {
   "cell_type": "code",
   "execution_count": 31,
   "metadata": {},
   "outputs": [
    {
     "name": "stdout",
     "output_type": "stream",
     "text": [
      "352 µs ± 59.3 µs per loop (mean ± std. dev. of 7 runs, 1000 loops each)\n"
     ]
    }
   ],
   "source": [
    "%timeit bar_f_vec(x + np.array([unit_vector * dx[i] for i in range(n)]))"
   ]
  },
  {
   "cell_type": "markdown",
   "metadata": {},
   "source": [
    "Сходятся только диагональные элементы. Формула $[f_i (x + n_j \\, dx_{ij})] = \\bar f(x + [n \\, dx_i])$ неверная."
   ]
  },
  {
   "cell_type": "markdown",
   "metadata": {},
   "source": [
    "помогите плиз векторизовать вычисление матрицы Якоби с конечной разностью вперед\n",
    "$$\\left[ f_i (x + n_j \\, dx_{ij}) - f_i (x) \\over dx_{ij} \\right],$$\n",
    "\n",
    "где $n_j$ -- единичный вектор, j-тая компонента которого равна 1;\n",
    "$dx_{ij}$ -- шаг конечной разности вперед у элемента матрицы."
   ]
  }
 ],
 "metadata": {
  "kernelspec": {
   "display_name": "Python [conda env:env0]",
   "language": "python",
   "name": "conda-env-env0-py"
  },
  "language_info": {
   "codemirror_mode": {
    "name": "ipython",
    "version": 3
   },
   "file_extension": ".py",
   "mimetype": "text/x-python",
   "name": "python",
   "nbconvert_exporter": "python",
   "pygments_lexer": "ipython3",
   "version": "3.9.2"
  }
 },
 "nbformat": 4,
 "nbformat_minor": 4
}
