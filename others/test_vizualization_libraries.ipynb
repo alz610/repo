{
 "cells": [
  {
   "cell_type": "markdown",
   "metadata": {},
   "source": [
    "# bokeh"
   ]
  },
  {
   "cell_type": "code",
   "execution_count": null,
   "metadata": {},
   "outputs": [],
   "source": [
    "from bokeh.io import output_notebook\n",
    "output_notebook()"
   ]
  },
  {
   "cell_type": "code",
   "execution_count": null,
   "metadata": {},
   "outputs": [],
   "source": [
    "import bokeh.plotting as bk\n",
    "import numpy as np\n",
    "\n",
    "N = 500\n",
    "x = np.linspace(0, 10, N)\n",
    "y = np.linspace(0, 10, N)\n",
    "xx, yy = np.meshgrid(x, y)\n",
    "d = np.sin(xx)*np.cos(yy)\n",
    "\n",
    "p = bk.figure(tooltips=[(\"x\", \"$x\"), (\"y\", \"$y\"), (\"value\", \"@image\")])\n",
    "p.x_range.range_padding = p.y_range.range_padding = 0\n",
    "\n",
    "# must give a vector of image data for image parameter\n",
    "p.image(image=[d], x=0, y=0, dw=10, dh=10, palette=\"Spectral11\", level=\"image\")\n",
    "# p.image(image=[d], x=x, y=y, palette=\"Spectral11\", level=\"image\")\n",
    "p.grid.grid_line_width = 0.5\n",
    "\n",
    "# output_file(\"image.html\", title=\"image.py example\")\n",
    "\n",
    "bk.show(p)"
   ]
  },
  {
   "cell_type": "markdown",
   "metadata": {},
   "source": [
    "## Matplotlib"
   ]
  },
  {
   "cell_type": "code",
   "execution_count": null,
   "metadata": {},
   "outputs": [],
   "source": [
    "# %matplotlib inline\n",
    "# %config InlineBackend.print_figure_kwargs = {'bbox_inches':None}\n",
    "%matplotlib widget\n",
    "# %matplotlib qt\n",
    "import matplotlib.pyplot as plt\n",
    "\n",
    "\n",
    "def mpl_dark_style():\n",
    "    import matplotlib as mpl\n",
    "    from jupyterthemes import jtplot\n",
    "\n",
    "#     jtplot.style(theme='monokai', ticks=True, grid=True)\n",
    "    jtplot.style(theme='monokai', context='notebook', ticks=True, grid=True)\n",
    "\n",
    "    colors = mpl.rcParams['axes.prop_cycle'].by_key()['color']\n",
    "    i = 6\n",
    "    colors[i] = hex(int(colors[i].replace('#', '0x'), 16) ^ 0xFFFFFF).replace('0x', '#')\n",
    "    mpl.rcParams['axes.prop_cycle'] = mpl.cycler(color=colors)\n",
    "\n",
    "#     mpl.rcParams['path.simplify'] = True\n",
    "#     mpl.rcParams['path.simplify_threshold'] = 1\n",
    "#     mpl.rcParams['agg.path.chunksize'] = 100000\n",
    "\n",
    "\n",
    "plt.style.use('fast')\n",
    "mpl_dark_style()"
   ]
  },
  {
   "cell_type": "code",
   "execution_count": null,
   "metadata": {},
   "outputs": [],
   "source": [
    "import numpy as np\n",
    "x = np.linspace(0, 1)\n",
    "plt.plot(x, np.sin(x))\n",
    "# plt.show()"
   ]
  },
  {
   "cell_type": "markdown",
   "metadata": {},
   "source": [
    "## Plotly"
   ]
  },
  {
   "cell_type": "code",
   "execution_count": null,
   "metadata": {},
   "outputs": [],
   "source": [
    "import plotly.graph_objects as go\n",
    "# import plotly.io as pio\n",
    "# pio.templates.default = 'plotly_dark'"
   ]
  }
 ],
 "metadata": {
  "kernelspec": {
   "display_name": "Python [conda env:science]",
   "language": "python",
   "name": "conda-env-science-py"
  },
  "language_info": {
   "codemirror_mode": {
    "name": "ipython",
    "version": 3
   },
   "file_extension": ".py",
   "mimetype": "text/x-python",
   "name": "python",
   "nbconvert_exporter": "python",
   "pygments_lexer": "ipython3",
   "version": "3.7.8"
  }
 },
 "nbformat": 4,
 "nbformat_minor": 4
}
