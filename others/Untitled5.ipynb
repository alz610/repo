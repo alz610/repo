{
 "cells": [
  {
   "cell_type": "code",
   "execution_count": 45,
   "id": "premium-package",
   "metadata": {},
   "outputs": [
    {
     "data": {
      "text/plain": [
       "(datetime.timedelta(days=26), ['08.02.2021', '06.03.2021'])"
      ]
     },
     "execution_count": 45,
     "metadata": {},
     "output_type": "execute_result"
    }
   ],
   "source": [
    "from datetime import *\n",
    "\n",
    "fmt = \"%d.%m.%Y\"\n",
    "# fmt = \"%d.%m.%Y %H:%M:%S\"\n",
    "\n",
    "# format a date\n",
    "fdate = lambda *x: [y.strftime(fmt) for y in x]\n",
    "\n",
    "beg = datetime.strptime(\"08.02.2021\", fmt)\n",
    "end = datetime.strptime(\"06.03.2021\", fmt)\n",
    "\n",
    "end - beg, fdate(beg, end)"
   ]
  },
  {
   "cell_type": "code",
   "execution_count": 101,
   "id": "narrow-mathematics",
   "metadata": {},
   "outputs": [
    {
     "data": {
      "text/plain": [
       "(datetime.timedelta(days=15), ['10.02.2021', '25.02.2021'])"
      ]
     },
     "execution_count": 101,
     "metadata": {},
     "output_type": "execute_result"
    }
   ],
   "source": [
    "beg1 = beg + timedelta(days=1 + 1)\n",
    "end1 = end - timedelta(days=8 + 1)\n",
    "\n",
    "end1 - beg1, fdate(beg1, end1)"
   ]
  },
  {
   "cell_type": "code",
   "execution_count": 103,
   "id": "enormous-roommate",
   "metadata": {},
   "outputs": [
    {
     "data": {
      "text/plain": [
       "(5, 0)"
      ]
     },
     "execution_count": 103,
     "metadata": {},
     "output_type": "execute_result"
    }
   ],
   "source": [
    "15 // 3, 15 % 3"
   ]
  },
  {
   "cell_type": "code",
   "execution_count": 104,
   "id": "assumed-clinic",
   "metadata": {},
   "outputs": [
    {
     "data": {
      "text/plain": [
       "datetime.timedelta(days=15)"
      ]
     },
     "execution_count": 104,
     "metadata": {},
     "output_type": "execute_result"
    }
   ],
   "source": [
    "# time deltas\n",
    "td = 5, 5, 5\n",
    "td = [timedelta(td_) for td_ in td]\n",
    "\n",
    "sum(td, timedelta(0))"
   ]
  },
  {
   "cell_type": "code",
   "execution_count": 105,
   "id": "standard-fence",
   "metadata": {},
   "outputs": [
    {
     "data": {
      "text/plain": [
       "[['15.02.2021'], ['20.02.2021'], ['25.02.2021']]"
      ]
     },
     "execution_count": 105,
     "metadata": {},
     "output_type": "execute_result"
    }
   ],
   "source": [
    "from itertools import accumulate\n",
    "[fdate(beg1 + td_) for td_ in accumulate(td)]"
   ]
  },
  {
   "cell_type": "code",
   "execution_count": 107,
   "id": "naughty-juice",
   "metadata": {},
   "outputs": [
    {
     "data": {
      "text/plain": [
       "([datetime.timedelta(days=4),\n",
       "  datetime.timedelta(days=4),\n",
       "  datetime.timedelta(days=5)],\n",
       " [['10.02.2021', '14.02.2021'],\n",
       "  ['15.02.2021', '19.02.2021'],\n",
       "  ['20.02.2021', '25.02.2021']])"
      ]
     },
     "execution_count": 107,
     "metadata": {},
     "output_type": "execute_result"
    }
   ],
   "source": [
    "x = list(accumulate(td))\n",
    "interval = [[timedelta(0), x[0] - timedelta(1)],\n",
    "            [x[0], x[1] - timedelta(1)],\n",
    "            [x[1], x[2]]]\n",
    "\n",
    "[x[1] - x[0] for x in interval], \\\n",
    "[fdate(beg1 + x[0], beg1 + x[1]) for x in interval]"
   ]
  }
 ],
 "metadata": {
  "kernelspec": {
   "display_name": "Python [conda env:env0]",
   "language": "python",
   "name": "conda-env-env0-py"
  },
  "language_info": {
   "codemirror_mode": {
    "name": "ipython",
    "version": 3
   },
   "file_extension": ".py",
   "mimetype": "text/x-python",
   "name": "python",
   "nbconvert_exporter": "python",
   "pygments_lexer": "ipython3",
   "version": "3.9.2"
  }
 },
 "nbformat": 4,
 "nbformat_minor": 5
}
