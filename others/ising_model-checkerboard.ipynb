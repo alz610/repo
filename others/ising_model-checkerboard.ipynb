{
 "cells": [
  {
   "cell_type": "markdown",
   "id": "international-freight",
   "metadata": {},
   "source": [
    "# Задача"
   ]
  },
  {
   "cell_type": "markdown",
   "id": "perceived-liver",
   "metadata": {},
   "source": [
    "Задача 2 двухмерная модель Изинга на странице 8 в [\"Python. Список задач 5. Модель Изинга, алгоритм Метрополиса\"](http://theor.mephi.ru/wiki/images/b/b8/Python_problem_set_5.pdf)."
   ]
  },
  {
   "cell_type": "markdown",
   "id": "starting-pacific",
   "metadata": {},
   "source": [
    "Двухмерная модель Изинга:\n",
    "\n",
    "$$x_{i, \\ j} = \\pm 1$$\n",
    "\n",
    "$$h = B g \\mu_b$$\n",
    "\n",
    "$$E(x) = - J \\sum_{i, \\ j} \\left(x_{i + 1, \\ j} + x_{i, \\ j + 1}\\right) x_{i, \\ j} - h \\sum_{i, \\ j} x_{i, \\ j}$$\n",
    "\n",
    "$$M(x) = \\frac 1 N \\sum_{i, \\ j} x_{i, \\ j}$$"
   ]
  },
  {
   "cell_type": "markdown",
   "id": "assisted-translation",
   "metadata": {},
   "source": [
    "# Решение"
   ]
  },
  {
   "cell_type": "code",
   "execution_count": 1,
   "id": "beginning-programmer",
   "metadata": {},
   "outputs": [],
   "source": [
    "from numpy import *\n",
    "import numba as nb\n",
    "import matplotlib.pyplot as plt\n",
    "# from numba import cuda\n",
    "%load_ext line_profiler\n",
    "%matplotlib inline\n",
    "# %config InlineBackend.print_figure_kwargs = {'bbox_inches': None}\n",
    "%config InlineBackend.print_figure_kwargs = {'bbox_inches': 'tight'}"
   ]
  },
  {
   "cell_type": "markdown",
   "id": "representative-privacy",
   "metadata": {},
   "source": [
    "Символьно предвычисленные выражения для ускорения алгоритма Метрополиса:\n",
    "$$\\Delta E_{i, \\ j} = 2 J \\left( x_{i - 1, \\ j} + x_{i, \\ j - 1} + x_{i + 1, \\ j} + x_{i, \\ j + 1} \\right) x_{i, \\ j} + 2 h x_{i, \\ j}$$\n",
    "\n",
    "$$\\Delta M_{i, \\ j} = - 2 \\frac 1 N x_{i, \\ j}$$"
   ]
  },
  {
   "cell_type": "code",
   "execution_count": 2,
   "id": "handmade-template",
   "metadata": {},
   "outputs": [
    {
     "name": "stdout",
     "output_type": "stream",
     "text": [
      "CPU times: user 10.2 s, sys: 63 ms, total: 10.3 s\n",
      "Wall time: 10.3 s\n"
     ]
    }
   ],
   "source": [
    "%%time\n",
    "@nb.njit('(int64[:, ::1], float64[::1], int64, int64, int64, int64)', parallel=True)\n",
    "def calc_model_nb(x, T_level, n_step, window, J, h):\n",
    "    k_Boltzmann = 1\n",
    "\n",
    "    n_side = x.shape[0]\n",
    "    n_particles = count_nonzero(x)\n",
    "    n_level = T_level.shape[0]\n",
    "    E_level = empty(n_level)\n",
    "    C_level = empty(n_level)\n",
    "    M_level = empty(n_level)\n",
    "\n",
    "    E0 = - J * ((x[:-1, 1:] + x[1:, :-1]) * x[:-1, :-1]).sum() - h * x.sum()\n",
    "    M0 = x.sum() / n_particles\n",
    "\n",
    "    E = empty(n_step * n_side * n_side)\n",
    "    M = empty(n_step * n_side * n_side)\n",
    "    E[-1] = E0\n",
    "    M[-1] = M0\n",
    "    \n",
    "    ij_white = array([(i, j) for i in range(n_side) for j in range(n_side) if (i + j) % 2 == 0])\n",
    "    iw = ij_white[:, 0]\n",
    "    jw = ij_white[:, 1]\n",
    "\n",
    "    ij_black = array([(i, j) for i in range(n_side) for j in range(n_side) if (i + j) % 2 == 1])\n",
    "    ib = ij_black[:, 0]\n",
    "    jb = ij_black[:, 1]\n",
    "\n",
    "    for l in range(n_level):\n",
    "        T = T_level[l]\n",
    "        p = 0\n",
    "\n",
    "        for _ in range(n_step):\n",
    "            i_ = iw\n",
    "            j_ = jw\n",
    "            for k in nb.prange(i_.shape[0]):\n",
    "                i, j = i_[k], j_[k]\n",
    "\n",
    "                # \\Delta E = E_{tr} - E\n",
    "                dE = 2 * J * (x[i - 1, j] + x[i, j - 1] + x[i + 1, j] + x[i, j + 1]) * x[i, j] + 2 * h * x[i, j]\n",
    "                dM = - 2 * x[i, j] / n_particles\n",
    "\n",
    "                if dE <= 0:\n",
    "                    x[i, j] = - x[i, j]\n",
    "                else:\n",
    "                    R = exp(- dE / k_Boltzmann / T)\n",
    "                    if random.rand() <= R:\n",
    "                        x[i, j] = - x[i, j]\n",
    "                    else:\n",
    "                        dE = 0\n",
    "                        dM = 0\n",
    "\n",
    "                E[p] = E[p - 1] + dE\n",
    "                M[p] = M[p - 1] + dM\n",
    "                p += 1\n",
    "\n",
    "            i_ = ib\n",
    "            j_ = jb\n",
    "            for k in nb.prange(i_.shape[0]):\n",
    "                i, j = i_[k], j_[k]\n",
    "\n",
    "                # \\Delta E = E_{tr} - E\n",
    "                dE = 2 * J * (x[i - 1, j] + x[i, j - 1] + x[i + 1, j] + x[i, j + 1]) * x[i, j] + 2 * h * x[i, j]\n",
    "                dM = - 2 * x[i, j] / n_particles\n",
    "\n",
    "                if dE <= 0:\n",
    "                    x[i, j] = - x[i, j]\n",
    "                else:\n",
    "                    R = exp(- dE / k_Boltzmann / T)\n",
    "                    if random.rand() <= R:\n",
    "                        x[i, j] = - x[i, j]\n",
    "                    else:\n",
    "                        dE = 0\n",
    "                        dM = 0\n",
    "\n",
    "                E[p] = E[p - 1] + dE\n",
    "                M[p] = M[p - 1] + dM\n",
    "                p += 1\n",
    "\n",
    "        aE = E[- window:].sum() / window\n",
    "        aM = M[- window:].sum() / window\n",
    "        aE2 = (E[- window:] * E[- window:]).sum() / window\n",
    "        E_level[l] = aE\n",
    "        C_level[l] = (aE2 - aE * aE) / n_particles / k_Boltzmann / T / T\n",
    "        M_level[l] = aM\n",
    "\n",
    "    return E_level, C_level, M_level"
   ]
  },
  {
   "cell_type": "code",
   "execution_count": null,
   "id": "consecutive-ocean",
   "metadata": {},
   "outputs": [],
   "source": [
    "# ----------\n",
    "n_side = 400\n",
    "J = 1\n",
    "B = 0\n",
    "g = 1\n",
    "mu_b = 1\n",
    "k_Boltzmann = 1\n",
    "h = B * g * mu_b\n",
    "\n",
    "n_particles = n_side * n_side\n",
    "n_steps = 10 * n_particles\n",
    "\n",
    "# ----------\n",
    "n = n_side\n",
    "# x = random.randint(2, size=(n + 2, n + 2)) * 2 - 1  # hot\n",
    "x = full((n + 2, n + 2), 1)  # cold\n",
    "x[0, :] = 0\n",
    "x[:, 0] = 0\n",
    "x[n + 1, :] = 0\n",
    "x[:, n + 1] = 0\n",
    "\n",
    "# ----------\n",
    "n_level = 200\n",
    "n_step = 1000000\n",
    "window = round(5 / 6 * n_step)\n",
    "T = linspace(0, 5, n_level + 1)[1:]\n",
    "E, C, M = %time calc_model_nb(x, T, n_step, window, J, h)"
   ]
  },
  {
   "cell_type": "markdown",
   "id": "every-template",
   "metadata": {},
   "source": [
    "В ячейке выше происходит падение с сообщением:\n",
    "\n",
    "The kernel for projects/repo/others/ising_model-checkerboard.ipynb appears to have died. It will restart automatically."
   ]
  },
  {
   "cell_type": "code",
   "execution_count": 88,
   "id": "paperback-institute",
   "metadata": {
    "tags": []
   },
   "outputs": [
    {
     "data": {
      "image/png": "[encoded data removed]",
      "text/plain": [
       "<Figure size 432x288 with 1 Axes>"
      ]
     },
     "metadata": {
      "needs_background": "light"
     },
     "output_type": "display_data"
    }
   ],
   "source": [
    "from mpl_toolkits.axes_grid1 import host_subplot\n",
    "from mpl_toolkits import axisartist\n",
    "import matplotlib.pyplot as plt\n",
    "\n",
    "host = host_subplot(111, axes_class=axisartist.Axes)\n",
    "\n",
    "par1 = host.twinx()\n",
    "par2 = host.twinx()\n",
    "\n",
    "par2.axis[\"right\"] = par2.new_fixed_axis(loc=\"right\", offset=(60, 0))\n",
    "\n",
    "par1.axis[\"right\"].toggle(all=True)\n",
    "par2.axis[\"right\"].toggle(all=True)\n",
    "\n",
    "host.plot(T, E, label=\"$E$\")\n",
    "par1.plot(T, C, label=\"$C$\")\n",
    "par2.plot(T, M, label=\"$M$\")\n",
    "\n",
    "host.set_xlabel(\"$T$\")\n",
    "host.set_ylabel(\"$E$\")\n",
    "par1.set_ylabel(\"$C$\")\n",
    "par2.set_ylabel(\"$M$\")\n",
    "\n",
    "from matplotlib.ticker import (MultipleLocator, AutoMinorLocator)\n",
    "host.xaxis.set_major_locator(MultipleLocator(0.5))\n",
    "host.xaxis.set_minor_locator(AutoMinorLocator())\n",
    "for ax in (host, par1, par2):\n",
    "    ax.yaxis.set_minor_locator(AutoMinorLocator())\n",
    "\n",
    "host.set_xlim(0, 5)\n",
    "\n",
    "host.legend(loc='center left')\n",
    "plt.show()"
   ]
  },
  {
   "cell_type": "markdown",
   "id": "tropical-trading",
   "metadata": {},
   "source": [
    "Темплоемкость расходится в точке Кюри $T = T_c \\approx 2.269185 J$. На графике темплоемкости $C(T)$ приблизительно в $T_c$ наблюдается резкий пик.\n",
    "\n",
    "Повышение погрешности в окрестности точки Кюри является проблемой критического замедления. Метод параллельного отжига служит решением данной проблемы.  Информация по проблеме критического замедления и методу параллельного отжига есть в материале [Методы канонического и мультиканонического семплирования пространства состояний векторных моделей](http://www.mathnet.ru/php/archive.phtml?wshow=paper&jrnid=dvmg&paperid=346&option_lang=rus).\n",
    "\n",
    "Все потоки процессора не были загружены полностью в процессе расчета модели. Только один поток был полностью загружен. Для полноценной загрузки всех потоков планируется заменить схему решения на ту схему, которая пригодна для распараллеливания на потоки процессора, и распараллелить схему решения с помощью библиотеки для векторных вычислений Numpy на Python. Предположительно, пригодная для данного распараллеливания схема есть в материалах:\n",
    "* [High Performance Calculation of Magnetic Properties and Simulation of Nonequilibrium Phenomena in Nanofilms](https://www.researchgate.net/publication/225045639_High_Performance_Calculation_of_Magnetic_Properties_and_Simulation_of_Nonequilibrium_Phenomena_in_Nanofilms)\n",
    "* [Расчет магнитных свойств наноструктурных пленок методом параллельного Монте-Карло ](http://www.mathnet.ru/php/archive.phtml?wshow=paper&jrnid=crm&paperid=428&option_lang=rus)\n",
    "* [A Performance Study of the 2D Ising Model on GPUs](https://arxiv.org/abs/1906.06297)"
   ]
  },
  {
   "cell_type": "code",
   "execution_count": 5,
   "id": "settled-drunk",
   "metadata": {},
   "outputs": [
    {
     "name": "stdout",
     "output_type": "stream",
     "text": [
      "CPU times: user 884 ms, sys: 287 µs, total: 884 ms\n",
      "Wall time: 328 ms\n"
     ]
    }
   ],
   "source": [
    "# ----------\n",
    "n_side = 40\n",
    "J = 1\n",
    "B = 0\n",
    "g = 1\n",
    "mu_b = 1\n",
    "k_Boltzmann = 1\n",
    "h = B * g * mu_b\n",
    "\n",
    "n_particles = n_side * n_side\n",
    "n_step = 10 #* n_particles\n",
    "\n",
    "# ----------\n",
    "n = n_side\n",
    "# x = random.randint(2, size=(n + 2, n + 2)) * 2 - 1  # hot\n",
    "x = full((n + 2, n + 2), 1)  # cold\n",
    "x[0, :] = 0\n",
    "x[:, 0] = 0\n",
    "x[n + 1, :] = 0\n",
    "x[:, n + 1] = 0\n",
    "\n",
    "# ----------\n",
    "n_level = 50\n",
    "# n_step = 10000\n",
    "window = round(5 / 6 * n_step)\n",
    "T = linspace(0, 5, n_level + 1)[1:]\n",
    "E, C, M = %time calc_model_nb(x, T, n_step, window, J, h)"
   ]
  },
  {
   "cell_type": "code",
   "execution_count": 6,
   "id": "passive-mayor",
   "metadata": {
    "tags": []
   },
   "outputs": [
    {
     "data": {
      "image/png": "[encoded data removed]",
      "text/plain": [
       "<Figure size 432x288 with 1 Axes>"
      ]
     },
     "metadata": {
      "needs_background": "light"
     },
     "output_type": "display_data"
    }
   ],
   "source": [
    "from mpl_toolkits.axes_grid1 import host_subplot\n",
    "from mpl_toolkits import axisartist\n",
    "import matplotlib.pyplot as plt\n",
    "\n",
    "host = host_subplot(111, axes_class=axisartist.Axes)\n",
    "\n",
    "par1 = host.twinx()\n",
    "par2 = host.twinx()\n",
    "\n",
    "par2.axis[\"right\"] = par2.new_fixed_axis(loc=\"right\", offset=(60, 0))\n",
    "\n",
    "par1.axis[\"right\"].toggle(all=True)\n",
    "par2.axis[\"right\"].toggle(all=True)\n",
    "\n",
    "host.plot(T, E, label=\"$E$\")\n",
    "par1.plot(T, C, label=\"$C$\")\n",
    "par2.plot(T, M, label=\"$M$\")\n",
    "\n",
    "host.set_xlabel(\"$T$\")\n",
    "host.set_ylabel(\"$E$\")\n",
    "par1.set_ylabel(\"$C$\")\n",
    "par2.set_ylabel(\"$M$\")\n",
    "\n",
    "from matplotlib.ticker import (MultipleLocator, AutoMinorLocator)\n",
    "host.xaxis.set_major_locator(MultipleLocator(0.5))\n",
    "host.xaxis.set_minor_locator(AutoMinorLocator())\n",
    "for ax in (host, par1, par2):\n",
    "    ax.yaxis.set_minor_locator(AutoMinorLocator())\n",
    "\n",
    "host.set_xlim(0, 5)\n",
    "\n",
    "host.legend(loc='center left')\n",
    "plt.show()"
   ]
  },
  {
   "cell_type": "code",
   "execution_count": 9,
   "id": "mysterious-professor",
   "metadata": {},
   "outputs": [
    {
     "data": {
      "image/png": "[encoded data removed]",
      "text/plain": [
       "<Figure size 432x288 with 3 Axes>"
      ]
     },
     "metadata": {
      "needs_background": "light"
     },
     "output_type": "display_data"
    }
   ],
   "source": [
    "a, b = 1, 1\n",
    "fig, (axE, axC, axM) = plt.subplots(3, 1, sharex=True, figsize=(a * 6, b * 4))\n",
    "axM.set_xlabel('$T$')  # Температура\n",
    "axE.set_ylabel('$E$')  # Энергия\n",
    "axC.set_ylabel('$C$')  # Темплоемкость\n",
    "axM.set_ylabel('$M$')  # Намагниченность\n",
    "axE.plot(T, E)\n",
    "axC.plot(T, C)\n",
    "axM.plot(T, M)\n",
    "axM.set_xlim(0, 5)\n",
    "\n",
    "from matplotlib.ticker import (MultipleLocator, AutoMinorLocator)\n",
    "axM.xaxis.set_major_locator(MultipleLocator(0.5))\n",
    "axM.xaxis.set_minor_locator(AutoMinorLocator())\n",
    "for ax in (axM, axE, axC):\n",
    "    ax.yaxis.set_minor_locator(AutoMinorLocator())\n",
    "\n",
    "plt.show()"
   ]
  }
 ],
 "metadata": {
  "kernelspec": {
   "display_name": "Python [conda env:env0]",
   "language": "python",
   "name": "conda-env-env0-py"
  },
  "language_info": {
   "codemirror_mode": {
    "name": "ipython",
    "version": 3
   },
   "file_extension": ".py",
   "mimetype": "text/x-python",
   "name": "python",
   "nbconvert_exporter": "python",
   "pygments_lexer": "ipython3",
   "version": "3.9.2"
  }
 },
 "nbformat": 4,
 "nbformat_minor": 5
}
