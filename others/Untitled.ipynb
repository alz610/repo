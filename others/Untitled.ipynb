{
 "cells": [
  {
   "cell_type": "code",
   "execution_count": 1,
   "metadata": {},
   "outputs": [
    {
     "data": {
      "text/plain": [
       "['/home/alz/Documents',\n",
       " '/home/alz/miniconda3/envs/science/lib/python38.zip',\n",
       " '/home/alz/miniconda3/envs/science/lib/python3.8',\n",
       " '/home/alz/miniconda3/envs/science/lib/python3.8/lib-dynload',\n",
       " '',\n",
       " '/home/alz/miniconda3/envs/science/lib/python3.8/site-packages',\n",
       " '/home/alz/miniconda3/envs/science/lib/python3.8/site-packages/IPython/extensions',\n",
       " '/home/alz/.ipython']"
      ]
     },
     "execution_count": 1,
     "metadata": {},
     "output_type": "execute_result"
    }
   ],
   "source": [
    "import sys\n",
    "sys.path"
   ]
  },
  {
   "cell_type": "code",
   "execution_count": 3,
   "metadata": {},
   "outputs": [
    {
     "data": {
      "application/vnd.jupyter.widget-view+json": {
       "model_id": "d57852fd54924a439333eafeef3340cf",
       "version_major": 2,
       "version_minor": 0
      },
      "text/plain": [
       "Canvas(toolbar=Toolbar(toolitems=[('Home', 'Reset original view', 'home', 'home'), ('Back', 'Back to previous …"
      ]
     },
     "metadata": {},
     "output_type": "display_data"
    },
    {
     "data": {
      "text/plain": [
       "[<matplotlib.lines.Line2D at 0x7f8bfa1f4a30>]"
      ]
     },
     "execution_count": 3,
     "metadata": {},
     "output_type": "execute_result"
    }
   ],
   "source": [
    "%matplotlib widget\n",
    "import matplotlib.pyplot as plt\n",
    "import numpy as np\n",
    "\n",
    "x = np.ogrid[0:1:100j]\n",
    "plt.plot(x, x*x)"
   ]
  },
  {
   "cell_type": "code",
   "execution_count": 1,
   "metadata": {},
   "outputs": [],
   "source": [
    "import matplotlib.pyplot as plt\n",
    "import numpy as np"
   ]
  },
  {
   "cell_type": "code",
   "execution_count": 16,
   "metadata": {},
   "outputs": [
    {
     "data": {
      "image/png": "[encoded data removed]",
      "text/plain": [
       "<Figure size 432x288 with 1 Axes>"
      ]
     },
     "metadata": {
      "needs_background": "light"
     },
     "output_type": "display_data"
    }
   ],
   "source": [
    "x = [0, 1, 2, 3]\n",
    "p = [1 / 8, 3 / 8, 3 / 8, 1 / 8]\n",
    "\n",
    "x_ = np.linspace(-2, 5, 10000)\n",
    "\n",
    "x = np.array(x)\n",
    "p = np.array(p)\n",
    "\n",
    "F = [p[x <= x__].sum() for x__ in x_]\n",
    "\n",
    "plt.plot(x_, F)\n",
    "plt.xlabel('$x$')\n",
    "plt.ylabel('$F(x)$')\n",
    "plt.grid()"
   ]
  },
  {
   "cell_type": "code",
   "execution_count": 20,
   "metadata": {},
   "outputs": [
    {
     "data": {
      "text/plain": [
       "29.166666666666668"
      ]
     },
     "execution_count": 20,
     "metadata": {},
     "output_type": "execute_result"
    }
   ],
   "source": [
    "70 * 5 / 12"
   ]
  },
  {
   "cell_type": "code",
   "execution_count": 21,
   "metadata": {},
   "outputs": [
    {
     "data": {
      "text/plain": [
       "625.0"
      ]
     },
     "execution_count": 21,
     "metadata": {},
     "output_type": "execute_result"
    }
   ],
   "source": [
    "50000 / 80"
   ]
  },
  {
   "cell_type": "markdown",
   "metadata": {},
   "source": [
    "$$\\int\\limits_{-1}^{2} x \\, \\mathrm dx = \\frac {2^2} 2 - \\frac {(-1)^2} 2 = \\frac 4 2 - \\frac 1 2 = \\frac 3 2$$"
   ]
  },
  {
   "cell_type": "markdown",
   "metadata": {},
   "source": [
    "$$S = \\int\\limits_a^b f(x) \\, \\mathrm dx$$"
   ]
  },
  {
   "cell_type": "markdown",
   "metadata": {},
   "source": [
    "$$S_n = \\sum_{i=1}^n f(x_i) \\, \\Delta x$$"
   ]
  },
  {
   "cell_type": "markdown",
   "metadata": {},
   "source": [
    "$$\\lim_{n \\rightarrow \\infty} S_n = S$$"
   ]
  },
  {
   "cell_type": "markdown",
   "metadata": {},
   "source": [
    "$$\\Delta x = \\frac {b - a} n$$"
   ]
  },
  {
   "cell_type": "markdown",
   "metadata": {},
   "source": [
    "$$x_i = i \\, \\Delta x - a$$"
   ]
  },
  {
   "cell_type": "markdown",
   "metadata": {},
   "source": [
    "$$S_n = \\sum_{i=1}^n f\\left(i \\, \\frac {b - a} n - a\\right) \\, \\frac {b - a} n$$"
   ]
  },
  {
   "cell_type": "code",
   "execution_count": 9,
   "metadata": {},
   "outputs": [
    {
     "data": {
      "image/png": "[encoded data removed]",
      "text/plain": [
       "<Figure size 576x504 with 1 Axes>"
      ]
     },
     "metadata": {},
     "output_type": "display_data"
    }
   ],
   "source": [
    "%matplotlib inline\n",
    "# import seaborn as sns\n",
    "# sns.set(context='paper', style='darkgrid', rc={'figure.facecolor':'white'}, font_scale=1.2)\n",
    "\n",
    "import matplotlib.pyplot as plt\n",
    "# plt.style.use(\"seaborn-dark-palette\")\n",
    "\n",
    "from jupyterthemes import jtplot\n",
    "jtplot.style(theme='monokai', context='notebook', ticks=False, grid=True)\n",
    "\n",
    "import numpy as np\n",
    "\n",
    "n = 100from jupyterthemes import jtplot\n",
    "x = np.ogrid[0:1:n * 1j]\n",
    "_1 = np.full(n, 1)\n",
    "for k in np.arange(16) / 16:\n",
    "    plt.plot(x, _1 * k)"
   ]
  },
  {
   "cell_type": "code",
   "execution_count": 3,
   "metadata": {},
   "outputs": [
    {
     "data": {
      "text/plain": [
       "['Solarize_Light2',\n",
       " '_classic_test_patch',\n",
       " 'bmh',\n",
       " 'classic',\n",
       " 'dark_background',\n",
       " 'fast',\n",
       " 'fivethirtyeight',\n",
       " 'ggplot',\n",
       " 'grayscale',\n",
       " 'seaborn',\n",
       " 'seaborn-bright',\n",
       " 'seaborn-colorblind',\n",
       " 'seaborn-dark',\n",
       " 'seaborn-dark-palette',\n",
       " 'seaborn-darkgrid',\n",
       " 'seaborn-deep',\n",
       " 'seaborn-muted',\n",
       " 'seaborn-notebook',\n",
       " 'seaborn-paper',\n",
       " 'seaborn-pastel',\n",
       " 'seaborn-poster',\n",
       " 'seaborn-talk',\n",
       " 'seaborn-ticks',\n",
       " 'seaborn-white',\n",
       " 'seaborn-whitegrid',\n",
       " 'tableau-colorblind10']"
      ]
     },
     "execution_count": 3,
     "metadata": {},
     "output_type": "execute_result"
    }
   ],
   "source": [
    "plt.style.available"
   ]
  },
  {
   "cell_type": "code",
   "execution_count": 36,
   "metadata": {},
   "outputs": [
    {
     "data": {
      "text/plain": [
       "-0.02015507227640102"
      ]
     },
     "metadata": {},
     "output_type": "display_data"
    },
    {
     "data": {
      "text/plain": [
       "-0.020155072276401002"
      ]
     },
     "metadata": {},
     "output_type": "display_data"
    },
    {
     "data": {
      "text/plain": [
       "-0.02015507227640102"
      ]
     },
     "metadata": {},
     "output_type": "display_data"
    },
    {
     "data": {
      "text/plain": [
       "-0.020155072276401013"
      ]
     },
     "metadata": {},
     "output_type": "display_data"
    },
    {
     "data": {
      "text/plain": [
       "array([[0.28155613, 0.45150319, 0.02274279],\n",
       "       [0.43014173, 0.93520805, 0.90026245],\n",
       "       [0.24605159, 0.68980654, 0.76936412]])"
      ]
     },
     "metadata": {},
     "output_type": "display_data"
    },
    {
     "data": {
      "text/plain": [
       "array([[0.76936412, 0.68980654, 0.24605159],\n",
       "       [0.90026245, 0.93520805, 0.43014173],\n",
       "       [0.02274279, 0.45150319, 0.28155613]])"
      ]
     },
     "metadata": {},
     "output_type": "display_data"
    }
   ],
   "source": [
    "import numpy as np\n",
    "\n",
    "n = np.random.randint(10)\n",
    "a = np.random.rand(n, n)\n",
    "# n = 4\n",
    "# a = np.arange(n * n).reshape(n, n)\n",
    "for a_ in [a, a.T, a[::-1,::-1], a[::-1,::-1].T]:\n",
    "    display(np.linalg.det(a_))\n",
    "\n",
    "display(a, a[::-1,::-1])"
   ]
  },
  {
   "cell_type": "code",
   "execution_count": 100,
   "metadata": {},
   "outputs": [
    {
     "data": {
      "text/latex": [
       "$\\displaystyle x$"
      ],
      "text/plain": [
       "x"
      ]
     },
     "metadata": {},
     "output_type": "display_data"
    },
    {
     "data": {
      "text/latex": [
       "$\\displaystyle x$"
      ],
      "text/plain": [
       "x"
      ]
     },
     "metadata": {},
     "output_type": "display_data"
    }
   ],
   "source": [
    "import sympy as sp\n",
    "\n",
    "sp.var('x')\n",
    "\n",
    "f1 = lambda n: x ** 2 * f1(n - 1) + (n - 1) ** 2 * f1(n - 2) if (n > 2) \\\n",
    "    else x if n == 1 \\\n",
    "    else x ** 2 - 1 if n == 2 \\\n",
    "    else x ** 3 - 4 * x if n == 3 \\\n",
    "    else 0\n",
    "\n",
    "g = lambda i, j: x if i == j \\\n",
    "    else j if i + 1 == j \\\n",
    "    else n - i if i == j + 1 \\\n",
    "    else 0\n",
    "\n",
    "f2 = lambda n: sp.Matrix(n, n, g).det()\n",
    "\n",
    "\n",
    "n = 1\n",
    "\n",
    "display(f1(n), f2(n))"
   ]
  }
 ],
 "metadata": {
  "kernelspec": {
   "display_name": "Python [conda env:env0]",
   "language": "python",
   "name": "conda-env-env0-py"
  },
  "language_info": {
   "codemirror_mode": {
    "name": "ipython",
    "version": 3
   },
   "file_extension": ".py",
   "mimetype": "text/x-python",
   "name": "python",
   "nbconvert_exporter": "python",
   "pygments_lexer": "ipython3",
   "version": "3.9.0"
  }
 },
 "nbformat": 4,
 "nbformat_minor": 4
}
