{
 "cells": [
  {
   "cell_type": "code",
   "execution_count": 1,
   "metadata": {},
   "outputs": [
    {
     "data": {
      "text/plain": [
       "['/home/alz/Documents',\n",
       " '/home/alz/miniconda3/envs/science/lib/python38.zip',\n",
       " '/home/alz/miniconda3/envs/science/lib/python3.8',\n",
       " '/home/alz/miniconda3/envs/science/lib/python3.8/lib-dynload',\n",
       " '',\n",
       " '/home/alz/miniconda3/envs/science/lib/python3.8/site-packages',\n",
       " '/home/alz/miniconda3/envs/science/lib/python3.8/site-packages/IPython/extensions',\n",
       " '/home/alz/.ipython']"
      ]
     },
     "execution_count": 1,
     "metadata": {},
     "output_type": "execute_result"
    }
   ],
   "source": [
    "import sys\n",
    "sys.path"
   ]
  },
  {
   "cell_type": "code",
   "execution_count": 8,
   "metadata": {},
   "outputs": [
    {
     "data": {
      "text/plain": [
       "[<matplotlib.lines.Line2D at 0x7fa9ecd39d60>]"
      ]
     },
     "execution_count": 8,
     "metadata": {},
     "output_type": "execute_result"
    },
    {
     "data": {
      "image/png": "[encoded data removed]",
      "text/plain": [
       "<Figure size 432x288 with 1 Axes>"
      ]
     },
     "metadata": {
      "needs_background": "light"
     },
     "output_type": "display_data"
    }
   ],
   "source": [
    "%matplotlib widget\n",
    "import matplotlib.pyplot as plt\n",
    "import numpy as np\n",
    "\n",
    "x = np.ogrid[0:1:100j]\n",
    "plt.plot(x, x*x)"
   ]
  },
  {
   "cell_type": "code",
   "execution_count": 1,
   "metadata": {},
   "outputs": [],
   "source": [
    "import matplotlib.pyplot as plt\n",
    "import numpy as np"
   ]
  },
  {
   "cell_type": "code",
   "execution_count": 16,
   "metadata": {},
   "outputs": [
    {
     "data": {
      "image/png": "[encoded data removed]",
      "text/plain": [
       "<Figure size 432x288 with 1 Axes>"
      ]
     },
     "metadata": {
      "needs_background": "light"
     },
     "output_type": "display_data"
    }
   ],
   "source": [
    "x = [0, 1, 2, 3]\n",
    "p = [1 / 8, 3 / 8, 3 / 8, 1 / 8]\n",
    "\n",
    "x_ = np.linspace(-2, 5, 10000)\n",
    "\n",
    "x = np.array(x)\n",
    "p = np.array(p)\n",
    "\n",
    "F = [p[x <= x__].sum() for x__ in x_]\n",
    "\n",
    "plt.plot(x_, F)\n",
    "plt.xlabel('$x$')\n",
    "plt.ylabel('$F(x)$')\n",
    "plt.grid()"
   ]
  },
  {
   "cell_type": "code",
   "execution_count": 20,
   "metadata": {},
   "outputs": [
    {
     "data": {
      "text/plain": [
       "29.166666666666668"
      ]
     },
     "execution_count": 20,
     "metadata": {},
     "output_type": "execute_result"
    }
   ],
   "source": [
    "70 * 5 / 12"
   ]
  },
  {
   "cell_type": "code",
   "execution_count": 21,
   "metadata": {},
   "outputs": [
    {
     "data": {
      "text/plain": [
       "625.0"
      ]
     },
     "execution_count": 21,
     "metadata": {},
     "output_type": "execute_result"
    }
   ],
   "source": [
    "50000 / 80"
   ]
  },
  {
   "cell_type": "markdown",
   "metadata": {},
   "source": [
    "$$\\int\\limits_{-1}^{2} x \\, \\mathrm dx = \\frac {2^2} 2 - \\frac {(-1)^2} 2 = \\frac 4 2 - \\frac 1 2 = \\frac 3 2$$"
   ]
  },
  {
   "cell_type": "markdown",
   "metadata": {},
   "source": [
    "$$S = \\int\\limits_a^b f(x) \\, \\mathrm dx$$"
   ]
  },
  {
   "cell_type": "markdown",
   "metadata": {},
   "source": [
    "$$S_n = \\sum_{i=1}^n f(x_i) \\, \\Delta x$$"
   ]
  },
  {
   "cell_type": "markdown",
   "metadata": {},
   "source": [
    "$$\\lim_{n \\rightarrow \\infty} S_n = S$$"
   ]
  },
  {
   "cell_type": "markdown",
   "metadata": {},
   "source": [
    "$$\\Delta x = \\frac {b - a} n$$"
   ]
  },
  {
   "cell_type": "markdown",
   "metadata": {},
   "source": [
    "$$x_i = i \\, \\Delta x - a$$"
   ]
  },
  {
   "cell_type": "markdown",
   "metadata": {},
   "source": [
    "$$S_n = \\sum_{i=1}^n f\\left(i \\, \\frac {b - a} n - a\\right) \\, \\frac {b - a} n$$"
   ]
  }
 ],
 "metadata": {
  "kernelspec": {
   "display_name": "Python [conda env:env0]",
   "language": "python",
   "name": "conda-env-env0-py"
  },
  "language_info": {
   "codemirror_mode": {
    "name": "ipython",
    "version": 3
   },
   "file_extension": ".py",
   "mimetype": "text/x-python",
   "name": "python",
   "nbconvert_exporter": "python",
   "pygments_lexer": "ipython3",
   "version": "3.9.0"
  }
 },
 "nbformat": 4,
 "nbformat_minor": 4
}
