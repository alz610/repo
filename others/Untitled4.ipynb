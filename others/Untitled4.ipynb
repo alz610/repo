{
 "cells": [
  {
   "cell_type": "markdown",
   "id": "sustainable-personality",
   "metadata": {},
   "source": [
    "# No 1"
   ]
  },
  {
   "cell_type": "code",
   "execution_count": 3,
   "id": "south-retention",
   "metadata": {},
   "outputs": [
    {
     "data": {
      "text/plain": [
       "0.18181818181818182"
      ]
     },
     "execution_count": 3,
     "metadata": {},
     "output_type": "execute_result"
    }
   ],
   "source": [
    "0.3 / 1.65"
   ]
  },
  {
   "cell_type": "code",
   "execution_count": 4,
   "id": "upper-jamaica",
   "metadata": {},
   "outputs": [
    {
     "data": {
      "text/plain": [
       "0.20588235294117646"
      ]
     },
     "execution_count": 4,
     "metadata": {},
     "output_type": "execute_result"
    }
   ],
   "source": [
    "0.35 / 1.7"
   ]
  },
  {
   "cell_type": "code",
   "execution_count": 10,
   "id": "japanese-engagement",
   "metadata": {},
   "outputs": [
    {
     "data": {
      "text/plain": [
       "0.32921463907092"
      ]
     },
     "execution_count": 10,
     "metadata": {},
     "output_type": "execute_result"
    }
   ],
   "source": [
    "6 * (0.21 ** 1.86)"
   ]
  },
  {
   "cell_type": "code",
   "execution_count": 12,
   "id": "resistant-august",
   "metadata": {},
   "outputs": [
    {
     "data": {
      "text/plain": [
       "0.12191962490172843"
      ]
     },
     "execution_count": 12,
     "metadata": {},
     "output_type": "execute_result"
    }
   ],
   "source": [
    "(0.25 / 400 / (0.182 ** 1.86)) ** 0.5"
   ]
  },
  {
   "cell_type": "code",
   "execution_count": 14,
   "id": "exempt-image",
   "metadata": {},
   "outputs": [
    {
     "data": {
      "text/plain": [
       "225.9184827586207"
      ]
     },
     "execution_count": 14,
     "metadata": {},
     "output_type": "execute_result"
    }
   ],
   "source": [
    "82 * 10 ** 6 * 25 * 0.182 * 0.878 * 1 / 1.45 / 10 ** 6"
   ]
  },
  {
   "cell_type": "code",
   "execution_count": 15,
   "id": "specified-gauge",
   "metadata": {},
   "outputs": [
    {
     "data": {
      "text/plain": [
       "124.25516551724141"
      ]
     },
     "execution_count": 15,
     "metadata": {},
     "output_type": "execute_result"
    }
   ],
   "source": [
    "_14 * 0.55"
   ]
  },
  {
   "cell_type": "markdown",
   "id": "mathematical-appearance",
   "metadata": {},
   "source": [
    "# No 2"
   ]
  },
  {
   "cell_type": "code",
   "execution_count": 16,
   "id": "detailed-violin",
   "metadata": {},
   "outputs": [
    {
     "data": {
      "text/plain": [
       "10250"
      ]
     },
     "execution_count": 16,
     "metadata": {},
     "output_type": "execute_result"
    }
   ],
   "source": [
    "300 * 20 + 150 * 15 + 50 * 40"
   ]
  },
  {
   "cell_type": "code",
   "execution_count": 17,
   "id": "chubby-blair",
   "metadata": {},
   "outputs": [
    {
     "data": {
      "text/plain": [
       "9480"
      ]
     },
     "execution_count": 17,
     "metadata": {},
     "output_type": "execute_result"
    }
   ],
   "source": [
    "280 * 24 + 100 * 16 + 100 * 10 + 20 * 8"
   ]
  },
  {
   "cell_type": "code",
   "execution_count": 18,
   "id": "meaningful-beatles",
   "metadata": {},
   "outputs": [
    {
     "data": {
      "text/plain": [
       "36.705"
      ]
     },
     "execution_count": 18,
     "metadata": {},
     "output_type": "execute_result"
    }
   ],
   "source": [
    "14.4 + 10.25 + 9.48 + 2.575 "
   ]
  },
  {
   "cell_type": "code",
   "execution_count": 19,
   "id": "afraid-toyota",
   "metadata": {},
   "outputs": [
    {
     "data": {
      "text/plain": [
       "492000000000"
      ]
     },
     "execution_count": 19,
     "metadata": {},
     "output_type": "execute_result"
    }
   ],
   "source": [
    "600 * 10 ** 6 * 820"
   ]
  },
  {
   "cell_type": "code",
   "execution_count": 20,
   "id": "aware-nightmare",
   "metadata": {},
   "outputs": [
    {
     "data": {
      "text/plain": [
       "492.0"
      ]
     },
     "execution_count": 20,
     "metadata": {},
     "output_type": "execute_result"
    }
   ],
   "source": [
    "_19 / 10 ** 9"
   ]
  },
  {
   "cell_type": "code",
   "execution_count": 21,
   "id": "unauthorized-night",
   "metadata": {},
   "outputs": [
    {
     "data": {
      "text/plain": [
       "0.7317073170731707"
      ]
     },
     "execution_count": 21,
     "metadata": {},
     "output_type": "execute_result"
    }
   ],
   "source": [
    "600 / 820"
   ]
  },
  {
   "cell_type": "code",
   "execution_count": 22,
   "id": "written-bridge",
   "metadata": {},
   "outputs": [
    {
     "data": {
      "text/plain": [
       "0.18292682926829268"
      ]
     },
     "execution_count": 22,
     "metadata": {},
     "output_type": "execute_result"
    }
   ],
   "source": [
    "_21 / 4"
   ]
  },
  {
   "cell_type": "code",
   "execution_count": 23,
   "id": "electoral-involvement",
   "metadata": {},
   "outputs": [
    {
     "data": {
      "text/plain": [
       "182.9268292682927"
      ]
     },
     "execution_count": 23,
     "metadata": {},
     "output_type": "execute_result"
    }
   ],
   "source": [
    "_22 * 1000"
   ]
  },
  {
   "cell_type": "code",
   "execution_count": 24,
   "id": "fantastic-instruction",
   "metadata": {},
   "outputs": [
    {
     "data": {
      "text/plain": [
       "243.90243902439025"
      ]
     },
     "execution_count": 24,
     "metadata": {},
     "output_type": "execute_result"
    }
   ],
   "source": [
    "_23 * 4 / 3"
   ]
  },
  {
   "cell_type": "code",
   "execution_count": 25,
   "id": "professional-ground",
   "metadata": {},
   "outputs": [
    {
     "data": {
      "text/plain": [
       "3376"
      ]
     },
     "execution_count": 25,
     "metadata": {},
     "output_type": "execute_result"
    }
   ],
   "source": [
    "844 * 4"
   ]
  },
  {
   "cell_type": "code",
   "execution_count": 28,
   "id": "bearing-anime",
   "metadata": {},
   "outputs": [
    {
     "data": {
      "text/plain": [
       "14.751999999999999"
      ]
     },
     "execution_count": 28,
     "metadata": {},
     "output_type": "execute_result"
    }
   ],
   "source": [
    "1.376 * 2 + 12"
   ]
  },
  {
   "cell_type": "code",
   "execution_count": 29,
   "id": "integrated-arctic",
   "metadata": {},
   "outputs": [
    {
     "data": {
      "text/plain": [
       "37.057"
      ]
     },
     "execution_count": 29,
     "metadata": {},
     "output_type": "execute_result"
    }
   ],
   "source": [
    "14.752 + 10.25 + 9.48 + 2.575 "
   ]
  },
  {
   "cell_type": "code",
   "execution_count": 30,
   "id": "broken-capture",
   "metadata": {},
   "outputs": [
    {
     "data": {
      "text/plain": [
       "72.0"
      ]
     },
     "execution_count": 30,
     "metadata": {},
     "output_type": "execute_result"
    }
   ],
   "source": [
    "30 * 2.4 "
   ]
  },
  {
   "cell_type": "code",
   "execution_count": 31,
   "id": "sublime-allergy",
   "metadata": {},
   "outputs": [
    {
     "data": {
      "text/plain": [
       "9.76"
      ]
     },
     "execution_count": 31,
     "metadata": {},
     "output_type": "execute_result"
    }
   ],
   "source": [
    "2.44 * 4"
   ]
  },
  {
   "cell_type": "code",
   "execution_count": 32,
   "id": "cooperative-accommodation",
   "metadata": {},
   "outputs": [
    {
     "data": {
      "text/plain": [
       "19.52"
      ]
     },
     "execution_count": 32,
     "metadata": {},
     "output_type": "execute_result"
    }
   ],
   "source": [
    "_31 * 2"
   ]
  },
  {
   "cell_type": "code",
   "execution_count": 33,
   "id": "least-prime",
   "metadata": {},
   "outputs": [
    {
     "data": {
      "text/plain": [
       "4.59152"
      ]
     },
     "execution_count": 33,
     "metadata": {},
     "output_type": "execute_result"
    }
   ],
   "source": [
    "0.072 + 0.01952 + 2.5 + 2"
   ]
  },
  {
   "cell_type": "code",
   "execution_count": 35,
   "id": "fossil-lending",
   "metadata": {},
   "outputs": [
    {
     "data": {
      "text/plain": [
       "3.7915200000000002"
      ]
     },
     "execution_count": 35,
     "metadata": {},
     "output_type": "execute_result"
    }
   ],
   "source": [
    "0.072 + 0.01952 + 2.5 + 0.2 + 1"
   ]
  },
  {
   "cell_type": "code",
   "execution_count": 36,
   "id": "ordered-solution",
   "metadata": {},
   "outputs": [
    {
     "data": {
      "text/plain": [
       "7500000"
      ]
     },
     "execution_count": 36,
     "metadata": {},
     "output_type": "execute_result"
    }
   ],
   "source": [
    "12500 * 600"
   ]
  },
  {
   "cell_type": "code",
   "execution_count": 37,
   "id": "sound-makeup",
   "metadata": {},
   "outputs": [
    {
     "data": {
      "text/plain": [
       "0.926425"
      ]
     },
     "execution_count": 37,
     "metadata": {},
     "output_type": "execute_result"
    }
   ],
   "source": [
    "0.025 * 37.057"
   ]
  },
  {
   "cell_type": "code",
   "execution_count": 38,
   "id": "federal-museum",
   "metadata": {},
   "outputs": [
    {
     "data": {
      "text/plain": [
       "0.833925"
      ]
     },
     "execution_count": 38,
     "metadata": {},
     "output_type": "execute_result"
    }
   ],
   "source": [
    "0.025 * (37.057 - 1 - 2.5 - 0.2)"
   ]
  },
  {
   "cell_type": "code",
   "execution_count": 39,
   "id": "progressive-steam",
   "metadata": {},
   "outputs": [
    {
     "data": {
      "text/plain": [
       "52.8"
      ]
     },
     "execution_count": 39,
     "metadata": {},
     "output_type": "execute_result"
    }
   ],
   "source": [
    "24 * 2200 / 1000"
   ]
  },
  {
   "cell_type": "code",
   "execution_count": 33,
   "id": "sublime-drawing",
   "metadata": {},
   "outputs": [
    {
     "data": {
      "text/plain": [
       "4.59152"
      ]
     },
     "execution_count": 33,
     "metadata": {},
     "output_type": "execute_result"
    }
   ],
   "source": [
    "0.072 + 0.01952 + 2.5 + 2"
   ]
  },
  {
   "cell_type": "code",
   "execution_count": 40,
   "id": "ancient-wilson",
   "metadata": {},
   "outputs": [
    {
     "data": {
      "text/plain": [
       "30.0"
      ]
     },
     "execution_count": 40,
     "metadata": {},
     "output_type": "execute_result"
    }
   ],
   "source": [
    "12500 * 2.4 / 1000"
   ]
  },
  {
   "cell_type": "code",
   "execution_count": 41,
   "id": "binary-desert",
   "metadata": {},
   "outputs": [
    {
     "data": {
      "text/plain": [
       "4.1932"
      ]
     },
     "execution_count": 41,
     "metadata": {},
     "output_type": "execute_result"
    }
   ],
   "source": [
    "0.2 * (52.8 - 30 - 0.834 - 1)"
   ]
  },
  {
   "cell_type": "code",
   "execution_count": 42,
   "id": "instructional-calgary",
   "metadata": {},
   "outputs": [
    {
     "data": {
      "text/plain": [
       "36.024"
      ]
     },
     "execution_count": 42,
     "metadata": {},
     "output_type": "execute_result"
    }
   ],
   "source": [
    "30 + 1 + 0.834 + 4.19"
   ]
  },
  {
   "cell_type": "code",
   "execution_count": 43,
   "id": "developing-flush",
   "metadata": {},
   "outputs": [
    {
     "data": {
      "text/plain": [
       "12.985999999999997"
      ]
     },
     "execution_count": 43,
     "metadata": {},
     "output_type": "execute_result"
    }
   ],
   "source": [
    "52.8 - (3.79 + 36.024)"
   ]
  },
  {
   "cell_type": "code",
   "execution_count": 44,
   "id": "occupied-medline",
   "metadata": {},
   "outputs": [
    {
     "data": {
      "text/plain": [
       "-25.251545454545457"
      ]
     },
     "execution_count": 44,
     "metadata": {},
     "output_type": "execute_result"
    }
   ],
   "source": [
    "-37.057 + 12.986 / 1.1"
   ]
  },
  {
   "cell_type": "code",
   "execution_count": 45,
   "id": "respected-transformation",
   "metadata": {},
   "outputs": [
    {
     "data": {
      "text/plain": [
       "0.7317073170731707"
      ]
     },
     "execution_count": 45,
     "metadata": {},
     "output_type": "execute_result"
    }
   ],
   "source": [
    "600 / 820"
   ]
  },
  {
   "cell_type": "code",
   "execution_count": 48,
   "id": "transparent-locator",
   "metadata": {},
   "outputs": [
    {
     "data": {
      "text/plain": [
       "0.008130081300813007"
      ]
     },
     "execution_count": 48,
     "metadata": {},
     "output_type": "execute_result"
    }
   ],
   "source": [
    "_45 / 90"
   ]
  },
  {
   "cell_type": "code",
   "execution_count": 51,
   "id": "closing-modem",
   "metadata": {},
   "outputs": [
    {
     "data": {
      "text/plain": [
       "20.325203252032516"
      ]
     },
     "execution_count": 51,
     "metadata": {},
     "output_type": "execute_result"
    }
   ],
   "source": [
    "_48 / 400 * 10 ** 6"
   ]
  },
  {
   "cell_type": "code",
   "execution_count": 52,
   "id": "qualified-islam",
   "metadata": {},
   "outputs": [
    {
     "data": {
      "text/plain": [
       "27.10027100271002"
      ]
     },
     "execution_count": 52,
     "metadata": {},
     "output_type": "execute_result"
    }
   ],
   "source": [
    "_51 * 4 / 3"
   ]
  },
  {
   "cell_type": "code",
   "execution_count": 54,
   "id": "adaptive-finding",
   "metadata": {},
   "outputs": [
    {
     "data": {
      "text/plain": [
       "0.865"
      ]
     },
     "execution_count": 54,
     "metadata": {},
     "output_type": "execute_result"
    }
   ],
   "source": [
    "0.82 * 0.75 + 0.25"
   ]
  },
  {
   "cell_type": "code",
   "execution_count": 55,
   "id": "technical-parade",
   "metadata": {},
   "outputs": [
    {
     "data": {
      "text/plain": [
       "2966950.0"
      ]
     },
     "execution_count": 55,
     "metadata": {},
     "output_type": "execute_result"
    }
   ],
   "source": [
    "865 * 9.8 * (1250 - 900)"
   ]
  },
  {
   "cell_type": "code",
   "execution_count": 57,
   "id": "phantom-crowd",
   "metadata": {},
   "outputs": [
    {
     "data": {
      "text/plain": [
       "0.002550465"
      ]
     },
     "execution_count": 57,
     "metadata": {},
     "output_type": "execute_result"
    }
   ],
   "source": [
    "3.14 / 4 * 57 ** 2 * (10 ** -6)"
   ]
  },
  {
   "cell_type": "code",
   "execution_count": 58,
   "id": "dying-flesh",
   "metadata": {},
   "outputs": [
    {
     "data": {
      "text/plain": [
       "7567.10213175"
      ]
     },
     "execution_count": 58,
     "metadata": {},
     "output_type": "execute_result"
    }
   ],
   "source": [
    "_55 * _57"
   ]
  },
  {
   "cell_type": "code",
   "execution_count": 61,
   "id": "binary-project",
   "metadata": {},
   "outputs": [
    {
     "data": {
      "text/plain": [
       "0.00037994"
      ]
     },
     "execution_count": 61,
     "metadata": {},
     "output_type": "execute_result"
    }
   ],
   "source": [
    "3.14 / 4 * 22**2 * 10**-6"
   ]
  },
  {
   "cell_type": "code",
   "execution_count": 63,
   "id": "ideal-restoration",
   "metadata": {},
   "outputs": [
    {
     "data": {
      "text/plain": [
       "0.10861866028708132"
      ]
     },
     "execution_count": 63,
     "metadata": {},
     "output_type": "execute_result"
    }
   ],
   "source": [
    "7567.1 * 1200 / (2.2 * 10**11 * 0.00038)"
   ]
  },
  {
   "cell_type": "code",
   "execution_count": 64,
   "id": "critical-richards",
   "metadata": {},
   "outputs": [
    {
     "data": {
      "text/plain": [
       "0.0316227766016838"
      ]
     },
     "execution_count": 64,
     "metadata": {},
     "output_type": "execute_result"
    }
   ],
   "source": [
    "0.1**1.5"
   ]
  },
  {
   "cell_type": "code",
   "execution_count": 65,
   "id": "ongoing-metropolitan",
   "metadata": {},
   "outputs": [
    {
     "data": {
      "text/plain": [
       "2.96695"
      ]
     },
     "execution_count": 65,
     "metadata": {},
     "output_type": "execute_result"
    }
   ],
   "source": [
    "865 * 9.8 * 350 / 10**6"
   ]
  },
  {
   "cell_type": "code",
   "execution_count": 66,
   "id": "major-three",
   "metadata": {},
   "outputs": [
    {
     "data": {
      "text/plain": [
       "0.0296695"
      ]
     },
     "execution_count": 66,
     "metadata": {},
     "output_type": "execute_result"
    }
   ],
   "source": [
    "_65 * 0.01"
   ]
  },
  {
   "cell_type": "code",
   "execution_count": 67,
   "id": "cardiovascular-automation",
   "metadata": {},
   "outputs": [
    {
     "data": {
      "text/plain": [
       "0.8387000000000001"
      ]
     },
     "execution_count": 67,
     "metadata": {},
     "output_type": "execute_result"
    }
   ],
   "source": [
    "1 - 0.1 - 0.0316 - 0.0297"
   ]
  },
  {
   "cell_type": "code",
   "execution_count": 68,
   "id": "color-rhythm",
   "metadata": {},
   "outputs": [
    {
     "data": {
      "text/plain": [
       "5.844712989523935"
      ]
     },
     "execution_count": 68,
     "metadata": {},
     "output_type": "execute_result"
    }
   ],
   "source": [
    "45 / (1440 * 0.8387 * 0.00255 * 2.5)"
   ]
  },
  {
   "cell_type": "code",
   "execution_count": 69,
   "id": "broken-compromise",
   "metadata": {},
   "outputs": [
    {
     "data": {
      "text/plain": [
       "1280"
      ]
     },
     "execution_count": 69,
     "metadata": {},
     "output_type": "execute_result"
    }
   ],
   "source": [
    "2500 - 1220"
   ]
  },
  {
   "cell_type": "code",
   "execution_count": 70,
   "id": "minus-balloon",
   "metadata": {},
   "outputs": [
    {
     "data": {
      "text/plain": [
       "640.0"
      ]
     },
     "execution_count": 70,
     "metadata": {},
     "output_type": "execute_result"
    }
   ],
   "source": [
    "_69 / 2"
   ]
  },
  {
   "cell_type": "code",
   "execution_count": 71,
   "id": "weird-democracy",
   "metadata": {},
   "outputs": [
    {
     "data": {
      "text/plain": [
       "0.2742857142857143"
      ]
     },
     "execution_count": 71,
     "metadata": {},
     "output_type": "execute_result"
    }
   ],
   "source": [
    "0.1 / 350 * 960"
   ]
  },
  {
   "cell_type": "code",
   "execution_count": 72,
   "id": "warming-photography",
   "metadata": {},
   "outputs": [
    {
     "data": {
      "text/plain": [
       "0.6647000000000001"
      ]
     },
     "execution_count": 72,
     "metadata": {},
     "output_type": "execute_result"
    }
   ],
   "source": [
    "1 - 0.274 - 0.0316 - 0.0297"
   ]
  },
  {
   "cell_type": "code",
   "execution_count": 73,
   "id": "rolled-vacuum",
   "metadata": {},
   "outputs": [
    {
     "data": {
      "text/plain": [
       "7.368749811945238"
      ]
     },
     "execution_count": 73,
     "metadata": {},
     "output_type": "execute_result"
    }
   ],
   "source": [
    "5.84 * 0.8387 / 0.6647"
   ]
  },
  {
   "cell_type": "code",
   "execution_count": null,
   "id": "desperate-folder",
   "metadata": {},
   "outputs": [],
   "source": []
  }
 ],
 "metadata": {
  "kernelspec": {
   "display_name": "Python [conda env:env0]",
   "language": "python",
   "name": "conda-env-env0-py"
  },
  "language_info": {
   "codemirror_mode": {
    "name": "ipython",
    "version": 3
   },
   "file_extension": ".py",
   "mimetype": "text/x-python",
   "name": "python",
   "nbconvert_exporter": "python",
   "pygments_lexer": "ipython3",
   "version": "3.9.2"
  }
 },
 "nbformat": 4,
 "nbformat_minor": 5
}
