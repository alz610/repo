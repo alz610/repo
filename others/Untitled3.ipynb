{
 "cells": [
  {
   "cell_type": "code",
   "execution_count": 37,
   "metadata": {},
   "outputs": [],
   "source": [
    "%matplotlib qt\n",
    "# %matplotlib inline\n",
    "import numpy as np\n",
    "import matplotlib\n",
    "matplotlib.rcParams['text.usetex'] = True\n",
    "import matplotlib.pyplot as plt\n",
    "from matplotlib.animation import FuncAnimation\n",
    "from IPython.display import HTML\n",
    "from matplotlib.colors import hsv_to_rgb"
   ]
  },
  {
   "cell_type": "code",
   "execution_count": 38,
   "metadata": {},
   "outputs": [],
   "source": [
    "# plt.style.use('dark_background')\n",
    "%config InlineBackend.print_figure_kwargs = {'bbox_inches':None}\n",
    "plt.ioff()\n",
    "\n",
    "from jupyterthemes import jtplot\n",
    "jtplot.style(theme='monokai', context='notebook', ticks=True, grid=False)"
   ]
  },
  {
   "cell_type": "code",
   "execution_count": 42,
   "metadata": {},
   "outputs": [],
   "source": [
    "def z_to_rgb(z):\n",
    "    # angle in (-pi, pi]\n",
    "    # (angle + pi) / 2pi = angle / 2pi + 1 / 2\n",
    "    H = np.angle(z) / (2 * np.pi) + .5\n",
    "\n",
    "    r = np.log2(1. + np.abs(z))\n",
    "    S = (1. + np.abs(np.sin(2. * np.pi * r))) / 2.\n",
    "    V = (1. + np.abs(np.cos(2. * np.pi * r))) / 2.\n",
    "\n",
    "    rgb = hsv_to_rgb(np.dstack((H, S, V)))\n",
    "    \n",
    "    return rgb"
   ]
  },
  {
   "cell_type": "code",
   "execution_count": 48,
   "metadata": {
    "scrolled": true
   },
   "outputs": [
    {
     "ename": "AttributeError",
     "evalue": "'Text' object has no property 'animate'",
     "output_type": "error",
     "traceback": [
      "\u001b[0;31m---------------------------------------------------------------------------\u001b[0m",
      "\u001b[0;31mAttributeError\u001b[0m                            Traceback (most recent call last)",
      "\u001b[0;32m<ipython-input-48-c826884265ee>\u001b[0m in \u001b[0;36m<module>\u001b[0;34m\u001b[0m\n\u001b[1;32m     15\u001b[0m \u001b[0mim\u001b[0m \u001b[0;34m=\u001b[0m \u001b[0mplt\u001b[0m\u001b[0;34m.\u001b[0m\u001b[0mimshow\u001b[0m\u001b[0;34m(\u001b[0m\u001b[0ma\u001b[0m\u001b[0;34m,\u001b[0m \u001b[0morigin\u001b[0m\u001b[0;34m=\u001b[0m\u001b[0;34m'lower'\u001b[0m\u001b[0;34m,\u001b[0m \u001b[0mextent\u001b[0m\u001b[0;34m=\u001b[0m\u001b[0mextent\u001b[0m\u001b[0;34m)\u001b[0m\u001b[0;34m\u001b[0m\u001b[0;34m\u001b[0m\u001b[0m\n\u001b[1;32m     16\u001b[0m \u001b[0;31m# im = plt.imshow(a, origin='lower', interpolation='nearest', extent=extent)\u001b[0m\u001b[0;34m\u001b[0m\u001b[0;34m\u001b[0m\u001b[0;34m\u001b[0m\u001b[0m\n\u001b[0;32m---> 17\u001b[0;31m \u001b[0mttl\u001b[0m \u001b[0;34m=\u001b[0m \u001b[0max\u001b[0m\u001b[0;34m.\u001b[0m\u001b[0mtext\u001b[0m\u001b[0;34m(\u001b[0m\u001b[0;36m.5\u001b[0m\u001b[0;34m,\u001b[0m \u001b[0;36m1.05\u001b[0m\u001b[0;34m,\u001b[0m \u001b[0;34m'z'\u001b[0m\u001b[0;34m,\u001b[0m \u001b[0mtransform\u001b[0m \u001b[0;34m=\u001b[0m \u001b[0max\u001b[0m\u001b[0;34m.\u001b[0m\u001b[0mtransAxes\u001b[0m\u001b[0;34m,\u001b[0m \u001b[0mva\u001b[0m\u001b[0;34m=\u001b[0m\u001b[0;34m'center'\u001b[0m\u001b[0;34m,\u001b[0m \u001b[0manimate\u001b[0m\u001b[0;34m=\u001b[0m\u001b[0;32mTrue\u001b[0m\u001b[0;34m)\u001b[0m\u001b[0;34m\u001b[0m\u001b[0;34m\u001b[0m\u001b[0m\n\u001b[0m\u001b[1;32m     18\u001b[0m \u001b[0;34m\u001b[0m\u001b[0m\n\u001b[1;32m     19\u001b[0m f = lambda z, phi: (\n",
      "\u001b[0;32m~/miniconda3/envs/env0/lib/python3.9/site-packages/matplotlib/axes/_axes.py\u001b[0m in \u001b[0;36mtext\u001b[0;34m(self, x, y, s, fontdict, **kwargs)\u001b[0m\n\u001b[1;32m    763\u001b[0m             \u001b[0;34m**\u001b[0m\u001b[0mkwargs\u001b[0m\u001b[0;34m,\u001b[0m\u001b[0;34m\u001b[0m\u001b[0;34m\u001b[0m\u001b[0m\n\u001b[1;32m    764\u001b[0m         }\n\u001b[0;32m--> 765\u001b[0;31m         \u001b[0mt\u001b[0m \u001b[0;34m=\u001b[0m \u001b[0mmtext\u001b[0m\u001b[0;34m.\u001b[0m\u001b[0mText\u001b[0m\u001b[0;34m(\u001b[0m\u001b[0mx\u001b[0m\u001b[0;34m,\u001b[0m \u001b[0my\u001b[0m\u001b[0;34m,\u001b[0m \u001b[0mtext\u001b[0m\u001b[0;34m=\u001b[0m\u001b[0ms\u001b[0m\u001b[0;34m,\u001b[0m \u001b[0;34m**\u001b[0m\u001b[0meffective_kwargs\u001b[0m\u001b[0;34m)\u001b[0m\u001b[0;34m\u001b[0m\u001b[0;34m\u001b[0m\u001b[0m\n\u001b[0m\u001b[1;32m    766\u001b[0m         \u001b[0mt\u001b[0m\u001b[0;34m.\u001b[0m\u001b[0mset_clip_path\u001b[0m\u001b[0;34m(\u001b[0m\u001b[0mself\u001b[0m\u001b[0;34m.\u001b[0m\u001b[0mpatch\u001b[0m\u001b[0;34m)\u001b[0m\u001b[0;34m\u001b[0m\u001b[0;34m\u001b[0m\u001b[0m\n\u001b[1;32m    767\u001b[0m         \u001b[0mself\u001b[0m\u001b[0;34m.\u001b[0m\u001b[0m_add_text\u001b[0m\u001b[0;34m(\u001b[0m\u001b[0mt\u001b[0m\u001b[0;34m)\u001b[0m\u001b[0;34m\u001b[0m\u001b[0;34m\u001b[0m\u001b[0m\n",
      "\u001b[0;32m~/miniconda3/envs/env0/lib/python3.9/site-packages/matplotlib/text.py\u001b[0m in \u001b[0;36m__init__\u001b[0;34m(self, x, y, text, color, verticalalignment, horizontalalignment, multialignment, fontproperties, rotation, linespacing, rotation_mode, usetex, wrap, **kwargs)\u001b[0m\n\u001b[1;32m    164\u001b[0m         \u001b[0mself\u001b[0m\u001b[0;34m.\u001b[0m\u001b[0m_linespacing\u001b[0m \u001b[0;34m=\u001b[0m \u001b[0mlinespacing\u001b[0m\u001b[0;34m\u001b[0m\u001b[0;34m\u001b[0m\u001b[0m\n\u001b[1;32m    165\u001b[0m         \u001b[0mself\u001b[0m\u001b[0;34m.\u001b[0m\u001b[0mset_rotation_mode\u001b[0m\u001b[0;34m(\u001b[0m\u001b[0mrotation_mode\u001b[0m\u001b[0;34m)\u001b[0m\u001b[0;34m\u001b[0m\u001b[0;34m\u001b[0m\u001b[0m\n\u001b[0;32m--> 166\u001b[0;31m         \u001b[0mself\u001b[0m\u001b[0;34m.\u001b[0m\u001b[0mupdate\u001b[0m\u001b[0;34m(\u001b[0m\u001b[0mkwargs\u001b[0m\u001b[0;34m)\u001b[0m\u001b[0;34m\u001b[0m\u001b[0;34m\u001b[0m\u001b[0m\n\u001b[0m\u001b[1;32m    167\u001b[0m \u001b[0;34m\u001b[0m\u001b[0m\n\u001b[1;32m    168\u001b[0m     \u001b[0;32mdef\u001b[0m \u001b[0mupdate\u001b[0m\u001b[0;34m(\u001b[0m\u001b[0mself\u001b[0m\u001b[0;34m,\u001b[0m \u001b[0mkwargs\u001b[0m\u001b[0;34m)\u001b[0m\u001b[0;34m:\u001b[0m\u001b[0;34m\u001b[0m\u001b[0;34m\u001b[0m\u001b[0m\n",
      "\u001b[0;32m~/miniconda3/envs/env0/lib/python3.9/site-packages/matplotlib/text.py\u001b[0m in \u001b[0;36mupdate\u001b[0;34m(self, kwargs)\u001b[0m\n\u001b[1;32m    175\u001b[0m         \u001b[0;31m# Update bbox last, as it depends on font properties.\u001b[0m\u001b[0;34m\u001b[0m\u001b[0;34m\u001b[0m\u001b[0;34m\u001b[0m\u001b[0m\n\u001b[1;32m    176\u001b[0m         \u001b[0mbbox\u001b[0m \u001b[0;34m=\u001b[0m \u001b[0mkwargs\u001b[0m\u001b[0;34m.\u001b[0m\u001b[0mpop\u001b[0m\u001b[0;34m(\u001b[0m\u001b[0;34m\"bbox\"\u001b[0m\u001b[0;34m,\u001b[0m \u001b[0msentinel\u001b[0m\u001b[0;34m)\u001b[0m\u001b[0;34m\u001b[0m\u001b[0;34m\u001b[0m\u001b[0m\n\u001b[0;32m--> 177\u001b[0;31m         \u001b[0msuper\u001b[0m\u001b[0;34m(\u001b[0m\u001b[0;34m)\u001b[0m\u001b[0;34m.\u001b[0m\u001b[0mupdate\u001b[0m\u001b[0;34m(\u001b[0m\u001b[0mkwargs\u001b[0m\u001b[0;34m)\u001b[0m\u001b[0;34m\u001b[0m\u001b[0;34m\u001b[0m\u001b[0m\n\u001b[0m\u001b[1;32m    178\u001b[0m         \u001b[0;32mif\u001b[0m \u001b[0mbbox\u001b[0m \u001b[0;32mis\u001b[0m \u001b[0;32mnot\u001b[0m \u001b[0msentinel\u001b[0m\u001b[0;34m:\u001b[0m\u001b[0;34m\u001b[0m\u001b[0;34m\u001b[0m\u001b[0m\n\u001b[1;32m    179\u001b[0m             \u001b[0mself\u001b[0m\u001b[0;34m.\u001b[0m\u001b[0mset_bbox\u001b[0m\u001b[0;34m(\u001b[0m\u001b[0mbbox\u001b[0m\u001b[0;34m)\u001b[0m\u001b[0;34m\u001b[0m\u001b[0;34m\u001b[0m\u001b[0m\n",
      "\u001b[0;32m~/miniconda3/envs/env0/lib/python3.9/site-packages/matplotlib/artist.py\u001b[0m in \u001b[0;36mupdate\u001b[0;34m(self, props)\u001b[0m\n\u001b[1;32m    994\u001b[0m                     \u001b[0mfunc\u001b[0m \u001b[0;34m=\u001b[0m \u001b[0mgetattr\u001b[0m\u001b[0;34m(\u001b[0m\u001b[0mself\u001b[0m\u001b[0;34m,\u001b[0m \u001b[0;34mf\"set_{k}\"\u001b[0m\u001b[0;34m,\u001b[0m \u001b[0;32mNone\u001b[0m\u001b[0;34m)\u001b[0m\u001b[0;34m\u001b[0m\u001b[0;34m\u001b[0m\u001b[0m\n\u001b[1;32m    995\u001b[0m                     \u001b[0;32mif\u001b[0m \u001b[0;32mnot\u001b[0m \u001b[0mcallable\u001b[0m\u001b[0;34m(\u001b[0m\u001b[0mfunc\u001b[0m\u001b[0;34m)\u001b[0m\u001b[0;34m:\u001b[0m\u001b[0;34m\u001b[0m\u001b[0;34m\u001b[0m\u001b[0m\n\u001b[0;32m--> 996\u001b[0;31m                         raise AttributeError(f\"{type(self).__name__!r} object \"\n\u001b[0m\u001b[1;32m    997\u001b[0m                                              f\"has no property {k!r}\")\n\u001b[1;32m    998\u001b[0m                     \u001b[0mret\u001b[0m\u001b[0;34m.\u001b[0m\u001b[0mappend\u001b[0m\u001b[0;34m(\u001b[0m\u001b[0mfunc\u001b[0m\u001b[0;34m(\u001b[0m\u001b[0mv\u001b[0m\u001b[0;34m)\u001b[0m\u001b[0;34m)\u001b[0m\u001b[0;34m\u001b[0m\u001b[0;34m\u001b[0m\u001b[0m\n",
      "\u001b[0;31mAttributeError\u001b[0m: 'Text' object has no property 'animate'"
     ]
    }
   ],
   "source": [
    "\n",
    "\n",
    "r = 3\n",
    "n = 100\n",
    "x = np.linspace(-r, r, n)\n",
    "y = np.linspace(-r, r, n)\n",
    "X, Y = np.meshgrid(x, y, sparse=True)\n",
    "z = X + 1j * Y\n",
    "\n",
    "\n",
    "fig = plt.figure()\n",
    "# ax = plt.subplot(xlabel='$\\operatorname {Re} (z)$', ylabel='$\\operatorname {Im} (z)$')\n",
    "ax = plt.subplot(xlabel='$\\Re \\, \\{z\\}$', ylabel='$\\Im \\, \\{z\\}$')\n",
    "\n",
    "a = np.zeros(X.shape)\n",
    "extent=[x.min(), x.max(), y.min(), y.max()]\n",
    "im = plt.imshow(a, origin='lower', extent=extent)\n",
    "# im = plt.imshow(a, origin='lower', interpolation='nearest', extent=extent)\n",
    "ttl = ax.text(.5, 1.05, 'z', transform = ax.transAxes, va='center')\n",
    "\n",
    "f = lambda z, phi: (\n",
    "    (z ** 2 - 2.5) * (z - 2.5 * 1j) * (z + 2.5 * 1j)\n",
    "  * (z - 2 - 1j) ** 2 / ((z - np.exp(1j * phi)) ** 2\n",
    "  * (z - np.exp(1j * 2 * phi)) ** 2)\n",
    ")\n",
    "\n",
    "\n",
    "def init_func():\n",
    "#     ttl.set_text('')\n",
    "#     im.set_data(a)\n",
    "    \n",
    "    return im, ttl\n",
    "\n",
    "\n",
    "def func(t):\n",
    "    im.set_data(z_to_rgb(f(z, phi=2 * np.pi * t)))\n",
    "    ttl.set_text(f'$f(z, \\phi), \\ \\phi = 2 \\pi \\cdot {t:g}$')\n",
    "\n",
    "    return im, ttl\n",
    "\n",
    "\n",
    "total_time = 10  # sec\n",
    "fps = 60\n",
    "frames = round(total_time * fps)\n",
    "t = np.linspace(0, 2, frames, endpoint=False)\n",
    "\n",
    "# t = t[:5]\n",
    "# t = [0]*5\n",
    "\n",
    "ani = FuncAnimation(fig, func, init_func=init_func,\n",
    "                    frames=t, interval=1000 / fps, blit=True)\n",
    "\n",
    "\n",
    "# ani.save('trip.mp4', codec='libx264')\n",
    "progress_callback = lambda i, n: print(f'Saving frame {i} of {n}')\n",
    "# ani.save('trip/trip.png', writer=\"imagemagick\", progress_callback=progress_callback)\n",
    "# ani.save('trip_lossy1.mp4', bitrate=10000, fps=fps, progress_callback=progress_callback)\n",
    "# ani.save('trip_lossless.mp4', fps=fps, codec='libx264', extra_args=['-preset', 'veryslow', '-crf', '0'], progress_callback=progress_callback)\n",
    "# HTML(ani.to_html5_video())\n",
    "# HTML(ani.to_jshtml())\n",
    "# plt.close('all')\n",
    "plt.show()\n",
    "\n",
    "# from IPython.display import Video\n",
    "\n",
    "# Video(\"trip_lossy.mp4\")"
   ]
  },
  {
   "cell_type": "raw",
   "metadata": {},
   "source": [
    " y = (x ** 2 - 2.5) * (x - 2.5 * 1j) * (x + 2.5 * 1j) \\\n",
    "        * (x - 2 - 1j) ** 2 / ((x - np.exp(1j * phi)) ** 2\n",
    "        * (x - np.exp(1j * 2 * phi)) ** 2)"
   ]
  },
  {
   "cell_type": "raw",
   "metadata": {},
   "source": [
    " y = (x ^ 2 - 2.5) * (x - 2.5 * i) * (x + 2.5 * i) * (x - 2 - i) ^ 2 / ((x - exp(i * phi)) ^ 2 * (x - exp(i * 2 * phi)) ^ 2)"
   ]
  },
  {
   "cell_type": "code",
   "execution_count": 11,
   "metadata": {},
   "outputs": [],
   "source": [
    "plt.close('all')"
   ]
  },
  {
   "cell_type": "markdown",
   "metadata": {},
   "source": [
    "$$f(z) = \\left(z^2 - 2.5\\right) \\left(z - 2.5 i\\right) \\left(z + 2.5 i\\right)\n",
    "\\frac {\\left(z - 2 - i\\right)^2} {\\left(z - e^{i \\phi}\\right)^2 \\left(z - e^{2 i \\phi}\\right)^2}$$"
   ]
  },
  {
   "cell_type": "code",
   "execution_count": 5,
   "metadata": {},
   "outputs": [
    {
     "data": {
      "text/plain": [
       "6250.0"
      ]
     },
     "execution_count": 5,
     "metadata": {},
     "output_type": "execute_result"
    }
   ],
   "source": [
    "10000 / 8 * 5 * 300 / 300"
   ]
  },
  {
   "cell_type": "code",
   "execution_count": null,
   "metadata": {},
   "outputs": [],
   "source": [
    "\n",
    "total_time = 30  # sec\n",
    "fps = 60\n",
    "frames = round(total_time * fps)\n",
    "frames, total_time / interval"
   ]
  },
  {
   "cell_type": "code",
   "execution_count": null,
   "metadata": {},
   "outputs": [],
   "source": [
    "frames"
   ]
  }
 ],
 "metadata": {
  "kernelspec": {
   "display_name": "Python [conda env:env0]",
   "language": "python",
   "name": "conda-env-env0-py"
  },
  "language_info": {
   "codemirror_mode": {
    "name": "ipython",
    "version": 3
   },
   "file_extension": ".py",
   "mimetype": "text/x-python",
   "name": "python",
   "nbconvert_exporter": "python",
   "pygments_lexer": "ipython3",
   "version": "3.9.0"
  }
 },
 "nbformat": 4,
 "nbformat_minor": 4
}
