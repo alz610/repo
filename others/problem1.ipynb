{
 "cells": [
  {
   "cell_type": "markdown",
   "metadata": {},
   "source": [
    "# Определение величины"
   ]
  },
  {
   "cell_type": "markdown",
   "metadata": {},
   "source": [
    "Определение дискретной случайной величины $X$, принимающая одно из значений $x_1, x_2, \\dots, x_n$ с соответствующими вероятностями $p_1, p_2, \\dots, p_n$:\n",
    "\n",
    "$\\displaystyle P(X=x_{i})=p_{i}, \\quad \\sum \\limits _{i=1}^n p_{i}=1.$\n",
    "\n",
    "Из этого следует математическое ожидание:\n",
    "\n",
    "$\\displaystyle M[X]=\\sum \\limits _{i=1}^n x_{i}\\,p_{i}$\n",
    "\n",
    "и дисперсия:\n",
    "\n",
    "$\\displaystyle D[X]=M\\left[{\\big (}X-M[X]{\\big )}^{2}\\right] = \\sum _{i=1}^{n}{p_{i}(x_{i}-M[X])^{2}}.$"
   ]
  },
  {
   "cell_type": "markdown",
   "metadata": {},
   "source": [
    "# Математическая постановка задачи"
   ]
  },
  {
   "cell_type": "markdown",
   "metadata": {},
   "source": [
    "Дано: \\\n",
    "$n = 2,$ \\\n",
    "$x_2 > x_1,$ \\\n",
    "$p_1 = p = 0.2,$ \\\n",
    "$M[X] = 2.8,$ \\\n",
    "$D[X] =0.16.$\n",
    "\n",
    "Найти: \\\n",
    "$x_1, \\, x_2, \\, p_2.$"
   ]
  },
  {
   "cell_type": "markdown",
   "metadata": {},
   "source": [
    "# Решение"
   ]
  },
  {
   "cell_type": "markdown",
   "metadata": {},
   "source": [
    "## Система уравнений"
   ]
  },
  {
   "cell_type": "markdown",
   "metadata": {},
   "source": [
    "$\\displaystyle \\sum \\limits _{i=1}^2 p_{i} = p_1 + p_2 = 1,$\n",
    "\n",
    "$x_1 p_1 + x_2 p_2 = M[X],$\n",
    "\n",
    "$p_1 (x_1 - M[X])^2 + p_2 (x_2 - M[X])^2 = D[X].$"
   ]
  },
  {
   "cell_type": "markdown",
   "metadata": {},
   "source": [
    "Кол-во всех переменных: 6. \\\n",
    "Кол-во уравнений: 3. \\\n",
    "Известные переменные: $M[X], \\, D[X], \\, p_1$. Их кол-во: 3. \\\n",
    "Неизвестные переменные: $x_1, \\, x_2, \\, p_2$. Их кол-во: 3. "
   ]
  },
  {
   "cell_type": "markdown",
   "metadata": {},
   "source": [
    "$[(\\text{Кол-во всех переменных}) - (\\text{Кол-во уравнений}) = (\\text{Кол-во неизвестных переменных})]\n",
    "\\Rightarrow [\\text{Система определена полностью \\& Конечное кол-во её корней}]$"
   ]
  },
  {
   "cell_type": "markdown",
   "metadata": {},
   "source": [
    "Система определена полностью и имеет конечное кол-во корней."
   ]
  },
  {
   "cell_type": "markdown",
   "metadata": {},
   "source": [
    "## Решение системы уравнений"
   ]
  },
  {
   "cell_type": "markdown",
   "metadata": {},
   "source": [
    "Найдем $p_2$. После этого система сократится до двух уравнений."
   ]
  },
  {
   "cell_type": "markdown",
   "metadata": {},
   "source": [
    "$p_1 + p_2 = 1$ \\\n",
    "$\\Leftrightarrow p_2 = 1 - p_1 = 0.8.$"
   ]
  },
  {
   "cell_type": "markdown",
   "metadata": {},
   "source": [
    "Решим систему двух уравнений с помощью пакета `SymPy`"
   ]
  },
  {
   "cell_type": "code",
   "execution_count": 83,
   "metadata": {},
   "outputs": [
    {
     "data": {
      "image/png": "[encoded data removed]",
      "text/latex": [
       "$\\displaystyle \\left( \\left[ x_{1}, \\  x_{2}\\right], \\  \\left\\{\\left( - \\frac{- M + p_{2} \\left(\\frac{M}{p_{1} + p_{2}} - \\frac{\\sqrt{- p_{1} p_{2} \\left(- D p_{1} - D p_{2} + M^{2} p_{1}^{2} + 2 M^{2} p_{1} p_{2} - 2 M^{2} p_{1} + M^{2} p_{2}^{2} - 2 M^{2} p_{2} + M^{2}\\right)}}{p_{2} \\left(p_{1} + p_{2}\\right)}\\right)}{p_{1}}, \\  \\frac{M}{p_{1} + p_{2}} - \\frac{\\sqrt{- p_{1} p_{2} \\left(- D p_{1} - D p_{2} + M^{2} p_{1}^{2} + 2 M^{2} p_{1} p_{2} - 2 M^{2} p_{1} + M^{2} p_{2}^{2} - 2 M^{2} p_{2} + M^{2}\\right)}}{p_{2} \\left(p_{1} + p_{2}\\right)}\\right), \\left( - \\frac{- M + p_{2} \\left(\\frac{M}{p_{1} + p_{2}} + \\frac{\\sqrt{- p_{1} p_{2} \\left(- D p_{1} - D p_{2} + M^{2} p_{1}^{2} + 2 M^{2} p_{1} p_{2} - 2 M^{2} p_{1} + M^{2} p_{2}^{2} - 2 M^{2} p_{2} + M^{2}\\right)}}{p_{2} \\left(p_{1} + p_{2}\\right)}\\right)}{p_{1}}, \\  \\frac{M}{p_{1} + p_{2}} + \\frac{\\sqrt{- p_{1} p_{2} \\left(- D p_{1} - D p_{2} + M^{2} p_{1}^{2} + 2 M^{2} p_{1} p_{2} - 2 M^{2} p_{1} + M^{2} p_{2}^{2} - 2 M^{2} p_{2} + M^{2}\\right)}}{p_{2} \\left(p_{1} + p_{2}\\right)}\\right)\\right\\}\\right)$"
      ],
      "text/plain": [
       "⎛          ⎧⎛ ⎛        ⎛             _________________________________________\n",
       "⎜          ⎪⎜ ⎜        ⎜            ╱        ⎛                2   2      2    \n",
       "⎜          ⎪⎜ ⎜        ⎜   M      ╲╱  -p₁⋅p₂⋅⎝-D⋅p₁ - D⋅p₂ + M ⋅p₁  + 2⋅M ⋅p₁⋅\n",
       "⎜          ⎨⎜-⎜-M + p₂⋅⎜─────── - ────────────────────────────────────────────\n",
       "⎜          ⎪⎜ ⎝        ⎝p₁ + p₂                                      p₂⋅(p₁ + \n",
       "⎜[x₁, x₂], ⎪⎜─────────────────────────────────────────────────────────────────\n",
       "⎝          ⎩⎝                                                    p₁           \n",
       "\n",
       "______________________________________⎞⎞                                      \n",
       "        2       2   2      2       2⎞ ⎟⎟                                      \n",
       "p₂ - 2⋅M ⋅p₁ + M ⋅p₂  - 2⋅M ⋅p₂ + M ⎠ ⎟⎟                ______________________\n",
       "──────────────────────────────────────⎟⎟               ╱        ⎛             \n",
       "p₂)                                   ⎠⎠      M      ╲╱  -p₁⋅p₂⋅⎝-D⋅p₁ - D⋅p₂ \n",
       "─────────────────────────────────────────, ─────── - ─────────────────────────\n",
       "                                           p₁ + p₂                            \n",
       "\n",
       "                                                         ⎞  ⎛ ⎛        ⎛      \n",
       "                                                         ⎟  ⎜ ⎜        ⎜      \n",
       "_________________________________________________________⎟  ⎜ ⎜        ⎜   M  \n",
       "   2   2      2            2       2   2      2       2⎞ ⎟  ⎜-⎜-M + p₂⋅⎜──────\n",
       "+ M ⋅p₁  + 2⋅M ⋅p₁⋅p₂ - 2⋅M ⋅p₁ + M ⋅p₂  - 2⋅M ⋅p₂ + M ⎠ ⎟  ⎜ ⎝        ⎝p₁ + p\n",
       "─────────────────────────────────────────────────────────⎟, ⎜─────────────────\n",
       "          p₂⋅(p₁ + p₂)                                   ⎠  ⎝                 \n",
       "\n",
       "       _______________________________________________________________________\n",
       "      ╱        ⎛                2   2      2            2       2   2      2  \n",
       "    ╲╱  -p₁⋅p₂⋅⎝-D⋅p₁ - D⋅p₂ + M ⋅p₁  + 2⋅M ⋅p₁⋅p₂ - 2⋅M ⋅p₁ + M ⋅p₂  - 2⋅M ⋅p\n",
       "─ + ──────────────────────────────────────────────────────────────────────────\n",
       "₂                                      p₂⋅(p₁ + p₂)                           \n",
       "──────────────────────────────────────────────────────────────────────────────\n",
       "                                   p₁                                         \n",
       "\n",
       "________⎞⎞                                                                    \n",
       "     2⎞ ⎟⎟                                                                    \n",
       "₂ + M ⎠ ⎟⎟                ____________________________________________________\n",
       "────────⎟⎟               ╱        ⎛                2   2      2            2  \n",
       "        ⎠⎠      M      ╲╱  -p₁⋅p₂⋅⎝-D⋅p₁ - D⋅p₂ + M ⋅p₁  + 2⋅M ⋅p₁⋅p₂ - 2⋅M ⋅p\n",
       "───────────, ─────── + ───────────────────────────────────────────────────────\n",
       "             p₁ + p₂                                      p₂⋅(p₁ + p₂)        \n",
       "\n",
       "                           ⎞⎫⎞\n",
       "                           ⎟⎪⎟\n",
       "___________________________⎟⎪⎟\n",
       "     2   2      2       2⎞ ⎟⎬⎟\n",
       "₁ + M ⋅p₂  - 2⋅M ⋅p₂ + M ⎠ ⎟⎪⎟\n",
       "───────────────────────────⎟⎪⎟\n",
       "                           ⎠⎭⎠"
      ]
     },
     "execution_count": 83,
     "metadata": {},
     "output_type": "execute_result"
    }
   ],
   "source": [
    "from sympy import *\n",
    "\n",
    "# вызываем для красивого читабельного вывода\n",
    "init_printing(use_latex=True)\n",
    "\n",
    "# объявляем переменные\n",
    "var(\"x1 x2 p1 p2 M D\")\n",
    "\n",
    "# символьно записываем значения известных переменных\n",
    "data = {p1: S(\"0.2\"), p2: S(\"0.8\"), M: S(\"2.8\"), D: S(\"0.16\")}\n",
    "\n",
    "# записываем уравнения A = B в форме A - B\n",
    "eq1 = x1 * p1 + x2 * p2 - M\n",
    "eq2 = p1 * (x1 - M)**2 + p2 * (x2 - M)**2 - D\n",
    "\n",
    "# решаем систему уравнений eq1 и eq2 относительно переменных x1 и x2\n",
    "solve((eq1, eq2), (x1, x2), set=True)"
   ]
  },
  {
   "cell_type": "markdown",
   "metadata": {},
   "source": [
    "Система имеет два корня.\n",
    "\n",
    "Подстановка численных значений"
   ]
  },
  {
   "cell_type": "code",
   "execution_count": 84,
   "metadata": {},
   "outputs": [
    {
     "data": {
      "image/png": "[encoded data removed]",
      "text/latex": [
       "$\\displaystyle \\left( \\left[ x_{1}, \\  x_{2}\\right], \\  \\left\\{\\left( 2.0, \\  3.0\\right), \\left( 3.6, \\  2.6\\right)\\right\\}\\right)$"
      ],
      "text/plain": [
       "([x₁, x₂], {(2.0, 3.0), (3.6, 2.6)})"
      ]
     },
     "execution_count": 84,
     "metadata": {},
     "output_type": "execute_result"
    }
   ],
   "source": [
    "(_83[0], {(root[0].subs(data), root[1].subs(data)) for root in _83[1]})"
   ]
  },
  {
   "cell_type": "markdown",
   "metadata": {},
   "source": [
    "Выбираем те корни, где $x_2 > x_1$ по условию задачи"
   ]
  },
  {
   "cell_type": "code",
   "execution_count": 86,
   "metadata": {},
   "outputs": [
    {
     "data": {
      "image/png": "[encoded data removed]",
      "text/latex": [
       "$\\displaystyle \\left( \\left[ x_{1}, \\  x_{2}\\right], \\  \\left\\{\\left( 2.0, \\  3.0\\right)\\right\\}\\right)$"
      ],
      "text/plain": [
       "([x₁, x₂], {(2.0, 3.0)})"
      ]
     },
     "execution_count": 86,
     "metadata": {},
     "output_type": "execute_result"
    }
   ],
   "source": [
    "(_84[0], {root for root in _84[1] if root[1] > root[0]})"
   ]
  },
  {
   "cell_type": "markdown",
   "metadata": {},
   "source": [
    "В решении задачи есть один корень $(x_1, \\, x_2) = (2.0, \\, 3.0)$ системы двух уравнений."
   ]
  },
  {
   "cell_type": "markdown",
   "metadata": {},
   "source": [
    "Решением задачи явл-ся $(x_1, \\, x_2, \\, p_2) = (2.0, 3.0, 0.8)$.\n",
    "\n",
    "Запишем соответственно распределение у $X$:\n",
    "\n",
    "| x | p |\n",
    "|:---|:---|\n",
    "| 2.0 | 0.2 |\n",
    "| 3.0 | 0.8 |"
   ]
  }
 ],
 "metadata": {
  "kernelspec": {
   "display_name": "Python [conda env:env0]",
   "language": "python",
   "name": "conda-env-env0-py"
  },
  "language_info": {
   "codemirror_mode": {
    "name": "ipython",
    "version": 3
   },
   "file_extension": ".py",
   "mimetype": "text/x-python",
   "name": "python",
   "nbconvert_exporter": "python",
   "pygments_lexer": "ipython3",
   "version": "3.9.0"
  }
 },
 "nbformat": 4,
 "nbformat_minor": 4
}
