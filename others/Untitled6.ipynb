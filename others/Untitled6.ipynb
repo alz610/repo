{
 "cells": [
  {
   "cell_type": "code",
   "execution_count": 1,
   "id": "portable-invitation",
   "metadata": {},
   "outputs": [
    {
     "data": {
      "text/plain": [
       "142.85714285714286"
      ]
     },
     "execution_count": 1,
     "metadata": {},
     "output_type": "execute_result"
    }
   ],
   "source": [
    "1000 / 7"
   ]
  },
  {
   "cell_type": "code",
   "execution_count": 5,
   "id": "outdoor-implement",
   "metadata": {},
   "outputs": [
    {
     "data": {
      "text/plain": [
       "1001"
      ]
     },
     "execution_count": 5,
     "metadata": {},
     "output_type": "execute_result"
    }
   ],
   "source": [
    "7 * 143"
   ]
  },
  {
   "cell_type": "code",
   "execution_count": 10,
   "id": "occupied-inspiration",
   "metadata": {},
   "outputs": [
    {
     "data": {
      "text/plain": [
       "13800"
      ]
     },
     "execution_count": 10,
     "metadata": {},
     "output_type": "execute_result"
    }
   ],
   "source": [
    "60 * 230"
   ]
  },
  {
   "cell_type": "code",
   "execution_count": 11,
   "id": "powered-bulgaria",
   "metadata": {},
   "outputs": [
    {
     "data": {
      "text/plain": [
       "24000"
      ]
     },
     "execution_count": 11,
     "metadata": {},
     "output_type": "execute_result"
    }
   ],
   "source": [
    "60 * 400"
   ]
  },
  {
   "cell_type": "code",
   "execution_count": 21,
   "id": "informative-circumstances",
   "metadata": {},
   "outputs": [
    {
     "name": "stdout",
     "output_type": "stream",
     "text": [
      "<Managed Device 0>\n"
     ]
    }
   ],
   "source": [
    "from numba import cuda\n",
    "print(cuda.gpus)"
   ]
  },
  {
   "cell_type": "code",
   "execution_count": 24,
   "id": "homeless-louisiana",
   "metadata": {},
   "outputs": [
    {
     "data": {
      "text/plain": [
       "294.4"
      ]
     },
     "execution_count": 24,
     "metadata": {},
     "output_type": "execute_result"
    }
   ],
   "source": [
    "# SP -- Single Point\n",
    "# FLOPs / cycle / thread * GHz * treads = GFLOPs\n",
    "# Pentium 4415U -- Kaby Lake https://en.wikichip.org/wiki/flops\n",
    "32 * 2.300 * 4"
   ]
  }
 ],
 "metadata": {
  "kernelspec": {
   "display_name": "Python [conda env:env0]",
   "language": "python",
   "name": "conda-env-env0-py"
  },
  "language_info": {
   "codemirror_mode": {
    "name": "ipython",
    "version": 3
   },
   "file_extension": ".py",
   "mimetype": "text/x-python",
   "name": "python",
   "nbconvert_exporter": "python",
   "pygments_lexer": "ipython3",
   "version": "3.9.2"
  }
 },
 "nbformat": 4,
 "nbformat_minor": 5
}
