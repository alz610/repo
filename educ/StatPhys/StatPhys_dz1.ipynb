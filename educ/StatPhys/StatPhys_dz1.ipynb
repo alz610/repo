{
 "cells": [
  {
   "cell_type": "markdown",
   "metadata": {},
   "source": [
    "Выражение кинетической энергий вращения через угловую скорость:\n",
    "$$E_\\text{rot}(\\vec\\omega) = \\frac 1 2 \\left(I_1 \\omega_1^2 + I_2 \\omega_2^2 + I_3 \\omega_3^2 \\right)$$"
   ]
  },
  {
   "cell_type": "markdown",
   "metadata": {},
   "source": [
    "Выражение плотности вероятности угловой скорости:\n",
    "$$\\rho(\\vec\\omega) = C \\, e^{-{E_\\text{rot}(\\vec\\omega) \\over T}}$$\n",
    "где единица измерения $T$ есть $\\text{erg}$ "
   ]
  },
  {
   "cell_type": "markdown",
   "metadata": {},
   "source": [
    "Определение момента импульса:\n",
    "$$\\vec L = \\hat I \\cdot \\vec \\omega$$\n",
    "\n",
    "Выражение тензора инерции в cистеме координат главных осей инерции:\n",
    "$$\\hat I = \\begin{pmatrix} I_1 & 0 & 0 \\\\ 0 & I_2 & 0 \\\\ 0 & 0 & I_3 \\end{pmatrix}$$\n",
    "где $I_i$ -- главный момент инерции "
   ]
  },
  {
   "cell_type": "markdown",
   "metadata": {},
   "source": [
    "Среднее значение непрерывной случайной величины $X$:\n",
    "$$\\langle X \\rangle = \\int_{(X)} \\! x \\rho_X(x) \\, \\mathrm dx$$\n",
    "\n",
    "Среднее значение преобразования случайной величины $X$:\n",
    "$$\\langle g(X) \\rangle = \\int_{(X)} \\! g(x) \\, \\rho_X(x) \\, \\mathrm dx$$\n",
    "\n",
    "Условие нормировки:\n",
    "$$\\int_{(X)} \\! \\rho_X(x) \\, \\mathrm dx = 1$$\n",
    "\n",
    "где $\\rho_X$ и $(X)$ -- плотность вероятности и область определения величины $X$"
   ]
  },
  {
   "cell_type": "markdown",
   "metadata": {},
   "source": [
    "# Инициализация"
   ]
  },
  {
   "cell_type": "code",
   "execution_count": 156,
   "metadata": {},
   "outputs": [],
   "source": [
    "from sympy import *\n",
    "from IPython.display import Markdown, display\n",
    "import numpy as np\n",
    "\n",
    "var('omega1 omega2 omega3 L1 L2 L3 C', real=True)\n",
    "var('I1 I2 I3 T', positive=True)\n",
    "\n",
    "E_rot_expr = S(1) / 2 * (I1 * omega1**2 + I2 * omega2**2 + I3 * omega3**2)"
   ]
  },
  {
   "cell_type": "markdown",
   "metadata": {},
   "source": [
    "# Задача 1"
   ]
  },
  {
   "cell_type": "code",
   "execution_count": 157,
   "metadata": {},
   "outputs": [
    {
     "data": {
      "text/markdown": [
       "$\\displaystyle C \\in \\left\\{\\frac{2 \\sqrt{2} \\sqrt{I_{1}} \\sqrt{I_{2}} \\sqrt{I_{3}}}{\\pi^{\\frac{3}{2}} T^{\\frac{3}{2}}}\\right\\}$"
      ],
      "text/plain": [
       "<IPython.core.display.Markdown object>"
      ]
     },
     "execution_count": 157,
     "metadata": {},
     "output_type": "execute_result"
    }
   ],
   "source": [
    "rho_expr = C * exp(- E_rot_expr / T)\n",
    "\n",
    "int_expr = integrate(rho_expr,\n",
    "                     (omega1, 0, oo),\n",
    "                     (omega2, 0, oo),\n",
    "                     (omega3, 0, oo))\n",
    "\n",
    "C_set = solveset(int_expr - 1, C)\n",
    "\n",
    "Markdown(fr'$\\displaystyle C \\in {latex(C_set)}$')"
   ]
  },
  {
   "cell_type": "code",
   "execution_count": 158,
   "metadata": {},
   "outputs": [
    {
     "data": {
      "text/markdown": [
       "$\\displaystyle \\rho(\\vec\\omega) = \\frac{2 \\sqrt{2} \\sqrt{I_{1}} \\sqrt{I_{2}} \\sqrt{I_{3}} e^{\\frac{- \\frac{I_{1} \\omega_{1}^{2}}{2} - \\frac{I_{2} \\omega_{2}^{2}}{2} - \\frac{I_{3} \\omega_{3}^{2}}{2}}{T}}}{\\pi^{\\frac{3}{2}} T^{\\frac{3}{2}}}$"
      ],
      "text/plain": [
       "<IPython.core.display.Markdown object>"
      ]
     },
     "execution_count": 158,
     "metadata": {},
     "output_type": "execute_result"
    }
   ],
   "source": [
    "C_expr, = C_set\n",
    "rho_expr_vec_omega = rho_expr.subs(C, C_expr)\n",
    "\n",
    "Markdown(fr'$\\displaystyle \\rho(\\vec\\omega) = {latex(rho_expr_vec_omega)}$')"
   ]
  },
  {
   "cell_type": "markdown",
   "metadata": {},
   "source": [
    "# Задача 2"
   ]
  },
  {
   "cell_type": "markdown",
   "metadata": {},
   "source": [
    "Из определения момента импульса и выражения тензора инерции:\n",
    "$$L_i = I_i \\omega_i$$"
   ]
  },
  {
   "cell_type": "markdown",
   "metadata": {},
   "source": [
    "Выражение $E_\\text{rot}$ через $L_i$:"
   ]
  },
  {
   "cell_type": "code",
   "execution_count": 159,
   "metadata": {},
   "outputs": [
    {
     "data": {
      "text/latex": [
       "$\\displaystyle \\frac{L_{3}^{2}}{2 I_{3}} + \\frac{L_{2}^{2}}{2 I_{2}} + \\frac{L_{1}^{2}}{2 I_{1}}$"
      ],
      "text/plain": [
       "L3**2/(2*I3) + L2**2/(2*I2) + L1**2/(2*I1)"
      ]
     },
     "execution_count": 159,
     "metadata": {},
     "output_type": "execute_result"
    }
   ],
   "source": [
    "E_rot_expr1 = E_rot_expr.subs([(omega1, L1 / I1),\n",
    "                               (omega2, L2 / I2),\n",
    "                               (omega3, L3 / I3)])\n",
    "\n",
    "E_rot_expr1"
   ]
  },
  {
   "cell_type": "code",
   "execution_count": 160,
   "metadata": {},
   "outputs": [
    {
     "data": {
      "text/markdown": [
       "$\\displaystyle C \\in \\left\\{\\frac{2 \\sqrt{2}}{\\pi^{\\frac{3}{2}} \\sqrt{I_{1}} \\sqrt{I_{2}} \\sqrt{I_{3}} T^{\\frac{3}{2}}}\\right\\}$"
      ],
      "text/plain": [
       "<IPython.core.display.Markdown object>"
      ]
     },
     "execution_count": 160,
     "metadata": {},
     "output_type": "execute_result"
    }
   ],
   "source": [
    "rho_expr = C * exp(- E_rot_expr1 / T)\n",
    "\n",
    "int_expr = integrate(rho_expr,\n",
    "                     (L1, 0, oo),\n",
    "                     (L2, 0, oo),\n",
    "                     (L3, 0, oo))\n",
    "\n",
    "C_set = solveset(int_expr - 1, C)\n",
    "\n",
    "Markdown(fr'$\\displaystyle C \\in {latex(C_set)}$')"
   ]
  },
  {
   "cell_type": "code",
   "execution_count": 161,
   "metadata": {},
   "outputs": [
    {
     "data": {
      "text/markdown": [
       "$\\displaystyle \\rho(\\vec L) = \\frac{2 \\sqrt{2} e^{\\frac{- \\frac{L_{3}^{2}}{2 I_{3}} - \\frac{L_{2}^{2}}{2 I_{2}} - \\frac{L_{1}^{2}}{2 I_{1}}}{T}}}{\\pi^{\\frac{3}{2}} \\sqrt{I_{1}} \\sqrt{I_{2}} \\sqrt{I_{3}} T^{\\frac{3}{2}}}$"
      ],
      "text/plain": [
       "<IPython.core.display.Markdown object>"
      ]
     },
     "execution_count": 161,
     "metadata": {},
     "output_type": "execute_result"
    }
   ],
   "source": [
    "C_expr, = C_set\n",
    "rho_expr_vec_L = rho_expr.subs(C, C_expr)\n",
    "\n",
    "Markdown(fr'$\\displaystyle \\rho(\\vec L) = {latex(rho_expr_vec_L)}$')"
   ]
  },
  {
   "cell_type": "markdown",
   "metadata": {},
   "source": [
    "# Задача 3"
   ]
  },
  {
   "cell_type": "markdown",
   "metadata": {},
   "source": [
    "Плотность вероятности компоненты угловой скорости $\\omega_i$:\n",
    "$$\\rho(\\omega_i) = \\int \\limits_0^\\infty \\!\\!\\! \\int \\limits_0^\\infty \\!\n",
    "\\rho(\\vec\\omega) \\, \\mathrm d\\omega_j  \\mathrm d\\omega_k \\quad i \\neq j \\neq k$$\n",
    "\n",
    "Среднее значение величины $\\omega_i$:\n",
    "$$\\langle \\omega_i \\rangle = \\int \\limits_0^\\infty \\! \\omega_i \\rho(\\omega_i) \\, \\mathrm d\\omega_i$$\n",
    "\n",
    "Среднее значение преобразования $g(\\omega_i)$:\n",
    "$$\\langle g(\\omega_i) \\rangle = \\int \\limits_0^\\infty \\! g(\\omega_i) \\, \\rho(\\omega_i) \\, \\mathrm d\\omega_i$$"
   ]
  },
  {
   "cell_type": "code",
   "execution_count": 193,
   "metadata": {},
   "outputs": [
    {
     "data": {
      "text/markdown": [
       "$\\displaystyle \\\n",
       "        \\langle \\omega_1 \\rangle^2 - \\langle \\omega_1^2 \\rangle = - \\frac{T \\left(-2 + \\pi\\right)}{\\pi I_{1}}$"
      ],
      "text/plain": [
       "<IPython.core.display.Markdown object>"
      ]
     },
     "metadata": {},
     "output_type": "display_data"
    },
    {
     "data": {
      "text/markdown": [
       "$\\displaystyle \\\n",
       "        \\langle \\omega_2 \\rangle^2 - \\langle \\omega_2^2 \\rangle = - \\frac{T \\left(-2 + \\pi\\right)}{\\pi I_{2}}$"
      ],
      "text/plain": [
       "<IPython.core.display.Markdown object>"
      ]
     },
     "metadata": {},
     "output_type": "display_data"
    },
    {
     "data": {
      "text/markdown": [
       "$\\displaystyle \\\n",
       "        \\langle \\omega_3 \\rangle^2 - \\langle \\omega_3^2 \\rangle = - \\frac{T \\left(-2 + \\pi\\right)}{\\pi I_{3}}$"
      ],
      "text/plain": [
       "<IPython.core.display.Markdown object>"
      ]
     },
     "metadata": {},
     "output_type": "display_data"
    }
   ],
   "source": [
    "omega = np.array([omega1, omega2, omega3])\n",
    "n = len(omega)\n",
    "\n",
    "for i in range(n):\n",
    "    mask = np.ones(n, dtype=bool)\n",
    "    mask[i] = False\n",
    "\n",
    "    rho_expr_omega = integrate(rho_expr_vec_omega,\n",
    "                               *[(omega_, 0, oo) for omega_ in omega[mask]])\n",
    "    \n",
    "    overage_omega = integrate(omega[i] * rho_expr_omega, (omega[i], 0, oo))\n",
    "    overage_omega_2 = integrate(omega[i]**2 * rho_expr_omega, (omega[i], 0, oo))\n",
    "    \n",
    "    expr = factor(overage_omega**2 - overage_omega_2)\n",
    "\n",
    "    display(Markdown(fr'$\\displaystyle \\\n",
    "        \\langle \\omega_{i+1} \\rangle^2 - \\langle \\omega_{i+1}^2 \\rangle = {latex(expr)}$'))"
   ]
  },
  {
   "cell_type": "markdown",
   "metadata": {},
   "source": [
    "# Задача 4"
   ]
  },
  {
   "cell_type": "markdown",
   "metadata": {},
   "source": [
    "Плотность вероятности компоненты момента импульса $L_i$:\n",
    "$$\\rho(L_i) = \\int \\limits_0^\\infty \\!\\!\\! \\int \\limits_0^\\infty \\!\n",
    "\\rho(\\vec L) \\, \\mathrm dL_j \\mathrm dL_k \\quad i \\neq j \\neq k$$\n",
    "\n",
    "Среднее значение величины $L_i$:\n",
    "$$\\langle L_i \\rangle = \\int \\limits_0^\\infty \\! L_i \\rho(L_i) \\, \\mathrm dL_i$$\n",
    "\n",
    "Среднее значение преобразования $g(L_i)$:\n",
    "$$\\langle g(L_i) \\rangle = \\int \\limits_0^\\infty \\! g(L_i) \\, \\rho(L_i) \\, \\mathrm dL_i$$"
   ]
  },
  {
   "cell_type": "code",
   "execution_count": 195,
   "metadata": {},
   "outputs": [
    {
     "data": {
      "text/markdown": [
       "$\\displaystyle \\\n",
       "        \\langle L_1 \\rangle^2 - \\langle L_1^2 \\rangle = - \\frac{I_{1} T \\left(-2 + \\pi\\right)}{\\pi}$"
      ],
      "text/plain": [
       "<IPython.core.display.Markdown object>"
      ]
     },
     "metadata": {},
     "output_type": "display_data"
    },
    {
     "data": {
      "text/markdown": [
       "$\\displaystyle \\\n",
       "        \\langle L_2 \\rangle^2 - \\langle L_2^2 \\rangle = - \\frac{I_{2} T \\left(-2 + \\pi\\right)}{\\pi}$"
      ],
      "text/plain": [
       "<IPython.core.display.Markdown object>"
      ]
     },
     "metadata": {},
     "output_type": "display_data"
    },
    {
     "data": {
      "text/markdown": [
       "$\\displaystyle \\\n",
       "        \\langle L_3 \\rangle^2 - \\langle L_3^2 \\rangle = - \\frac{I_{3} T \\left(-2 + \\pi\\right)}{\\pi}$"
      ],
      "text/plain": [
       "<IPython.core.display.Markdown object>"
      ]
     },
     "metadata": {},
     "output_type": "display_data"
    }
   ],
   "source": [
    "L = np.array([L1, L2, L3])\n",
    "n = len(L)\n",
    "\n",
    "for i in range(n):\n",
    "    mask = np.ones(n, dtype=bool)\n",
    "    mask[i] = False\n",
    "\n",
    "    rho_expr_L = integrate(rho_expr_vec_L,\n",
    "                           *[(L_, 0, oo) for L_ in L[mask]])\n",
    "    \n",
    "    overage_L = integrate(L[i] * rho_expr_L, (L[i], 0, oo))\n",
    "    overage_L_2 = integrate(L[i]**2 * rho_expr_L, (L[i], 0, oo))\n",
    "    \n",
    "    expr = factor(overage_L**2 - overage_L_2)\n",
    "\n",
    "    display(Markdown(fr'$\\displaystyle \\\n",
    "        \\langle L_{i+1} \\rangle^2 - \\langle L_{i+1}^2 \\rangle = {latex(expr)}$'))"
   ]
  },
  {
   "cell_type": "markdown",
   "metadata": {},
   "source": [
    "# Задание 5"
   ]
  },
  {
   "cell_type": "markdown",
   "metadata": {},
   "source": [
    "В силу линейности операции усреднения:\n",
    "$$\\langle \\omega \\rangle = \\langle \\omega_1 \\rangle$$"
   ]
  }
 ],
 "metadata": {
  "kernelspec": {
   "display_name": "Python 3",
   "language": "python",
   "name": "python3"
  },
  "language_info": {
   "codemirror_mode": {
    "name": "ipython",
    "version": 3
   },
   "file_extension": ".py",
   "mimetype": "text/x-python",
   "name": "python",
   "nbconvert_exporter": "python",
   "pygments_lexer": "ipython3",
   "version": "3.8.2"
  }
 },
 "nbformat": 4,
 "nbformat_minor": 4
}
