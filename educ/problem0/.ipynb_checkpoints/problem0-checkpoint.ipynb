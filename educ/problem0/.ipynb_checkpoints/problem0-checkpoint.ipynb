{
 "cells": [
  {
   "cell_type": "markdown",
   "metadata": {},
   "source": [
    "# Init"
   ]
  },
  {
   "cell_type": "code",
   "execution_count": 1,
   "metadata": {},
   "outputs": [],
   "source": [
    "import pandas as pd\n",
    "import pint\n",
    "\n",
    "ureg = pint.UnitRegistry()\n",
    "# ureg = pint.UnitRegistry(fmt_locale='ru_RU')\n",
    "# ureg.default_format = '.3g'"
   ]
  },
  {
   "cell_type": "markdown",
   "metadata": {},
   "source": [
    "Вывод универсальной газовой постоянной $R$ библиотеки `pint` физических величин"
   ]
  },
  {
   "cell_type": "code",
   "execution_count": 2,
   "metadata": {},
   "outputs": [
    {
     "data": {
      "text/html": [
       "8.314462618153241 joule/(kelvin mole)"
      ],
      "text/latex": [
       "$8.314462618153241\\ \\frac{\\mathrm{joule}}{\\left(\\mathrm{kelvin} \\cdot \\mathrm{mole}\\right)}$"
      ],
      "text/plain": [
       "8.314462618153241 <Unit('joule / kelvin / mole')>"
      ]
     },
     "execution_count": 2,
     "metadata": {},
     "output_type": "execute_result"
    }
   ],
   "source": [
    "(1 * ureg.R).to('J / mol / K')"
   ]
  },
  {
   "cell_type": "markdown",
   "metadata": {},
   "source": [
    "ускорения свободного падения $g$"
   ]
  },
  {
   "cell_type": "code",
   "execution_count": 3,
   "metadata": {},
   "outputs": [
    {
     "data": {
      "text/html": [
       "9.80665 meter/second<sup>2</sup>"
      ],
      "text/latex": [
       "$9.80665\\ \\frac{\\mathrm{meter}}{\\mathrm{second}^{2}}$"
      ],
      "text/plain": [
       "9.80665 <Unit('meter / second ** 2')>"
      ]
     },
     "execution_count": 3,
     "metadata": {},
     "output_type": "execute_result"
    }
   ],
   "source": [
    "(1 * ureg.g0).to('m/s^2')"
   ]
  },
  {
   "cell_type": "markdown",
   "metadata": {},
   "source": [
    "Настройка форматирования физических величин библиотеки `pint`"
   ]
  },
  {
   "cell_type": "code",
   "execution_count": 4,
   "metadata": {},
   "outputs": [],
   "source": [
    "# pint.util.PrettyIPython._repr_html_ = lambda self: \"${:.4g~L}$\".format(self)\n",
    "pint.util.PrettyIPython._repr_html_ = lambda self: \"${:.5gL}$\".format(self)"
   ]
  },
  {
   "cell_type": "markdown",
   "metadata": {},
   "source": [
    "# Данные"
   ]
  },
  {
   "cell_type": "markdown",
   "metadata": {},
   "source": [
    "Значения величин в стандартных условиях $P_{ст}$, $T_{ст}$ и $Z_{ст}$"
   ]
  },
  {
   "cell_type": "code",
   "execution_count": 5,
   "metadata": {},
   "outputs": [
    {
     "data": {
      "text/html": [
       "$1.0133\\times 10^{5}\\ \\mathrm{pascal}$"
      ],
      "text/latex": [
       "$101330\\ \\mathrm{pascal}$"
      ],
      "text/plain": [
       "101330 <Unit('pascal')>"
      ]
     },
     "metadata": {},
     "output_type": "display_data"
    },
    {
     "data": {
      "text/html": [
       "$289\\ \\mathrm{kelvin}$"
      ],
      "text/latex": [
       "$289\\ \\mathrm{kelvin}$"
      ],
      "text/plain": [
       "289 <Unit('kelvin')>"
      ]
     },
     "metadata": {},
     "output_type": "display_data"
    },
    {
     "data": {
      "text/html": [
       "$1\\ dimensionless$"
      ],
      "text/latex": [
       "$1\\ dimensionless$"
      ],
      "text/plain": [
       "1 <Unit('dimensionless')>"
      ]
     },
     "metadata": {},
     "output_type": "display_data"
    }
   ],
   "source": [
    "P_st = ureg('101330 Pa')\n",
    "T_st = ureg('289 K')\n",
    "Z_st = ureg('1 dimensionless')\n",
    "\n",
    "display(P_st, T_st, Z_st)"
   ]
  },
  {
   "cell_type": "markdown",
   "metadata": {},
   "source": [
    "Молярная масса воздуха $M_{air}$"
   ]
  },
  {
   "cell_type": "code",
   "execution_count": 6,
   "metadata": {},
   "outputs": [
    {
     "data": {
      "text/html": [
       "$28.97\\ \\frac{\\mathrm{gram}}{\\mathrm{mole}}$"
      ],
      "text/latex": [
       "$28.97\\ \\frac{\\mathrm{gram}}{\\mathrm{mole}}$"
      ],
      "text/plain": [
       "28.97 <Unit('gram / mole')>"
      ]
     },
     "execution_count": 6,
     "metadata": {},
     "output_type": "execute_result"
    }
   ],
   "source": [
    "M_air = ureg('28.97 g/mol')\n",
    "M_air"
   ]
  },
  {
   "cell_type": "markdown",
   "metadata": {},
   "source": [
    "Значения пластовых величин $P_{пл}$ и $T_{пл}$"
   ]
  },
  {
   "cell_type": "code",
   "execution_count": 7,
   "metadata": {},
   "outputs": [
    {
     "data": {
      "text/html": [
       "$22.65\\ \\mathrm{megapascal}$"
      ],
      "text/latex": [
       "$22.65\\ \\mathrm{megapascal}$"
      ],
      "text/plain": [
       "22.65 <Unit('megapascal')>"
      ]
     },
     "metadata": {},
     "output_type": "display_data"
    },
    {
     "data": {
      "text/html": [
       "$297\\ \\mathrm{kelvin}$"
      ],
      "text/latex": [
       "$297\\ \\mathrm{kelvin}$"
      ],
      "text/plain": [
       "297 <Unit('kelvin')>"
      ]
     },
     "metadata": {},
     "output_type": "display_data"
    }
   ],
   "source": [
    "P_pl = ureg('22.65 MPa')\n",
    "T_pl = ureg('297 K')\n",
    " \n",
    "display(P_pl, T_pl)"
   ]
  },
  {
   "cell_type": "markdown",
   "metadata": {},
   "source": [
    "Состав природного газа"
   ]
  },
  {
   "cell_type": "code",
   "execution_count": 8,
   "metadata": {},
   "outputs": [
    {
     "data": {
      "text/html": [
       "<div>\n",
       "<style scoped>\n",
       "    .dataframe tbody tr th:only-of-type {\n",
       "        vertical-align: middle;\n",
       "    }\n",
       "\n",
       "    .dataframe tbody tr th {\n",
       "        vertical-align: top;\n",
       "    }\n",
       "\n",
       "    .dataframe thead th {\n",
       "        text-align: right;\n",
       "    }\n",
       "</style>\n",
       "<table border=\"1\" class=\"dataframe\">\n",
       "  <thead>\n",
       "    <tr style=\"text-align: right;\">\n",
       "      <th></th>\n",
       "      <th>компонент</th>\n",
       "      <th>$M$</th>\n",
       "      <th>$P_c$</th>\n",
       "      <th>$T_c$</th>\n",
       "      <th>$n$</th>\n",
       "    </tr>\n",
       "  </thead>\n",
       "  <tbody>\n",
       "    <tr>\n",
       "      <th>0</th>\n",
       "      <td>метан</td>\n",
       "      <td>16.04 dimensionless</td>\n",
       "      <td>4.6 megapascal</td>\n",
       "      <td>190.6 kelvin</td>\n",
       "      <td>0.8255 dimensionless</td>\n",
       "    </tr>\n",
       "    <tr>\n",
       "      <th>1</th>\n",
       "      <td>этан</td>\n",
       "      <td>30.07 dimensionless</td>\n",
       "      <td>4.88 megapascal</td>\n",
       "      <td>305.6 kelvin</td>\n",
       "      <td>0.0901 dimensionless</td>\n",
       "    </tr>\n",
       "    <tr>\n",
       "      <th>2</th>\n",
       "      <td>пропан</td>\n",
       "      <td>44.09 dimensionless</td>\n",
       "      <td>4.24 megapascal</td>\n",
       "      <td>369.8 kelvin</td>\n",
       "      <td>0.0462 dimensionless</td>\n",
       "    </tr>\n",
       "    <tr>\n",
       "      <th>3</th>\n",
       "      <td>изобутан</td>\n",
       "      <td>58.12 dimensionless</td>\n",
       "      <td>3.64 megapascal</td>\n",
       "      <td>408.3 kelvin</td>\n",
       "      <td>0.0074 dimensionless</td>\n",
       "    </tr>\n",
       "    <tr>\n",
       "      <th>4</th>\n",
       "      <td>н-бутан</td>\n",
       "      <td>58.12 dimensionless</td>\n",
       "      <td>3.79 megapascal</td>\n",
       "      <td>425.2 kelvin</td>\n",
       "      <td>0.0126 dimensionless</td>\n",
       "    </tr>\n",
       "    <tr>\n",
       "      <th>5</th>\n",
       "      <td>изопентан</td>\n",
       "      <td>72.15 dimensionless</td>\n",
       "      <td>3.38 megapascal</td>\n",
       "      <td>460.6 kelvin</td>\n",
       "      <td>0.0032 dimensionless</td>\n",
       "    </tr>\n",
       "    <tr>\n",
       "      <th>6</th>\n",
       "      <td>н-пентан</td>\n",
       "      <td>72.15 dimensionless</td>\n",
       "      <td>3.3 megapascal</td>\n",
       "      <td>469.4 kelvin</td>\n",
       "      <td>0.0022 dimensionless</td>\n",
       "    </tr>\n",
       "    <tr>\n",
       "      <th>7</th>\n",
       "      <td>гексан</td>\n",
       "      <td>86.17 dimensionless</td>\n",
       "      <td>2.96 megapascal</td>\n",
       "      <td>508 kelvin</td>\n",
       "      <td>0.0038 dimensionless</td>\n",
       "    </tr>\n",
       "    <tr>\n",
       "      <th>8</th>\n",
       "      <td>гептан</td>\n",
       "      <td>100.2 dimensionless</td>\n",
       "      <td>2.7 megapascal</td>\n",
       "      <td>540.3 kelvin</td>\n",
       "      <td>0 dimensionless</td>\n",
       "    </tr>\n",
       "    <tr>\n",
       "      <th>9</th>\n",
       "      <td>азот</td>\n",
       "      <td>28.02 dimensionless</td>\n",
       "      <td>3.46 megapascal</td>\n",
       "      <td>126.1 kelvin</td>\n",
       "      <td>0 dimensionless</td>\n",
       "    </tr>\n",
       "    <tr>\n",
       "      <th>10</th>\n",
       "      <td>диоксид углерода</td>\n",
       "      <td>44.01 dimensionless</td>\n",
       "      <td>7.496 megapascal</td>\n",
       "      <td>304.2 kelvin</td>\n",
       "      <td>0.009 dimensionless</td>\n",
       "    </tr>\n",
       "    <tr>\n",
       "      <th>11</th>\n",
       "      <td>сероводород</td>\n",
       "      <td>34.08 dimensionless</td>\n",
       "      <td>8.89 megapascal</td>\n",
       "      <td>373.6 kelvin</td>\n",
       "      <td>0 dimensionless</td>\n",
       "    </tr>\n",
       "    <tr>\n",
       "      <th>12</th>\n",
       "      <td>водяной пар</td>\n",
       "      <td>18.02 dimensionless</td>\n",
       "      <td>22.565 megapascal</td>\n",
       "      <td>647.45 kelvin</td>\n",
       "      <td>0 dimensionless</td>\n",
       "    </tr>\n",
       "  </tbody>\n",
       "</table>\n",
       "</div>"
      ],
      "text/plain": [
       "           компонент                  $M$              $P_c$          $T_c$  \\\n",
       "0              метан  16.04 dimensionless     4.6 megapascal   190.6 kelvin   \n",
       "1               этан  30.07 dimensionless    4.88 megapascal   305.6 kelvin   \n",
       "2             пропан  44.09 dimensionless    4.24 megapascal   369.8 kelvin   \n",
       "3           изобутан  58.12 dimensionless    3.64 megapascal   408.3 kelvin   \n",
       "4            н-бутан  58.12 dimensionless    3.79 megapascal   425.2 kelvin   \n",
       "5          изопентан  72.15 dimensionless    3.38 megapascal   460.6 kelvin   \n",
       "6           н-пентан  72.15 dimensionless     3.3 megapascal   469.4 kelvin   \n",
       "7             гексан  86.17 dimensionless    2.96 megapascal     508 kelvin   \n",
       "8             гептан  100.2 dimensionless     2.7 megapascal   540.3 kelvin   \n",
       "9               азот  28.02 dimensionless    3.46 megapascal   126.1 kelvin   \n",
       "10  диоксид углерода  44.01 dimensionless   7.496 megapascal   304.2 kelvin   \n",
       "11       сероводород  34.08 dimensionless    8.89 megapascal   373.6 kelvin   \n",
       "12       водяной пар  18.02 dimensionless  22.565 megapascal  647.45 kelvin   \n",
       "\n",
       "                     $n$  \n",
       "0   0.8255 dimensionless  \n",
       "1   0.0901 dimensionless  \n",
       "2   0.0462 dimensionless  \n",
       "3   0.0074 dimensionless  \n",
       "4   0.0126 dimensionless  \n",
       "5   0.0032 dimensionless  \n",
       "6   0.0022 dimensionless  \n",
       "7   0.0038 dimensionless  \n",
       "8        0 dimensionless  \n",
       "9        0 dimensionless  \n",
       "10   0.009 dimensionless  \n",
       "11       0 dimensionless  \n",
       "12       0 dimensionless  "
      ]
     },
     "execution_count": 8,
     "metadata": {},
     "output_type": "execute_result"
    }
   ],
   "source": [
    "# column = ['компонент природного газа' ,\n",
    "#           'молекулярная масса'        ,\n",
    "#           'критическое давление, МПа' ,\n",
    "#           'критическая температура, К',\n",
    "#           'объёмная (молярная доля)'  ]\n",
    "\n",
    "column = ['компонент', '$M$', '$P_c$', '$T_c$', '$n$']\n",
    "\n",
    "dimension = [None, 'dimensionless', 'MPa', 'K', 'dimensionless']\n",
    "\n",
    "data = [['метан'           , 16.04, 4.60  , 190.6 , 0.8255],\n",
    "        ['этан'            , 30.07, 4.88  , 305.6 , 0.0901],\n",
    "        ['пропан'          , 44.09, 4.24  , 369.8 , 0.0462],\n",
    "        ['изобутан'        , 58.12, 3.64  , 408.3 , 0.0074],\n",
    "        ['н-бутан'         , 58.12, 3.79  , 425.2 , 0.0126],\n",
    "        ['изопентан'       , 72.15, 3.38  , 460.6 , 0.0032],\n",
    "        ['н-пентан'        , 72.15, 3.3   , 469.4 , 0.0022],\n",
    "        ['гексан'          , 86.17, 2.96  , 508   , 0.0038],\n",
    "        ['гептан'          , 100.2, 2.7   , 540.3 , 0     ],\n",
    "        ['азот'            , 28.02, 3.46  , 126.1 , 0     ],\n",
    "        ['диоксид углерода', 44.01, 7.496 , 304.2 , 0.009 ],\n",
    "        ['сероводород'     , 34.08, 8.89  , 373.6 , 0     ],\n",
    "        ['водяной пар'     , 18.02, 22.565, 647.45, 0     ]]\n",
    "\n",
    "# df = pd.DataFrame({'column1':pd.Series(data1, dtype='type1'),\n",
    "#                    'column2':pd.Series(data2, dtype='type2')})\n",
    "\n",
    "data_transposed = map(list, zip(*data))\n",
    "df = pd.DataFrame({column : pd.Series((x * ureg(dimension) if dimension else x) for x in data)\n",
    "                   for column, data, dimension in zip(column, data_transposed, dimension)})\n",
    "\n",
    "df"
   ]
  },
  {
   "cell_type": "markdown",
   "metadata": {},
   "source": [
    "# Решение"
   ]
  },
  {
   "cell_type": "markdown",
   "metadata": {},
   "source": [
    "Вычисление значений псевдокритических величин"
   ]
  },
  {
   "cell_type": "markdown",
   "metadata": {},
   "source": [
    "Давление $P_{pc}$"
   ]
  },
  {
   "cell_type": "code",
   "execution_count": 9,
   "metadata": {},
   "outputs": [
    {
     "data": {
      "text/html": [
       "$4.6044\\ \\mathrm{megapascal}$"
      ],
      "text/latex": [
       "$4.604354000000001\\ \\mathrm{megapascal}$"
      ],
      "text/plain": [
       "4.604354000000001 <Unit('megapascal')>"
      ]
     },
     "execution_count": 9,
     "metadata": {},
     "output_type": "execute_result"
    }
   ],
   "source": [
    "(df['$P_c$'] * df['$n$']).sum()"
   ]
  },
  {
   "cell_type": "markdown",
   "metadata": {},
   "source": [
    "Температура $T_{pc}$"
   ]
  },
  {
   "cell_type": "code",
   "execution_count": 10,
   "metadata": {},
   "outputs": [
    {
     "data": {
      "text/html": [
       "$217.51\\ \\mathrm{kelvin}$"
      ],
      "text/latex": [
       "$217.51335999999995\\ \\mathrm{kelvin}$"
      ],
      "text/plain": [
       "217.51335999999995 <Unit('kelvin')>"
      ]
     },
     "execution_count": 10,
     "metadata": {},
     "output_type": "execute_result"
    }
   ],
   "source": [
    "(df['$T_c$'] * df['$n$']).sum()"
   ]
  },
  {
   "cell_type": "markdown",
   "metadata": {},
   "source": [
    "Значения псевдоприведенных величин"
   ]
  },
  {
   "cell_type": "markdown",
   "metadata": {},
   "source": [
    "Давление $P_{pr}$"
   ]
  },
  {
   "cell_type": "code",
   "execution_count": 11,
   "metadata": {},
   "outputs": [
    {
     "data": {
      "text/html": [
       "$4.9193\\ dimensionless$"
      ],
      "text/latex": [
       "$4.919256859919979\\ dimensionless$"
      ],
      "text/plain": [
       "4.919256859919979 <Unit('dimensionless')>"
      ]
     },
     "execution_count": 11,
     "metadata": {},
     "output_type": "execute_result"
    }
   ],
   "source": [
    "P_pl / _9"
   ]
  },
  {
   "cell_type": "markdown",
   "metadata": {},
   "source": [
    "Температура $T_{pr}$"
   ]
  },
  {
   "cell_type": "code",
   "execution_count": 12,
   "metadata": {},
   "outputs": [
    {
     "data": {
      "text/html": [
       "$1.3654\\ dimensionless$"
      ],
      "text/latex": [
       "$1.3654333692422391\\ dimensionless$"
      ],
      "text/plain": [
       "1.3654333692422391 <Unit('dimensionless')>"
      ]
     },
     "execution_count": 12,
     "metadata": {},
     "output_type": "execute_result"
    }
   ],
   "source": [
    "T_pl / _10"
   ]
  },
  {
   "cell_type": "markdown",
   "metadata": {},
   "source": [
    "График значений коэффициента сверхжимаемости $Z$ по значениям $P_{pr}$ и $T_{pr}$"
   ]
  },
  {
   "cell_type": "markdown",
   "metadata": {},
   "source": [
    "![График значений коэффициента сверхжимаемости $Z$ по значениям $P_{pr}$ и $T_{pr}$](palette.png)"
   ]
  },
  {
   "cell_type": "markdown",
   "metadata": {},
   "source": [
    "Значение $Z_{пл}$"
   ]
  },
  {
   "cell_type": "code",
   "execution_count": 13,
   "metadata": {},
   "outputs": [
    {
     "data": {
      "text/html": [
       "$0.73\\ dimensionless$"
      ],
      "text/latex": [
       "$0.73\\ dimensionless$"
      ],
      "text/plain": [
       "0.73 <Unit('dimensionless')>"
      ]
     },
     "execution_count": 13,
     "metadata": {},
     "output_type": "execute_result"
    }
   ],
   "source": [
    "Z_pl = ureg('0.73 dimensionless')\n",
    "Z_pl"
   ]
  },
  {
   "cell_type": "markdown",
   "metadata": {},
   "source": [
    "# Коэффициент расширения природного газа"
   ]
  },
  {
   "cell_type": "code",
   "execution_count": 14,
   "metadata": {},
   "outputs": [
    {
     "data": {
      "text/html": [
       "$297.74\\ dimensionless$"
      ],
      "text/latex": [
       "$297.7376504773765\\ dimensionless$"
      ],
      "text/plain": [
       "297.7376504773765 <Unit('dimensionless')>"
      ]
     },
     "execution_count": 14,
     "metadata": {},
     "output_type": "execute_result"
    }
   ],
   "source": [
    "E = 0.00285 * P_pl / T_pl / Z_pl\n",
    "E = (E * ureg('K / Pa')).to('dimensionless')\n",
    "E"
   ]
  },
  {
   "cell_type": "markdown",
   "metadata": {},
   "source": [
    "# Молярная масса природного газа"
   ]
  },
  {
   "cell_type": "code",
   "execution_count": 15,
   "metadata": {},
   "outputs": [
    {
     "data": {
      "text/html": [
       "$0.020263\\ \\frac{\\mathrm{kilogram}}{\\mathrm{mole}}$"
      ],
      "text/latex": [
       "$0.020262831\\ \\frac{\\mathrm{kilogram}}{\\mathrm{mole}}$"
      ],
      "text/plain": [
       "0.020262831 <Unit('kilogram / mole')>"
      ]
     },
     "execution_count": 15,
     "metadata": {},
     "output_type": "execute_result"
    }
   ],
   "source": [
    "M_g = (df['$M$'] * df['$n$']).sum() * ureg('g/mol')\n",
    "M_g.to('kg/mol')"
   ]
  },
  {
   "cell_type": "markdown",
   "metadata": {},
   "source": [
    "# Плотность природного газа"
   ]
  },
  {
   "cell_type": "markdown",
   "metadata": {},
   "source": [
    "В стандартных условиях"
   ]
  },
  {
   "cell_type": "code",
   "execution_count": 16,
   "metadata": {},
   "outputs": [
    {
     "data": {
      "text/html": [
       "$0.85449\\ \\frac{\\mathrm{kilogram}}{\\mathrm{meter}^{3}}$"
      ],
      "text/latex": [
       "$0.8544883325185647\\ \\frac{\\mathrm{kilogram}}{\\mathrm{meter}^{3}}$"
      ],
      "text/plain": [
       "0.8544883325185647 <Unit('kilogram / meter ** 3')>"
      ]
     },
     "execution_count": 16,
     "metadata": {},
     "output_type": "execute_result"
    }
   ],
   "source": [
    "rho_g_st = P_st * M_g / ureg.R / T_st / Z_st\n",
    "rho_g_st.to('kg/m^3')"
   ]
  },
  {
   "cell_type": "markdown",
   "metadata": {},
   "source": [
    "В пластовых условиях"
   ]
  },
  {
   "cell_type": "code",
   "execution_count": 17,
   "metadata": {},
   "outputs": [
    {
     "data": {
      "text/html": [
       "$254.6\\ \\frac{\\mathrm{kilogram}}{\\mathrm{meter}^{3}}$"
      ],
      "text/latex": [
       "$254.5979099450782\\ \\frac{\\mathrm{kilogram}}{\\mathrm{meter}^{3}}$"
      ],
      "text/plain": [
       "254.5979099450782 <Unit('kilogram / meter ** 3')>"
      ]
     },
     "execution_count": 17,
     "metadata": {},
     "output_type": "execute_result"
    }
   ],
   "source": [
    "rho_g_pl = P_pl * M_g / ureg.R / T_pl / Z_pl\n",
    "rho_g_pl.to('kg/m^3')"
   ]
  },
  {
   "cell_type": "markdown",
   "metadata": {},
   "source": [
    "# Относительная плотность природного газа по воздуху"
   ]
  },
  {
   "cell_type": "markdown",
   "metadata": {},
   "source": [
    "Плотность воздуха в стандартных условиях"
   ]
  },
  {
   "cell_type": "code",
   "execution_count": 18,
   "metadata": {},
   "outputs": [
    {
     "data": {
      "text/html": [
       "$1.2217\\ \\frac{\\mathrm{kilogram}}{\\mathrm{meter}^{3}}$"
      ],
      "text/latex": [
       "$1.2216716900547027\\ \\frac{\\mathrm{kilogram}}{\\mathrm{meter}^{3}}$"
      ],
      "text/plain": [
       "1.2216716900547027 <Unit('kilogram / meter ** 3')>"
      ]
     },
     "execution_count": 18,
     "metadata": {},
     "output_type": "execute_result"
    }
   ],
   "source": [
    "rho_air_st = P_st * M_air / ureg.R / T_st / Z_st\n",
    "rho_air_st.to('kg/m^3')"
   ]
  },
  {
   "cell_type": "markdown",
   "metadata": {},
   "source": [
    "Относительная плотность природного газа по воздуху в стандартных условиях по первой формуле"
   ]
  },
  {
   "cell_type": "code",
   "execution_count": 19,
   "metadata": {},
   "outputs": [
    {
     "data": {
      "text/html": [
       "$0.69944\\ dimensionless$"
      ],
      "text/latex": [
       "$0.6994418709009319\\ dimensionless$"
      ],
      "text/plain": [
       "0.6994418709009319 <Unit('dimensionless')>"
      ]
     },
     "execution_count": 19,
     "metadata": {},
     "output_type": "execute_result"
    }
   ],
   "source": [
    "rho_g_st / rho_air_st"
   ]
  },
  {
   "cell_type": "markdown",
   "metadata": {},
   "source": [
    "по второй формуле"
   ]
  },
  {
   "cell_type": "code",
   "execution_count": 20,
   "metadata": {},
   "outputs": [
    {
     "data": {
      "text/html": [
       "$0.69944\\ dimensionless$"
      ],
      "text/latex": [
       "$0.699441870900932\\ dimensionless$"
      ],
      "text/plain": [
       "0.699441870900932 <Unit('dimensionless')>"
      ]
     },
     "execution_count": 20,
     "metadata": {},
     "output_type": "execute_result"
    }
   ],
   "source": [
    "M_g / M_air"
   ]
  },
  {
   "cell_type": "markdown",
   "metadata": {},
   "source": [
    "# Градиент гидростатического давления природного газа"
   ]
  },
  {
   "cell_type": "markdown",
   "metadata": {},
   "source": [
    "$\\displaystyle \\left( \\frac {\\mathrm d P} {\\mathrm d D} \\right)_g$"
   ]
  },
  {
   "cell_type": "code",
   "execution_count": 21,
   "metadata": {},
   "outputs": [
    {
     "data": {
      "text/html": [
       "$2494.9\\ \\frac{\\mathrm{pascal}}{\\mathrm{meter}}$"
      ],
      "text/latex": [
       "$2494.9426639146263\\ \\frac{\\mathrm{pascal}}{\\mathrm{meter}}$"
      ],
      "text/plain": [
       "2494.9426639146263 <Unit('pascal / meter')>"
      ]
     },
     "execution_count": 21,
     "metadata": {},
     "output_type": "execute_result"
    }
   ],
   "source": [
    "(rho_g_st * E * ureg.g0).to('Pa/m')"
   ]
  },
  {
   "cell_type": "markdown",
   "metadata": {
    "collapsed": "true"
   },
   "source": [
    "# trash"
   ]
  },
  {
   "cell_type": "code",
   "execution_count": 70,
   "metadata": {},
   "outputs": [
    {
     "data": {
      "text/html": [
       "<div>\n",
       "<style scoped>\n",
       "    .dataframe tbody tr th:only-of-type {\n",
       "        vertical-align: middle;\n",
       "    }\n",
       "\n",
       "    .dataframe tbody tr th {\n",
       "        vertical-align: top;\n",
       "    }\n",
       "\n",
       "    .dataframe thead th {\n",
       "        text-align: right;\n",
       "    }\n",
       "</style>\n",
       "<table border=\"1\" class=\"dataframe\">\n",
       "  <thead>\n",
       "    <tr style=\"text-align: right;\">\n",
       "      <th></th>\n",
       "      <th>компонент природного газа</th>\n",
       "      <th>молекулярная масса</th>\n",
       "      <th>критическое давление, МПа</th>\n",
       "      <th>критическая температура, К</th>\n",
       "      <th>объёмная (молярная доля)</th>\n",
       "    </tr>\n",
       "  </thead>\n",
       "  <tbody>\n",
       "    <tr>\n",
       "      <th>0</th>\n",
       "      <td>метан</td>\n",
       "      <td>16.04</td>\n",
       "      <td>4.600</td>\n",
       "      <td>190.60</td>\n",
       "      <td>0.8255</td>\n",
       "    </tr>\n",
       "    <tr>\n",
       "      <th>1</th>\n",
       "      <td>этан</td>\n",
       "      <td>30.07</td>\n",
       "      <td>4.880</td>\n",
       "      <td>305.60</td>\n",
       "      <td>0.0901</td>\n",
       "    </tr>\n",
       "    <tr>\n",
       "      <th>2</th>\n",
       "      <td>пропан</td>\n",
       "      <td>44.09</td>\n",
       "      <td>4.240</td>\n",
       "      <td>369.80</td>\n",
       "      <td>0.0462</td>\n",
       "    </tr>\n",
       "    <tr>\n",
       "      <th>3</th>\n",
       "      <td>изобутан</td>\n",
       "      <td>58.12</td>\n",
       "      <td>3.640</td>\n",
       "      <td>408.30</td>\n",
       "      <td>0.0074</td>\n",
       "    </tr>\n",
       "    <tr>\n",
       "      <th>4</th>\n",
       "      <td>н-бутан</td>\n",
       "      <td>58.12</td>\n",
       "      <td>3.790</td>\n",
       "      <td>425.20</td>\n",
       "      <td>0.0126</td>\n",
       "    </tr>\n",
       "    <tr>\n",
       "      <th>5</th>\n",
       "      <td>изопентан</td>\n",
       "      <td>72.15</td>\n",
       "      <td>3.380</td>\n",
       "      <td>460.60</td>\n",
       "      <td>0.0032</td>\n",
       "    </tr>\n",
       "    <tr>\n",
       "      <th>6</th>\n",
       "      <td>н-пентан</td>\n",
       "      <td>72.15</td>\n",
       "      <td>3.300</td>\n",
       "      <td>469.40</td>\n",
       "      <td>0.0022</td>\n",
       "    </tr>\n",
       "    <tr>\n",
       "      <th>7</th>\n",
       "      <td>гексан</td>\n",
       "      <td>86.17</td>\n",
       "      <td>2.960</td>\n",
       "      <td>508.00</td>\n",
       "      <td>0.0038</td>\n",
       "    </tr>\n",
       "    <tr>\n",
       "      <th>8</th>\n",
       "      <td>гептан</td>\n",
       "      <td>100.20</td>\n",
       "      <td>2.700</td>\n",
       "      <td>540.30</td>\n",
       "      <td>0.0000</td>\n",
       "    </tr>\n",
       "    <tr>\n",
       "      <th>9</th>\n",
       "      <td>азот</td>\n",
       "      <td>28.02</td>\n",
       "      <td>3.460</td>\n",
       "      <td>126.10</td>\n",
       "      <td>0.0000</td>\n",
       "    </tr>\n",
       "    <tr>\n",
       "      <th>10</th>\n",
       "      <td>диоксид углерода</td>\n",
       "      <td>44.01</td>\n",
       "      <td>7.496</td>\n",
       "      <td>304.20</td>\n",
       "      <td>0.0090</td>\n",
       "    </tr>\n",
       "    <tr>\n",
       "      <th>11</th>\n",
       "      <td>сероводород</td>\n",
       "      <td>34.08</td>\n",
       "      <td>8.890</td>\n",
       "      <td>373.60</td>\n",
       "      <td>0.0000</td>\n",
       "    </tr>\n",
       "    <tr>\n",
       "      <th>12</th>\n",
       "      <td>водяной пар</td>\n",
       "      <td>18.02</td>\n",
       "      <td>22.565</td>\n",
       "      <td>647.45</td>\n",
       "      <td>0.0000</td>\n",
       "    </tr>\n",
       "  </tbody>\n",
       "</table>\n",
       "</div>"
      ],
      "text/plain": [
       "   компонент природного газа  молекулярная масса  критическое давление, МПа  \\\n",
       "0                      метан               16.04                      4.600   \n",
       "1                       этан               30.07                      4.880   \n",
       "2                     пропан               44.09                      4.240   \n",
       "3                   изобутан               58.12                      3.640   \n",
       "4                    н-бутан               58.12                      3.790   \n",
       "5                  изопентан               72.15                      3.380   \n",
       "6                   н-пентан               72.15                      3.300   \n",
       "7                     гексан               86.17                      2.960   \n",
       "8                     гептан              100.20                      2.700   \n",
       "9                       азот               28.02                      3.460   \n",
       "10          диоксид углерода               44.01                      7.496   \n",
       "11               сероводород               34.08                      8.890   \n",
       "12               водяной пар               18.02                     22.565   \n",
       "\n",
       "    критическая температура, К  объёмная (молярная доля)  \n",
       "0                       190.60                    0.8255  \n",
       "1                       305.60                    0.0901  \n",
       "2                       369.80                    0.0462  \n",
       "3                       408.30                    0.0074  \n",
       "4                       425.20                    0.0126  \n",
       "5                       460.60                    0.0032  \n",
       "6                       469.40                    0.0022  \n",
       "7                       508.00                    0.0038  \n",
       "8                       540.30                    0.0000  \n",
       "9                       126.10                    0.0000  \n",
       "10                      304.20                    0.0090  \n",
       "11                      373.60                    0.0000  \n",
       "12                      647.45                    0.0000  "
      ]
     },
     "execution_count": 70,
     "metadata": {},
     "output_type": "execute_result"
    }
   ],
   "source": [
    "df = pd.DataFrame(\n",
    "    data=[['метан'           , 16.04, 4.60  , 190.6 , 0.8255],\n",
    "          ['этан'            , 30.07, 4.88  , 305.6 , 0.0901],\n",
    "          ['пропан'          , 44.09, 4.24  , 369.8 , 0.0462],\n",
    "          ['изобутан'        , 58.12, 3.64  , 408.3 , 0.0074],\n",
    "          ['н-бутан'         , 58.12, 3.79  , 425.2 , 0.0126],\n",
    "          ['изопентан'       , 72.15, 3.38  , 460.6 , 0.0032],\n",
    "          ['н-пентан'        , 72.15, 3.3   , 469.4 , 0.0022],\n",
    "          ['гексан'          , 86.17, 2.96  , 508   , 0.0038],\n",
    "          ['гептан'          , 100.2, 2.7   , 540.3 , 0     ],\n",
    "          ['азот'            , 28.02, 3.46  , 126.1 , 0     ],\n",
    "          ['диоксид углерода', 44.01, 7.496 , 304.2 , 0.009 ],\n",
    "          ['сероводород'     , 34.08, 8.89  , 373.6 , 0     ],\n",
    "          ['водяной пар'     , 18.02, 22.565, 647.45, 0     ]],\n",
    "    columns=['компонент природного газа',\n",
    "             'молекулярная масса',\n",
    "             'критическое давление, МПа',\n",
    "             'критическая температура, К',\n",
    "             'объёмная (молярная доля)']\n",
    ")\n",
    "\n",
    "df"
   ]
  },
  {
   "cell_type": "code",
   "execution_count": 71,
   "metadata": {},
   "outputs": [
    {
     "data": {
      "text/html": [
       "<div>\n",
       "<style scoped>\n",
       "    .dataframe tbody tr th:only-of-type {\n",
       "        vertical-align: middle;\n",
       "    }\n",
       "\n",
       "    .dataframe tbody tr th {\n",
       "        vertical-align: top;\n",
       "    }\n",
       "\n",
       "    .dataframe thead tr th {\n",
       "        text-align: left;\n",
       "    }\n",
       "</style>\n",
       "<table border=\"1\" class=\"dataframe\">\n",
       "  <thead>\n",
       "    <tr>\n",
       "      <th></th>\n",
       "      <th>$M$</th>\n",
       "      <th>$P_c$</th>\n",
       "      <th>$T_c$</th>\n",
       "      <th>$n$</th>\n",
       "    </tr>\n",
       "    <tr>\n",
       "      <th>unit</th>\n",
       "      <th>dimensionless</th>\n",
       "      <th>megapascal</th>\n",
       "      <th>kelvin</th>\n",
       "      <th>dimensionless</th>\n",
       "    </tr>\n",
       "  </thead>\n",
       "  <tbody>\n",
       "    <tr>\n",
       "      <th>метан</th>\n",
       "      <td>NaN</td>\n",
       "      <td>NaN</td>\n",
       "      <td>NaN</td>\n",
       "      <td>NaN</td>\n",
       "    </tr>\n",
       "    <tr>\n",
       "      <th>этан</th>\n",
       "      <td>NaN</td>\n",
       "      <td>NaN</td>\n",
       "      <td>NaN</td>\n",
       "      <td>NaN</td>\n",
       "    </tr>\n",
       "    <tr>\n",
       "      <th>пропан</th>\n",
       "      <td>NaN</td>\n",
       "      <td>NaN</td>\n",
       "      <td>NaN</td>\n",
       "      <td>NaN</td>\n",
       "    </tr>\n",
       "    <tr>\n",
       "      <th>изобутан</th>\n",
       "      <td>NaN</td>\n",
       "      <td>NaN</td>\n",
       "      <td>NaN</td>\n",
       "      <td>NaN</td>\n",
       "    </tr>\n",
       "    <tr>\n",
       "      <th>н-бутан</th>\n",
       "      <td>NaN</td>\n",
       "      <td>NaN</td>\n",
       "      <td>NaN</td>\n",
       "      <td>NaN</td>\n",
       "    </tr>\n",
       "    <tr>\n",
       "      <th>изопентан</th>\n",
       "      <td>NaN</td>\n",
       "      <td>NaN</td>\n",
       "      <td>NaN</td>\n",
       "      <td>NaN</td>\n",
       "    </tr>\n",
       "    <tr>\n",
       "      <th>н-пентан</th>\n",
       "      <td>NaN</td>\n",
       "      <td>NaN</td>\n",
       "      <td>NaN</td>\n",
       "      <td>NaN</td>\n",
       "    </tr>\n",
       "    <tr>\n",
       "      <th>гексан</th>\n",
       "      <td>NaN</td>\n",
       "      <td>NaN</td>\n",
       "      <td>NaN</td>\n",
       "      <td>NaN</td>\n",
       "    </tr>\n",
       "    <tr>\n",
       "      <th>гептан</th>\n",
       "      <td>NaN</td>\n",
       "      <td>NaN</td>\n",
       "      <td>NaN</td>\n",
       "      <td>NaN</td>\n",
       "    </tr>\n",
       "    <tr>\n",
       "      <th>азот</th>\n",
       "      <td>NaN</td>\n",
       "      <td>NaN</td>\n",
       "      <td>NaN</td>\n",
       "      <td>NaN</td>\n",
       "    </tr>\n",
       "    <tr>\n",
       "      <th>диоксид углерода</th>\n",
       "      <td>NaN</td>\n",
       "      <td>NaN</td>\n",
       "      <td>NaN</td>\n",
       "      <td>NaN</td>\n",
       "    </tr>\n",
       "    <tr>\n",
       "      <th>сероводород</th>\n",
       "      <td>NaN</td>\n",
       "      <td>NaN</td>\n",
       "      <td>NaN</td>\n",
       "      <td>NaN</td>\n",
       "    </tr>\n",
       "    <tr>\n",
       "      <th>водяной пар</th>\n",
       "      <td>NaN</td>\n",
       "      <td>NaN</td>\n",
       "      <td>NaN</td>\n",
       "      <td>NaN</td>\n",
       "    </tr>\n",
       "  </tbody>\n",
       "</table>\n",
       "</div>"
      ],
      "text/plain": [
       "                           $M$      $P_c$  $T_c$           $n$\n",
       "unit             dimensionless megapascal kelvin dimensionless\n",
       "метан                      NaN        NaN    NaN           NaN\n",
       "этан                       NaN        NaN    NaN           NaN\n",
       "пропан                     NaN        NaN    NaN           NaN\n",
       "изобутан                   NaN        NaN    NaN           NaN\n",
       "н-бутан                    NaN        NaN    NaN           NaN\n",
       "изопентан                  NaN        NaN    NaN           NaN\n",
       "н-пентан                   NaN        NaN    NaN           NaN\n",
       "гексан                     NaN        NaN    NaN           NaN\n",
       "гептан                     NaN        NaN    NaN           NaN\n",
       "азот                       NaN        NaN    NaN           NaN\n",
       "диоксид углерода           NaN        NaN    NaN           NaN\n",
       "сероводород                NaN        NaN    NaN           NaN\n",
       "водяной пар                NaN        NaN    NaN           NaN"
      ]
     },
     "execution_count": 71,
     "metadata": {},
     "output_type": "execute_result"
    }
   ],
   "source": [
    "data = [['метан'           , 16.04, 4.60  , 190.6 , 0.8255],\n",
    "        ['этан'            , 30.07, 4.88  , 305.6 , 0.0901],\n",
    "        ['пропан'          , 44.09, 4.24  , 369.8 , 0.0462],\n",
    "        ['изобутан'        , 58.12, 3.64  , 408.3 , 0.0074],\n",
    "        ['н-бутан'         , 58.12, 3.79  , 425.2 , 0.0126],\n",
    "        ['изопентан'       , 72.15, 3.38  , 460.6 , 0.0032],\n",
    "        ['н-пентан'        , 72.15, 3.3   , 469.4 , 0.0022],\n",
    "        ['гексан'          , 86.17, 2.96  , 508   , 0.0038],\n",
    "        ['гептан'          , 100.2, 2.7   , 540.3 , 0     ],\n",
    "        ['азот'            , 28.02, 3.46  , 126.1 , 0     ],\n",
    "        ['диоксид углерода', 44.01, 7.496 , 304.2 , 0.009 ],\n",
    "        ['сероводород'     , 34.08, 8.89  , 373.6 , 0     ],\n",
    "        ['водяной пар'     , 18.02, 22.565, 647.45, 0     ]]\n",
    "\n",
    "index = [x[0] for x in data]\n",
    "data = [x[1:] for x in data]\n",
    "\n",
    "# column = ['компонент природного газа' ,\n",
    "#           'молекулярная масса'        ,\n",
    "#           'критическое давление, МПа' ,\n",
    "#           'критическая температура, К',\n",
    "#           'объёмная (молярная доля)'  ]\n",
    "\n",
    "column = ['компонент', '$M$', '$P_c$', '$T_c$', '$n$'][1:]\n",
    "\n",
    "dtype = ['string', 'pint[dimensionless]', 'pint[MPa]', 'pint[K]', 'pint[dimensionless]'][1:]\n",
    "\n",
    "# df = pd.DataFrame({'column1':pd.Series(data1, dtype='type1'),\n",
    "#                    'column2':pd.Series(data2, dtype='type2')})\n",
    "\n",
    "data_transposed = map(list, zip(*data))\n",
    "df = pd.DataFrame({column : pd.Series(data, dtype=dtype)\n",
    "                   for column, data, dtype in zip(column, data_transposed, dtype)},\n",
    "                 index=index)\n",
    "\n",
    "df.pint.dequantify()\n",
    "# df"
   ]
  },
  {
   "cell_type": "code",
   "execution_count": 72,
   "metadata": {},
   "outputs": [
    {
     "data": {
      "text/html": [
       "<div>\n",
       "<style scoped>\n",
       "    .dataframe tbody tr th:only-of-type {\n",
       "        vertical-align: middle;\n",
       "    }\n",
       "\n",
       "    .dataframe tbody tr th {\n",
       "        vertical-align: top;\n",
       "    }\n",
       "\n",
       "    .dataframe thead tr th {\n",
       "        text-align: left;\n",
       "    }\n",
       "</style>\n",
       "<table border=\"1\" class=\"dataframe\">\n",
       "  <thead>\n",
       "    <tr>\n",
       "      <th></th>\n",
       "      <th>$M$</th>\n",
       "      <th>$P_c$</th>\n",
       "      <th>$T_c$</th>\n",
       "      <th>$n$</th>\n",
       "    </tr>\n",
       "    <tr>\n",
       "      <th>unit</th>\n",
       "      <th>dimensionless</th>\n",
       "      <th>megapascal</th>\n",
       "      <th>kelvin</th>\n",
       "      <th>dimensionless</th>\n",
       "    </tr>\n",
       "  </thead>\n",
       "  <tbody>\n",
       "    <tr>\n",
       "      <th>0</th>\n",
       "      <td>16.04</td>\n",
       "      <td>4.600</td>\n",
       "      <td>190.60</td>\n",
       "      <td>0.8255</td>\n",
       "    </tr>\n",
       "    <tr>\n",
       "      <th>1</th>\n",
       "      <td>30.07</td>\n",
       "      <td>4.880</td>\n",
       "      <td>305.60</td>\n",
       "      <td>0.0901</td>\n",
       "    </tr>\n",
       "    <tr>\n",
       "      <th>2</th>\n",
       "      <td>44.09</td>\n",
       "      <td>4.240</td>\n",
       "      <td>369.80</td>\n",
       "      <td>0.0462</td>\n",
       "    </tr>\n",
       "    <tr>\n",
       "      <th>3</th>\n",
       "      <td>58.12</td>\n",
       "      <td>3.640</td>\n",
       "      <td>408.30</td>\n",
       "      <td>0.0074</td>\n",
       "    </tr>\n",
       "    <tr>\n",
       "      <th>4</th>\n",
       "      <td>58.12</td>\n",
       "      <td>3.790</td>\n",
       "      <td>425.20</td>\n",
       "      <td>0.0126</td>\n",
       "    </tr>\n",
       "    <tr>\n",
       "      <th>5</th>\n",
       "      <td>72.15</td>\n",
       "      <td>3.380</td>\n",
       "      <td>460.60</td>\n",
       "      <td>0.0032</td>\n",
       "    </tr>\n",
       "    <tr>\n",
       "      <th>6</th>\n",
       "      <td>72.15</td>\n",
       "      <td>3.300</td>\n",
       "      <td>469.40</td>\n",
       "      <td>0.0022</td>\n",
       "    </tr>\n",
       "    <tr>\n",
       "      <th>7</th>\n",
       "      <td>86.17</td>\n",
       "      <td>2.960</td>\n",
       "      <td>508.00</td>\n",
       "      <td>0.0038</td>\n",
       "    </tr>\n",
       "    <tr>\n",
       "      <th>8</th>\n",
       "      <td>100.20</td>\n",
       "      <td>2.700</td>\n",
       "      <td>540.30</td>\n",
       "      <td>0.0000</td>\n",
       "    </tr>\n",
       "    <tr>\n",
       "      <th>9</th>\n",
       "      <td>28.02</td>\n",
       "      <td>3.460</td>\n",
       "      <td>126.10</td>\n",
       "      <td>0.0000</td>\n",
       "    </tr>\n",
       "    <tr>\n",
       "      <th>10</th>\n",
       "      <td>44.01</td>\n",
       "      <td>7.496</td>\n",
       "      <td>304.20</td>\n",
       "      <td>0.0090</td>\n",
       "    </tr>\n",
       "    <tr>\n",
       "      <th>11</th>\n",
       "      <td>34.08</td>\n",
       "      <td>8.890</td>\n",
       "      <td>373.60</td>\n",
       "      <td>0.0000</td>\n",
       "    </tr>\n",
       "    <tr>\n",
       "      <th>12</th>\n",
       "      <td>18.02</td>\n",
       "      <td>22.565</td>\n",
       "      <td>647.45</td>\n",
       "      <td>0.0000</td>\n",
       "    </tr>\n",
       "  </tbody>\n",
       "</table>\n",
       "</div>"
      ],
      "text/plain": [
       "               $M$      $P_c$   $T_c$           $n$\n",
       "unit dimensionless megapascal  kelvin dimensionless\n",
       "0            16.04      4.600  190.60        0.8255\n",
       "1            30.07      4.880  305.60        0.0901\n",
       "2            44.09      4.240  369.80        0.0462\n",
       "3            58.12      3.640  408.30        0.0074\n",
       "4            58.12      3.790  425.20        0.0126\n",
       "5            72.15      3.380  460.60        0.0032\n",
       "6            72.15      3.300  469.40        0.0022\n",
       "7            86.17      2.960  508.00        0.0038\n",
       "8           100.20      2.700  540.30        0.0000\n",
       "9            28.02      3.460  126.10        0.0000\n",
       "10           44.01      7.496  304.20        0.0090\n",
       "11           34.08      8.890  373.60        0.0000\n",
       "12           18.02     22.565  647.45        0.0000"
      ]
     },
     "execution_count": 72,
     "metadata": {},
     "output_type": "execute_result"
    }
   ],
   "source": [
    "data = [['метан'           , 16.04, 4.60  , 190.6 , 0.8255],\n",
    "        ['этан'            , 30.07, 4.88  , 305.6 , 0.0901],\n",
    "        ['пропан'          , 44.09, 4.24  , 369.8 , 0.0462],\n",
    "        ['изобутан'        , 58.12, 3.64  , 408.3 , 0.0074],\n",
    "        ['н-бутан'         , 58.12, 3.79  , 425.2 , 0.0126],\n",
    "        ['изопентан'       , 72.15, 3.38  , 460.6 , 0.0032],\n",
    "        ['н-пентан'        , 72.15, 3.3   , 469.4 , 0.0022],\n",
    "        ['гексан'          , 86.17, 2.96  , 508   , 0.0038],\n",
    "        ['гептан'          , 100.2, 2.7   , 540.3 , 0     ],\n",
    "        ['азот'            , 28.02, 3.46  , 126.1 , 0     ],\n",
    "        ['диоксид углерода', 44.01, 7.496 , 304.2 , 0.009 ],\n",
    "        ['сероводород'     , 34.08, 8.89  , 373.6 , 0     ],\n",
    "        ['водяной пар'     , 18.02, 22.565, 647.45, 0     ]]\n",
    "\n",
    "index = [x[0] for x in data]\n",
    "data = [x[1:] for x in data]\n",
    "\n",
    "column = ['компонент', '$M$', '$P_c$', '$T_c$', '$n$'][1:]\n",
    "\n",
    "dtype = ['string', 'pint[dimensionless]', 'pint[MPa]', 'pint[K]', 'pint[dimensionless]'][1:]\n",
    "\n",
    "data_transposed = map(list, zip(*data))\n",
    "df = pd.DataFrame({column : pd.Series(data, dtype=dtype)\n",
    "                   for column, data, dtype in zip(column, data_transposed, dtype)})\n",
    "\n",
    "df.pint.dequantify()"
   ]
  },
  {
   "cell_type": "code",
   "execution_count": 49,
   "metadata": {},
   "outputs": [
    {
     "ename": "ValueError",
     "evalue": "Cannot operate with Quantity and Quantity of different registries.",
     "output_type": "error",
     "traceback": [
      "\u001b[0;31m---------------------------------------------------------------------------\u001b[0m",
      "\u001b[0;31mValueError\u001b[0m                                Traceback (most recent call last)",
      "\u001b[0;32m<ipython-input-49-5dd5c9ab00f3>\u001b[0m in \u001b[0;36m<module>\u001b[0;34m\u001b[0m\n\u001b[0;32m----> 1\u001b[0;31m \u001b[0mP\u001b[0m \u001b[0;34m/\u001b[0m \u001b[0msum\u001b[0m\u001b[0;34m(\u001b[0m\u001b[0mdf\u001b[0m\u001b[0;34m[\u001b[0m\u001b[0;34m'$P_c$'\u001b[0m\u001b[0;34m]\u001b[0m \u001b[0;34m*\u001b[0m \u001b[0mdf\u001b[0m\u001b[0;34m[\u001b[0m\u001b[0;34m'$n$'\u001b[0m\u001b[0;34m]\u001b[0m\u001b[0;34m)\u001b[0m\u001b[0;34m\u001b[0m\u001b[0;34m\u001b[0m\u001b[0m\n\u001b[0m",
      "\u001b[0;32m~/miniconda3/envs/env0/lib/python3.9/site-packages/pint/quantity.py\u001b[0m in \u001b[0;36m__truediv__\u001b[0;34m(self, other)\u001b[0m\n\u001b[1;32m   1268\u001b[0m \u001b[0;34m\u001b[0m\u001b[0m\n\u001b[1;32m   1269\u001b[0m     \u001b[0;32mdef\u001b[0m \u001b[0m__truediv__\u001b[0m\u001b[0;34m(\u001b[0m\u001b[0mself\u001b[0m\u001b[0;34m,\u001b[0m \u001b[0mother\u001b[0m\u001b[0;34m)\u001b[0m\u001b[0;34m:\u001b[0m\u001b[0;34m\u001b[0m\u001b[0;34m\u001b[0m\u001b[0m\n\u001b[0;32m-> 1270\u001b[0;31m         \u001b[0;32mreturn\u001b[0m \u001b[0mself\u001b[0m\u001b[0;34m.\u001b[0m\u001b[0m_mul_div\u001b[0m\u001b[0;34m(\u001b[0m\u001b[0mother\u001b[0m\u001b[0;34m,\u001b[0m \u001b[0moperator\u001b[0m\u001b[0;34m.\u001b[0m\u001b[0mtruediv\u001b[0m\u001b[0;34m)\u001b[0m\u001b[0;34m\u001b[0m\u001b[0;34m\u001b[0m\u001b[0m\n\u001b[0m\u001b[1;32m   1271\u001b[0m \u001b[0;34m\u001b[0m\u001b[0m\n\u001b[1;32m   1272\u001b[0m     \u001b[0;32mdef\u001b[0m \u001b[0m__rtruediv__\u001b[0m\u001b[0;34m(\u001b[0m\u001b[0mself\u001b[0m\u001b[0;34m,\u001b[0m \u001b[0mother\u001b[0m\u001b[0;34m)\u001b[0m\u001b[0;34m:\u001b[0m\u001b[0;34m\u001b[0m\u001b[0;34m\u001b[0m\u001b[0m\n",
      "\u001b[0;32m~/miniconda3/envs/env0/lib/python3.9/site-packages/pint/quantity.py\u001b[0m in \u001b[0;36mwrapped\u001b[0;34m(self, *args, **kwargs)\u001b[0m\n\u001b[1;32m    113\u001b[0m         \u001b[0;32melif\u001b[0m \u001b[0misinstance\u001b[0m\u001b[0;34m(\u001b[0m\u001b[0mother\u001b[0m\u001b[0;34m,\u001b[0m \u001b[0mlist\u001b[0m\u001b[0;34m)\u001b[0m \u001b[0;32mand\u001b[0m \u001b[0mother\u001b[0m \u001b[0;32mand\u001b[0m \u001b[0misinstance\u001b[0m\u001b[0;34m(\u001b[0m\u001b[0mother\u001b[0m\u001b[0;34m[\u001b[0m\u001b[0;36m0\u001b[0m\u001b[0;34m]\u001b[0m\u001b[0;34m,\u001b[0m \u001b[0mtype\u001b[0m\u001b[0;34m(\u001b[0m\u001b[0mself\u001b[0m\u001b[0;34m)\u001b[0m\u001b[0;34m)\u001b[0m\u001b[0;34m:\u001b[0m\u001b[0;34m\u001b[0m\u001b[0;34m\u001b[0m\u001b[0m\n\u001b[1;32m    114\u001b[0m             \u001b[0;32mreturn\u001b[0m \u001b[0mNotImplemented\u001b[0m\u001b[0;34m\u001b[0m\u001b[0;34m\u001b[0m\u001b[0m\n\u001b[0;32m--> 115\u001b[0;31m         \u001b[0;32mreturn\u001b[0m \u001b[0mf\u001b[0m\u001b[0;34m(\u001b[0m\u001b[0mself\u001b[0m\u001b[0;34m,\u001b[0m \u001b[0;34m*\u001b[0m\u001b[0margs\u001b[0m\u001b[0;34m,\u001b[0m \u001b[0;34m**\u001b[0m\u001b[0mkwargs\u001b[0m\u001b[0;34m)\u001b[0m\u001b[0;34m\u001b[0m\u001b[0;34m\u001b[0m\u001b[0m\n\u001b[0m\u001b[1;32m    116\u001b[0m \u001b[0;34m\u001b[0m\u001b[0m\n\u001b[1;32m    117\u001b[0m     \u001b[0;32mreturn\u001b[0m \u001b[0mwrapped\u001b[0m\u001b[0;34m\u001b[0m\u001b[0;34m\u001b[0m\u001b[0m\n",
      "\u001b[0;32m~/miniconda3/envs/env0/lib/python3.9/site-packages/pint/quantity.py\u001b[0m in \u001b[0;36mwrapped\u001b[0;34m(self, *args, **kwargs)\u001b[0m\n\u001b[1;32m     93\u001b[0m \u001b[0;32mdef\u001b[0m \u001b[0mireduce_dimensions\u001b[0m\u001b[0;34m(\u001b[0m\u001b[0mf\u001b[0m\u001b[0;34m)\u001b[0m\u001b[0;34m:\u001b[0m\u001b[0;34m\u001b[0m\u001b[0;34m\u001b[0m\u001b[0m\n\u001b[1;32m     94\u001b[0m     \u001b[0;32mdef\u001b[0m \u001b[0mwrapped\u001b[0m\u001b[0;34m(\u001b[0m\u001b[0mself\u001b[0m\u001b[0;34m,\u001b[0m \u001b[0;34m*\u001b[0m\u001b[0margs\u001b[0m\u001b[0;34m,\u001b[0m \u001b[0;34m**\u001b[0m\u001b[0mkwargs\u001b[0m\u001b[0;34m)\u001b[0m\u001b[0;34m:\u001b[0m\u001b[0;34m\u001b[0m\u001b[0;34m\u001b[0m\u001b[0m\n\u001b[0;32m---> 95\u001b[0;31m         \u001b[0mresult\u001b[0m \u001b[0;34m=\u001b[0m \u001b[0mf\u001b[0m\u001b[0;34m(\u001b[0m\u001b[0mself\u001b[0m\u001b[0;34m,\u001b[0m \u001b[0;34m*\u001b[0m\u001b[0margs\u001b[0m\u001b[0;34m,\u001b[0m \u001b[0;34m**\u001b[0m\u001b[0mkwargs\u001b[0m\u001b[0;34m)\u001b[0m\u001b[0;34m\u001b[0m\u001b[0;34m\u001b[0m\u001b[0m\n\u001b[0m\u001b[1;32m     96\u001b[0m         \u001b[0;32mtry\u001b[0m\u001b[0;34m:\u001b[0m\u001b[0;34m\u001b[0m\u001b[0;34m\u001b[0m\u001b[0m\n\u001b[1;32m     97\u001b[0m             \u001b[0;32mif\u001b[0m \u001b[0mresult\u001b[0m\u001b[0;34m.\u001b[0m\u001b[0m_REGISTRY\u001b[0m\u001b[0;34m.\u001b[0m\u001b[0mauto_reduce_dimensions\u001b[0m\u001b[0;34m:\u001b[0m\u001b[0;34m\u001b[0m\u001b[0;34m\u001b[0m\u001b[0m\n",
      "\u001b[0;32m~/miniconda3/envs/env0/lib/python3.9/site-packages/pint/quantity.py\u001b[0m in \u001b[0;36m_mul_div\u001b[0;34m(self, other, magnitude_op, units_op)\u001b[0m\n\u001b[1;32m   1193\u001b[0m         \u001b[0mno_offset_units_self\u001b[0m \u001b[0;34m=\u001b[0m \u001b[0mlen\u001b[0m\u001b[0;34m(\u001b[0m\u001b[0moffset_units_self\u001b[0m\u001b[0;34m)\u001b[0m\u001b[0;34m\u001b[0m\u001b[0;34m\u001b[0m\u001b[0m\n\u001b[1;32m   1194\u001b[0m \u001b[0;34m\u001b[0m\u001b[0m\n\u001b[0;32m-> 1195\u001b[0;31m         \u001b[0;32mif\u001b[0m \u001b[0;32mnot\u001b[0m \u001b[0mself\u001b[0m\u001b[0;34m.\u001b[0m\u001b[0m_check\u001b[0m\u001b[0;34m(\u001b[0m\u001b[0mother\u001b[0m\u001b[0;34m)\u001b[0m\u001b[0;34m:\u001b[0m\u001b[0;34m\u001b[0m\u001b[0;34m\u001b[0m\u001b[0m\n\u001b[0m\u001b[1;32m   1196\u001b[0m \u001b[0;34m\u001b[0m\u001b[0m\n\u001b[1;32m   1197\u001b[0m             \u001b[0;32mif\u001b[0m \u001b[0;32mnot\u001b[0m \u001b[0mself\u001b[0m\u001b[0;34m.\u001b[0m\u001b[0m_ok_for_muldiv\u001b[0m\u001b[0;34m(\u001b[0m\u001b[0mno_offset_units_self\u001b[0m\u001b[0;34m)\u001b[0m\u001b[0;34m:\u001b[0m\u001b[0;34m\u001b[0m\u001b[0;34m\u001b[0m\u001b[0m\n",
      "\u001b[0;32m~/miniconda3/envs/env0/lib/python3.9/site-packages/pint/util.py\u001b[0m in \u001b[0;36m_check\u001b[0;34m(self, other)\u001b[0m\n\u001b[1;32m    827\u001b[0m         \u001b[0;32melif\u001b[0m \u001b[0misinstance\u001b[0m\u001b[0;34m(\u001b[0m\u001b[0mother\u001b[0m\u001b[0;34m,\u001b[0m \u001b[0mSharedRegistryObject\u001b[0m\u001b[0;34m)\u001b[0m\u001b[0;34m:\u001b[0m\u001b[0;34m\u001b[0m\u001b[0;34m\u001b[0m\u001b[0m\n\u001b[1;32m    828\u001b[0m             \u001b[0mmess\u001b[0m \u001b[0;34m=\u001b[0m \u001b[0;34m\"Cannot operate with {} and {} of different registries.\"\u001b[0m\u001b[0;34m\u001b[0m\u001b[0;34m\u001b[0m\u001b[0m\n\u001b[0;32m--> 829\u001b[0;31m             raise ValueError(\n\u001b[0m\u001b[1;32m    830\u001b[0m                 \u001b[0mmess\u001b[0m\u001b[0;34m.\u001b[0m\u001b[0mformat\u001b[0m\u001b[0;34m(\u001b[0m\u001b[0mself\u001b[0m\u001b[0;34m.\u001b[0m\u001b[0m__class__\u001b[0m\u001b[0;34m.\u001b[0m\u001b[0m__name__\u001b[0m\u001b[0;34m,\u001b[0m \u001b[0mother\u001b[0m\u001b[0;34m.\u001b[0m\u001b[0m__class__\u001b[0m\u001b[0;34m.\u001b[0m\u001b[0m__name__\u001b[0m\u001b[0;34m)\u001b[0m\u001b[0;34m\u001b[0m\u001b[0;34m\u001b[0m\u001b[0m\n\u001b[1;32m    831\u001b[0m             )\n",
      "\u001b[0;31mValueError\u001b[0m: Cannot operate with Quantity and Quantity of different registries."
     ]
    }
   ],
   "source": [
    "P / sum(df['$P_c$'] * df['$n$'])"
   ]
  },
  {
   "cell_type": "code",
   "execution_count": 54,
   "metadata": {},
   "outputs": [
    {
     "ename": "AttributeError",
     "evalue": "Neither Quantity object nor its magnitude (4.604354000000001) has attribute 'value'",
     "output_type": "error",
     "traceback": [
      "\u001b[0;31m---------------------------------------------------------------------------\u001b[0m",
      "\u001b[0;31mAttributeError\u001b[0m                            Traceback (most recent call last)",
      "\u001b[0;32m~/miniconda3/envs/env0/lib/python3.9/site-packages/pint/quantity.py\u001b[0m in \u001b[0;36m__getattr__\u001b[0;34m(self, item)\u001b[0m\n\u001b[1;32m   1824\u001b[0m         \u001b[0;32mtry\u001b[0m\u001b[0;34m:\u001b[0m\u001b[0;34m\u001b[0m\u001b[0;34m\u001b[0m\u001b[0m\n\u001b[0;32m-> 1825\u001b[0;31m             \u001b[0;32mreturn\u001b[0m \u001b[0mgetattr\u001b[0m\u001b[0;34m(\u001b[0m\u001b[0mself\u001b[0m\u001b[0;34m.\u001b[0m\u001b[0m_magnitude\u001b[0m\u001b[0;34m,\u001b[0m \u001b[0mitem\u001b[0m\u001b[0;34m)\u001b[0m\u001b[0;34m\u001b[0m\u001b[0;34m\u001b[0m\u001b[0m\n\u001b[0m\u001b[1;32m   1826\u001b[0m         \u001b[0;32mexcept\u001b[0m \u001b[0mAttributeError\u001b[0m\u001b[0;34m:\u001b[0m\u001b[0;34m\u001b[0m\u001b[0;34m\u001b[0m\u001b[0m\n",
      "\u001b[0;31mAttributeError\u001b[0m: 'numpy.float64' object has no attribute 'value'",
      "\nDuring handling of the above exception, another exception occurred:\n",
      "\u001b[0;31mAttributeError\u001b[0m                            Traceback (most recent call last)",
      "\u001b[0;32m<ipython-input-54-2a1662487e7d>\u001b[0m in \u001b[0;36m<module>\u001b[0;34m\u001b[0m\n\u001b[1;32m      1\u001b[0m \u001b[0;32mimport\u001b[0m \u001b[0mnumpy\u001b[0m \u001b[0;32mas\u001b[0m \u001b[0mnp\u001b[0m\u001b[0;34m\u001b[0m\u001b[0;34m\u001b[0m\u001b[0m\n\u001b[0;32m----> 2\u001b[0;31m \u001b[0mnp\u001b[0m\u001b[0;34m.\u001b[0m\u001b[0msum\u001b[0m\u001b[0;34m(\u001b[0m\u001b[0;34m(\u001b[0m\u001b[0mdf\u001b[0m\u001b[0;34m[\u001b[0m\u001b[0;34m'$P_c$'\u001b[0m\u001b[0;34m]\u001b[0m\u001b[0;34m.\u001b[0m\u001b[0mvalues\u001b[0m \u001b[0;34m*\u001b[0m \u001b[0mdf\u001b[0m\u001b[0;34m[\u001b[0m\u001b[0;34m'$n$'\u001b[0m\u001b[0;34m]\u001b[0m\u001b[0;34m.\u001b[0m\u001b[0mvalues\u001b[0m\u001b[0;34m)\u001b[0m\u001b[0;34m)\u001b[0m\u001b[0;34m.\u001b[0m\u001b[0mvalue\u001b[0m\u001b[0;34m\u001b[0m\u001b[0;34m\u001b[0m\u001b[0m\n\u001b[0m",
      "\u001b[0;32m~/miniconda3/envs/env0/lib/python3.9/site-packages/pint/quantity.py\u001b[0m in \u001b[0;36m__getattr__\u001b[0;34m(self, item)\u001b[0m\n\u001b[1;32m   1825\u001b[0m             \u001b[0;32mreturn\u001b[0m \u001b[0mgetattr\u001b[0m\u001b[0;34m(\u001b[0m\u001b[0mself\u001b[0m\u001b[0;34m.\u001b[0m\u001b[0m_magnitude\u001b[0m\u001b[0;34m,\u001b[0m \u001b[0mitem\u001b[0m\u001b[0;34m)\u001b[0m\u001b[0;34m\u001b[0m\u001b[0;34m\u001b[0m\u001b[0m\n\u001b[1;32m   1826\u001b[0m         \u001b[0;32mexcept\u001b[0m \u001b[0mAttributeError\u001b[0m\u001b[0;34m:\u001b[0m\u001b[0;34m\u001b[0m\u001b[0;34m\u001b[0m\u001b[0m\n\u001b[0;32m-> 1827\u001b[0;31m             raise AttributeError(\n\u001b[0m\u001b[1;32m   1828\u001b[0m                 \u001b[0;34m\"Neither Quantity object nor its magnitude ({}) \"\u001b[0m\u001b[0;34m\u001b[0m\u001b[0;34m\u001b[0m\u001b[0m\n\u001b[1;32m   1829\u001b[0m                 \u001b[0;34m\"has attribute '{}'\"\u001b[0m\u001b[0;34m.\u001b[0m\u001b[0mformat\u001b[0m\u001b[0;34m(\u001b[0m\u001b[0mself\u001b[0m\u001b[0;34m.\u001b[0m\u001b[0m_magnitude\u001b[0m\u001b[0;34m,\u001b[0m \u001b[0mitem\u001b[0m\u001b[0;34m)\u001b[0m\u001b[0;34m\u001b[0m\u001b[0;34m\u001b[0m\u001b[0m\n",
      "\u001b[0;31mAttributeError\u001b[0m: Neither Quantity object nor its magnitude (4.604354000000001) has attribute 'value'"
     ]
    }
   ],
   "source": [
    "import numpy as np\n",
    "np.sum((df['$P_c$'].values * df['$n$'].values))."
   ]
  }
 ],
 "metadata": {
  "kernelspec": {
   "display_name": "Python [conda env:env0]",
   "language": "python",
   "name": "conda-env-env0-py"
  },
  "language_info": {
   "codemirror_mode": {
    "name": "ipython",
    "version": 3
   },
   "file_extension": ".py",
   "mimetype": "text/x-python",
   "name": "python",
   "nbconvert_exporter": "python",
   "pygments_lexer": "ipython3",
   "version": "3.9.0"
  }
 },
 "nbformat": 4,
 "nbformat_minor": 4
}
