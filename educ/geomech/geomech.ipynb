{
 "cells": [
  {
   "cell_type": "markdown",
   "id": "obvious-hungary",
   "metadata": {},
   "source": [
    "# Init"
   ]
  },
  {
   "cell_type": "code",
   "execution_count": 1,
   "id": "southwest-monaco",
   "metadata": {},
   "outputs": [],
   "source": [
    "import pint\n",
    "import numpy as np\n",
    "\n",
    "ureg = pint.UnitRegistry()"
   ]
  },
  {
   "cell_type": "code",
   "execution_count": 33,
   "id": "radio-friend",
   "metadata": {},
   "outputs": [],
   "source": [
    "# \"костыль\" для настройки\n",
    "\n",
    "\n",
    "def _repr_html_(self):\n",
    "    # L -- вывод величины на языке разметки LaTeX\n",
    "    # ~L -- сокращенный вывод величины на языке разметки LaTeX\n",
    "    # .5g -- вывод первых пять значимых знаков у значений величин\n",
    "#     repr_latex = \"${:.5g~L}$\".format(self)\n",
    "#     repr_latex = \"$\\displaystyle {:.5gL}$\".format(self)\n",
    "    repr_latex = \"$\\displaystyle {:~L}$\".format(self)\n",
    "\n",
    "    # исправление форматирования надписи dimensionless\n",
    "    repr_latex = repr_latex.replace(\"dimensionless\", \"\\mathrm{dimensionless}\")\n",
    "    \n",
    "    return repr_latex\n",
    "\n",
    "\n",
    "pint.util.PrettyIPython._repr_html_ = _repr_html_"
   ]
  },
  {
   "cell_type": "markdown",
   "id": "silver-cowboy",
   "metadata": {},
   "source": [
    "# Задача 1"
   ]
  },
  {
   "cell_type": "markdown",
   "id": "brazilian-arizona",
   "metadata": {},
   "source": [
    "Вариант 2"
   ]
  },
  {
   "cell_type": "code",
   "execution_count": 3,
   "id": "outdoor-salem",
   "metadata": {},
   "outputs": [],
   "source": [
    "G = ureg(\"3.1 10^4 MPa\")\n",
    "nu = ureg(\"0.3 dimensionless\")\n",
    "rho = ureg(\"2500 kg / m^3\")"
   ]
  },
  {
   "cell_type": "markdown",
   "id": "supported-electron",
   "metadata": {},
   "source": [
    "## Решение"
   ]
  },
  {
   "cell_type": "markdown",
   "id": "hired-country",
   "metadata": {},
   "source": [
    "Столбец $(G, \\nu)$"
   ]
  },
  {
   "cell_type": "code",
   "execution_count": 4,
   "id": "conservative-lightning",
   "metadata": {},
   "outputs": [],
   "source": [
    "lambda_ = 2 * G * nu / (1 - 2 * nu)\n",
    "E = 2 * G * (1 + nu)\n",
    "M = G * (2 - 2 * nu) / (1 - 2 * nu)\n",
    "K = 2 * G * (1 + nu) / 3 / (1 - 2 * nu)\n",
    "V_p = np.sqrt(M / rho).to(\"m / s\")\n",
    "V_s = np.sqrt(G / rho).to(\"m / s\")"
   ]
  },
  {
   "cell_type": "markdown",
   "id": "mexican-software",
   "metadata": {},
   "source": [
    "$\\lambda$"
   ]
  },
  {
   "cell_type": "code",
   "execution_count": 35,
   "id": "geological-course",
   "metadata": {},
   "outputs": [
    {
     "data": {
      "text/html": [
       "$\\displaystyle 46500.0\\ \\mathrm{MPa}$"
      ],
      "text/latex": [
       "$46500.0\\ \\mathrm{megapascal}$"
      ],
      "text/plain": [
       "46500.0 <Unit('megapascal')>"
      ]
     },
     "execution_count": 35,
     "metadata": {},
     "output_type": "execute_result"
    }
   ],
   "source": [
    "lambda_"
   ]
  },
  {
   "cell_type": "markdown",
   "id": "proved-blanket",
   "metadata": {},
   "source": [
    "$E$"
   ]
  },
  {
   "cell_type": "code",
   "execution_count": 36,
   "id": "applicable-adapter",
   "metadata": {},
   "outputs": [
    {
     "data": {
      "text/html": [
       "$\\displaystyle 80600.0\\ \\mathrm{MPa}$"
      ],
      "text/latex": [
       "$80600.0\\ \\mathrm{megapascal}$"
      ],
      "text/plain": [
       "80600.0 <Unit('megapascal')>"
      ]
     },
     "execution_count": 36,
     "metadata": {},
     "output_type": "execute_result"
    }
   ],
   "source": [
    "E"
   ]
  },
  {
   "cell_type": "markdown",
   "id": "surprising-scenario",
   "metadata": {},
   "source": [
    "$M$"
   ]
  },
  {
   "cell_type": "code",
   "execution_count": 37,
   "id": "bearing-harvey",
   "metadata": {},
   "outputs": [
    {
     "data": {
      "text/html": [
       "$\\displaystyle 108500.0\\ \\mathrm{MPa}$"
      ],
      "text/latex": [
       "$108500.0\\ \\mathrm{megapascal}$"
      ],
      "text/plain": [
       "108500.0 <Unit('megapascal')>"
      ]
     },
     "execution_count": 37,
     "metadata": {},
     "output_type": "execute_result"
    }
   ],
   "source": [
    "M"
   ]
  },
  {
   "cell_type": "markdown",
   "id": "stock-reggae",
   "metadata": {},
   "source": [
    "$K$"
   ]
  },
  {
   "cell_type": "code",
   "execution_count": 38,
   "id": "raised-british",
   "metadata": {},
   "outputs": [
    {
     "data": {
      "text/html": [
       "$\\displaystyle 67166.66666666667\\ \\mathrm{MPa}$"
      ],
      "text/latex": [
       "$67166.66666666667\\ \\mathrm{megapascal}$"
      ],
      "text/plain": [
       "67166.66666666667 <Unit('megapascal')>"
      ]
     },
     "execution_count": 38,
     "metadata": {},
     "output_type": "execute_result"
    }
   ],
   "source": [
    "K"
   ]
  },
  {
   "cell_type": "markdown",
   "id": "exotic-specific",
   "metadata": {},
   "source": [
    "$V_p$"
   ]
  },
  {
   "cell_type": "code",
   "execution_count": 39,
   "id": "clear-national",
   "metadata": {},
   "outputs": [
    {
     "data": {
      "text/html": [
       "$\\displaystyle 6587.867636800241\\ \\frac{\\mathrm{m}}{\\mathrm{s}}$"
      ],
      "text/latex": [
       "$6587.867636800241\\ \\frac{\\mathrm{meter}}{\\mathrm{second}}$"
      ],
      "text/plain": [
       "6587.867636800241 <Unit('meter / second')>"
      ]
     },
     "execution_count": 39,
     "metadata": {},
     "output_type": "execute_result"
    }
   ],
   "source": [
    "V_p"
   ]
  },
  {
   "cell_type": "markdown",
   "id": "sunrise-doctrine",
   "metadata": {},
   "source": [
    "$V_s$"
   ]
  },
  {
   "cell_type": "code",
   "execution_count": 40,
   "id": "official-funeral",
   "metadata": {},
   "outputs": [
    {
     "data": {
      "text/html": [
       "$\\displaystyle 3521.3633723318017\\ \\frac{\\mathrm{m}}{\\mathrm{s}}$"
      ],
      "text/latex": [
       "$3521.3633723318017\\ \\frac{\\mathrm{meter}}{\\mathrm{second}}$"
      ],
      "text/plain": [
       "3521.3633723318017 <Unit('meter / second')>"
      ]
     },
     "execution_count": 40,
     "metadata": {},
     "output_type": "execute_result"
    }
   ],
   "source": [
    "V_s"
   ]
  }
 ],
 "metadata": {
  "kernelspec": {
   "display_name": "Python [conda env:env0]",
   "language": "python",
   "name": "conda-env-env0-py"
  },
  "language_info": {
   "codemirror_mode": {
    "name": "ipython",
    "version": 3
   },
   "file_extension": ".py",
   "mimetype": "text/x-python",
   "name": "python",
   "nbconvert_exporter": "python",
   "pygments_lexer": "ipython3",
   "version": "3.9.2"
  }
 },
 "nbformat": 4,
 "nbformat_minor": 5
}
