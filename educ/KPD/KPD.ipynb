{
 "cells": [
  {
   "cell_type": "markdown",
   "metadata": {},
   "source": [
    "Идеализированная схема изменения дебита и давления во время исследования нагнетательной скважины при закачке:\n",
    "\n",
    "<img src=\"1.png\" width=\"400\">\n",
    "\n",
    "\n",
    "Во время исследования при закачке с постоянным дебитом забойное давление в нагнетательной скважине описывается следующим уравнением:\n",
    "$$p_{u^{w f}}=m \\log t+p_{1 h r}$$"
   ]
  }
 ],
 "metadata": {
  "kernelspec": {
   "display_name": "Python 3",
   "language": "python",
   "name": "python3"
  },
  "language_info": {
   "codemirror_mode": {
    "name": "ipython",
    "version": 3
   },
   "file_extension": ".py",
   "mimetype": "text/x-python",
   "name": "python",
   "nbconvert_exporter": "python",
   "pygments_lexer": "ipython3",
   "version": "3.8.2"
  }
 },
 "nbformat": 4,
 "nbformat_minor": 4
}
