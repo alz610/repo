{
 "cells": [
  {
   "cell_type": "markdown",
   "metadata": {},
   "source": [
    "# Init"
   ]
  },
  {
   "cell_type": "code",
   "execution_count": 1,
   "metadata": {},
   "outputs": [],
   "source": [
    "import pandas as pd\n",
    "import pint\n",
    "import pint_pandas\n",
    "\n",
    "ureg = pint.UnitRegistry()\n",
    "# ureg = pint.UnitRegistry(fmt_locale='ru_RU')\n",
    "# ureg.default_format = '.3g'\n",
    "pint_pandas.PintType.ureg = ureg"
   ]
  },
  {
   "cell_type": "code",
   "execution_count": 2,
   "metadata": {},
   "outputs": [],
   "source": [
    "# \"костыли\" для исправления ошибок в библиотеках и добавления расширений\n",
    "\n",
    "\n",
    "pd.Series.sum = lambda self: sum(self)\n",
    "\n",
    "\n",
    "class DataFrame_Data(dict):\n",
    "    def __init__(self, *args, **kwargs):\n",
    "        super(DataFrame_Data, self).__init__(*args, **kwargs)\n",
    "        self.__dict__ = self\n",
    "    \n",
    "    @property\n",
    "    def columns_data(self):\n",
    "        return list(map(list, zip(*self.data)))\n",
    "\n",
    "\n",
    "def build_repr_df(df_data):\n",
    "    # copy\n",
    "    df_data_pint = DataFrame_Data(\n",
    "        columns = df_data.columns[1:],\n",
    "        dtype = df_data.dtype[1:],\n",
    "        data = [line_data[1:] for line_data in df_data.data]\n",
    "    )\n",
    "\n",
    "    df_pint = pd.DataFrame({name: pd.Series(data, dtype=dtype)\n",
    "                       for name, data, dtype in zip(\n",
    "                           df_data_pint.columns,\n",
    "                           df_data_pint.columns_data,\n",
    "                           df_data_pint.dtype)})\n",
    "\n",
    "    df = df_pint.pint.dequantify()\n",
    "\n",
    "    i = 0\n",
    "    df.insert(i, (df_data.columns[i], 'N/A'), df_data.columns_data[i])\n",
    "\n",
    "    return df\n",
    "\n",
    "\n",
    "def build_access_df(df_data):\n",
    "    # copy\n",
    "    df_data_pint = DataFrame_Data(df_data)\n",
    "\n",
    "    df_data_pint.attribute = \\\n",
    "        df_data_pint.attribute[1:]\n",
    "    df_data_pint.dtype = \\\n",
    "        df_data_pint.dtype[1:]\n",
    "    df_data_pint.data = \\\n",
    "        [line_data[1:] for line_data in df_data_pint.data]\n",
    "\n",
    "    df_pint = pd.DataFrame({attribute: pd.Series(data, dtype=dtype)\n",
    "                       for attribute, data, dtype in zip(\n",
    "                           df_data_pint.attribute,\n",
    "                           df_data_pint.columns_data,\n",
    "                           df_data_pint.dtype)})\n",
    "\n",
    "    return df_pint\n",
    "\n",
    "\n",
    "class CustomDataFrame(pd.DataFrame):\n",
    "    def __init__(self, *args, **kw_args):\n",
    "        df_data = DataFrame_Data(*args, **kw_args)\n",
    "#         self.df_data = df_data\n",
    "        super().__init__(build_access_df(df_data))\n",
    "\n",
    "        df = build_repr_df(df_data)\n",
    "        self._repr_html_ = df._repr_html_\n",
    "\n",
    "\n",
    "DataFrame = CustomDataFrame\n",
    "\n",
    "\n",
    "# в будущем можно будет раскомментрировать эту строку, чтобы отключить \"костыли\" выше\n",
    "# DataFrame = pd.DataFrame"
   ]
  },
  {
   "cell_type": "markdown",
   "metadata": {},
   "source": [
    "Универсальная газовая постоянная $R$, которая предоставляет библиотека `pint` физических величин"
   ]
  },
  {
   "cell_type": "code",
   "execution_count": 3,
   "metadata": {},
   "outputs": [
    {
     "data": {
      "text/html": [
       "8.314462618153241 joule/(kelvin mole)"
      ],
      "text/latex": [
       "$8.314462618153241\\ \\frac{\\mathrm{joule}}{\\left(\\mathrm{kelvin} \\cdot \\mathrm{mole}\\right)}$"
      ],
      "text/plain": [
       "8.314462618153241 <Unit('joule / kelvin / mole')>"
      ]
     },
     "execution_count": 3,
     "metadata": {},
     "output_type": "execute_result"
    }
   ],
   "source": [
    "(1 * ureg.R).to('J / mol / K')"
   ]
  },
  {
   "cell_type": "markdown",
   "metadata": {},
   "source": [
    "и ускорение свободного падения $g$"
   ]
  },
  {
   "cell_type": "code",
   "execution_count": 4,
   "metadata": {},
   "outputs": [
    {
     "data": {
      "text/html": [
       "9.80665 meter/second<sup>2</sup>"
      ],
      "text/latex": [
       "$9.80665\\ \\frac{\\mathrm{meter}}{\\mathrm{second}^{2}}$"
      ],
      "text/plain": [
       "9.80665 <Unit('meter / second ** 2')>"
      ]
     },
     "execution_count": 4,
     "metadata": {},
     "output_type": "execute_result"
    }
   ],
   "source": [
    "(1 * ureg.g0).to('m/s^2')"
   ]
  },
  {
   "cell_type": "markdown",
   "metadata": {},
   "source": [
    "Настройка форматирования и вывода физических величин библиотеки `pint`"
   ]
  },
  {
   "cell_type": "code",
   "execution_count": 5,
   "metadata": {},
   "outputs": [],
   "source": [
    "# \"костыль\" для настройки\n",
    "# настройка вывода первых пять значимых знаков у значений величин\n",
    "# настройка форматирования с помощью языка разметки латех\n",
    "\n",
    "\n",
    "def _repr_html_(self):\n",
    "#     repr_latex = \"${:.4g~L}$\".format(self)\n",
    "    repr_latex = \"$\\displaystyle {:.5gL}$\".format(self)\n",
    "    repr_latex = repr_latex.replace(\"dimensionless\", \"\\mathrm{dimensionless}\")\n",
    "    \n",
    "    return repr_latex\n",
    "\n",
    "\n",
    "pint.util.PrettyIPython._repr_html_ = _repr_html_"
   ]
  },
  {
   "cell_type": "markdown",
   "metadata": {},
   "source": [
    "# Задача"
   ]
  },
  {
   "cell_type": "markdown",
   "metadata": {},
   "source": [
    "## Данные"
   ]
  },
  {
   "cell_type": "markdown",
   "metadata": {},
   "source": [
    "Значения величин в стандартных условиях $P_{ст}$, $T_{ст}$ и $Z_{ст}$"
   ]
  },
  {
   "cell_type": "code",
   "execution_count": 6,
   "metadata": {},
   "outputs": [
    {
     "data": {
      "text/html": [
       "$\\displaystyle 1.0133\\times 10^{5}\\ \\mathrm{pascal}$"
      ],
      "text/latex": [
       "$101330\\ \\mathrm{pascal}$"
      ],
      "text/plain": [
       "101330 <Unit('pascal')>"
      ]
     },
     "metadata": {},
     "output_type": "display_data"
    },
    {
     "data": {
      "text/html": [
       "$\\displaystyle 289\\ \\mathrm{kelvin}$"
      ],
      "text/latex": [
       "$289\\ \\mathrm{kelvin}$"
      ],
      "text/plain": [
       "289 <Unit('kelvin')>"
      ]
     },
     "metadata": {},
     "output_type": "display_data"
    },
    {
     "data": {
      "text/html": [
       "$\\displaystyle 1\\ \\mathrm{dimensionless}$"
      ],
      "text/latex": [
       "$1\\ dimensionless$"
      ],
      "text/plain": [
       "1 <Unit('dimensionless')>"
      ]
     },
     "metadata": {},
     "output_type": "display_data"
    }
   ],
   "source": [
    "P_st = ureg('101330 Pa')\n",
    "T_st = ureg('289 K')\n",
    "Z_st = ureg('1 dimensionless')\n",
    "\n",
    "display(P_st, T_st, Z_st)"
   ]
  },
  {
   "cell_type": "markdown",
   "metadata": {},
   "source": [
    "Молярная масса воздуха $M_{air}$"
   ]
  },
  {
   "cell_type": "code",
   "execution_count": 7,
   "metadata": {},
   "outputs": [
    {
     "data": {
      "text/html": [
       "$\\displaystyle 28.97\\ \\frac{\\mathrm{gram}}{\\mathrm{mole}}$"
      ],
      "text/latex": [
       "$28.97\\ \\frac{\\mathrm{gram}}{\\mathrm{mole}}$"
      ],
      "text/plain": [
       "28.97 <Unit('gram / mole')>"
      ]
     },
     "execution_count": 7,
     "metadata": {},
     "output_type": "execute_result"
    }
   ],
   "source": [
    "M_air = ureg('28.97 g/mol')\n",
    "M_air"
   ]
  },
  {
   "cell_type": "markdown",
   "metadata": {},
   "source": [
    "Значения пластовых величин $P_{пл}$ и $T_{пл}$"
   ]
  },
  {
   "cell_type": "code",
   "execution_count": 8,
   "metadata": {},
   "outputs": [
    {
     "data": {
      "text/html": [
       "$\\displaystyle 22.65\\ \\mathrm{megapascal}$"
      ],
      "text/latex": [
       "$22.65\\ \\mathrm{megapascal}$"
      ],
      "text/plain": [
       "22.65 <Unit('megapascal')>"
      ]
     },
     "metadata": {},
     "output_type": "display_data"
    },
    {
     "data": {
      "text/html": [
       "$\\displaystyle 297\\ \\mathrm{kelvin}$"
      ],
      "text/latex": [
       "$297\\ \\mathrm{kelvin}$"
      ],
      "text/plain": [
       "297 <Unit('kelvin')>"
      ]
     },
     "metadata": {},
     "output_type": "display_data"
    }
   ],
   "source": [
    "P_pl = ureg('22.65 MPa')\n",
    "T_pl = ureg('297 K')\n",
    " \n",
    "display(P_pl, T_pl)"
   ]
  },
  {
   "cell_type": "markdown",
   "metadata": {},
   "source": [
    "Состав природного газа"
   ]
  },
  {
   "cell_type": "code",
   "execution_count": 9,
   "metadata": {},
   "outputs": [
    {
     "data": {
      "text/html": [
       "<div>\n",
       "<style scoped>\n",
       "    .dataframe tbody tr th:only-of-type {\n",
       "        vertical-align: middle;\n",
       "    }\n",
       "\n",
       "    .dataframe tbody tr th {\n",
       "        vertical-align: top;\n",
       "    }\n",
       "\n",
       "    .dataframe thead tr th {\n",
       "        text-align: left;\n",
       "    }\n",
       "</style>\n",
       "<table border=\"1\" class=\"dataframe\">\n",
       "  <thead>\n",
       "    <tr>\n",
       "      <th></th>\n",
       "      <th>компонент</th>\n",
       "      <th>$M$</th>\n",
       "      <th>$P_c$</th>\n",
       "      <th>$T_c$</th>\n",
       "      <th>$n$</th>\n",
       "    </tr>\n",
       "    <tr>\n",
       "      <th>unit</th>\n",
       "      <th>N/A</th>\n",
       "      <th>dimensionless</th>\n",
       "      <th>megapascal</th>\n",
       "      <th>kelvin</th>\n",
       "      <th>dimensionless</th>\n",
       "    </tr>\n",
       "  </thead>\n",
       "  <tbody>\n",
       "    <tr>\n",
       "      <th>0</th>\n",
       "      <td>метан</td>\n",
       "      <td>16.04</td>\n",
       "      <td>4.600</td>\n",
       "      <td>190.60</td>\n",
       "      <td>0.8255</td>\n",
       "    </tr>\n",
       "    <tr>\n",
       "      <th>1</th>\n",
       "      <td>этан</td>\n",
       "      <td>30.07</td>\n",
       "      <td>4.880</td>\n",
       "      <td>305.60</td>\n",
       "      <td>0.0901</td>\n",
       "    </tr>\n",
       "    <tr>\n",
       "      <th>2</th>\n",
       "      <td>пропан</td>\n",
       "      <td>44.09</td>\n",
       "      <td>4.240</td>\n",
       "      <td>369.80</td>\n",
       "      <td>0.0462</td>\n",
       "    </tr>\n",
       "    <tr>\n",
       "      <th>3</th>\n",
       "      <td>изобутан</td>\n",
       "      <td>58.12</td>\n",
       "      <td>3.640</td>\n",
       "      <td>408.30</td>\n",
       "      <td>0.0074</td>\n",
       "    </tr>\n",
       "    <tr>\n",
       "      <th>4</th>\n",
       "      <td>н-бутан</td>\n",
       "      <td>58.12</td>\n",
       "      <td>3.790</td>\n",
       "      <td>425.20</td>\n",
       "      <td>0.0126</td>\n",
       "    </tr>\n",
       "    <tr>\n",
       "      <th>5</th>\n",
       "      <td>изопентан</td>\n",
       "      <td>72.15</td>\n",
       "      <td>3.380</td>\n",
       "      <td>460.60</td>\n",
       "      <td>0.0032</td>\n",
       "    </tr>\n",
       "    <tr>\n",
       "      <th>6</th>\n",
       "      <td>н-пентан</td>\n",
       "      <td>72.15</td>\n",
       "      <td>3.300</td>\n",
       "      <td>469.40</td>\n",
       "      <td>0.0022</td>\n",
       "    </tr>\n",
       "    <tr>\n",
       "      <th>7</th>\n",
       "      <td>гексан</td>\n",
       "      <td>86.17</td>\n",
       "      <td>2.960</td>\n",
       "      <td>508.00</td>\n",
       "      <td>0.0038</td>\n",
       "    </tr>\n",
       "    <tr>\n",
       "      <th>8</th>\n",
       "      <td>гептан</td>\n",
       "      <td>100.20</td>\n",
       "      <td>2.700</td>\n",
       "      <td>540.30</td>\n",
       "      <td>0.0000</td>\n",
       "    </tr>\n",
       "    <tr>\n",
       "      <th>9</th>\n",
       "      <td>азот</td>\n",
       "      <td>28.02</td>\n",
       "      <td>3.460</td>\n",
       "      <td>126.10</td>\n",
       "      <td>0.0000</td>\n",
       "    </tr>\n",
       "    <tr>\n",
       "      <th>10</th>\n",
       "      <td>диоксид углерода</td>\n",
       "      <td>44.01</td>\n",
       "      <td>7.496</td>\n",
       "      <td>304.20</td>\n",
       "      <td>0.0090</td>\n",
       "    </tr>\n",
       "    <tr>\n",
       "      <th>11</th>\n",
       "      <td>сероводород</td>\n",
       "      <td>34.08</td>\n",
       "      <td>8.890</td>\n",
       "      <td>373.60</td>\n",
       "      <td>0.0000</td>\n",
       "    </tr>\n",
       "    <tr>\n",
       "      <th>12</th>\n",
       "      <td>водяной пар</td>\n",
       "      <td>18.02</td>\n",
       "      <td>22.565</td>\n",
       "      <td>647.45</td>\n",
       "      <td>0.0000</td>\n",
       "    </tr>\n",
       "  </tbody>\n",
       "</table>\n",
       "</div>"
      ],
      "text/plain": [
       "        M      Pc      Tc       n\n",
       "0   16.04     4.6   190.6  0.8255\n",
       "1   30.07    4.88   305.6  0.0901\n",
       "2   44.09    4.24   369.8  0.0462\n",
       "3   58.12    3.64   408.3  0.0074\n",
       "4   58.12    3.79   425.2  0.0126\n",
       "5   72.15    3.38   460.6  0.0032\n",
       "6   72.15     3.3   469.4  0.0022\n",
       "7   86.17    2.96   508.0  0.0038\n",
       "8   100.2     2.7   540.3     0.0\n",
       "9   28.02    3.46   126.1     0.0\n",
       "10  44.01   7.496   304.2   0.009\n",
       "11  34.08    8.89   373.6     0.0\n",
       "12  18.02  22.565  647.45     0.0"
      ]
     },
     "execution_count": 9,
     "metadata": {},
     "output_type": "execute_result"
    }
   ],
   "source": [
    "df = DataFrame(\n",
    "    columns = ['компонент', '$M$', '$P_c$', '$T_c$', '$n$'],\n",
    "    attribute = ['component', 'M', 'Pc', 'Tc', 'n'],\n",
    "    dtype = ['string', 'pint[dimensionless]', 'pint[MPa]', 'pint[K]', 'pint[dimensionless]'],\n",
    "    data = [['метан'           , 16.04, 4.60  , 190.6 , 0.8255],\n",
    "            ['этан'            , 30.07, 4.88  , 305.6 , 0.0901],\n",
    "            ['пропан'          , 44.09, 4.24  , 369.8 , 0.0462],\n",
    "            ['изобутан'        , 58.12, 3.64  , 408.3 , 0.0074],\n",
    "            ['н-бутан'         , 58.12, 3.79  , 425.2 , 0.0126],\n",
    "            ['изопентан'       , 72.15, 3.38  , 460.6 , 0.0032],\n",
    "            ['н-пентан'        , 72.15, 3.3   , 469.4 , 0.0022],\n",
    "            ['гексан'          , 86.17, 2.96  , 508   , 0.0038],\n",
    "            ['гептан'          , 100.2, 2.7   , 540.3 , 0     ],\n",
    "            ['азот'            , 28.02, 3.46  , 126.1 , 0     ],\n",
    "            ['диоксид углерода', 44.01, 7.496 , 304.2 , 0.009 ],\n",
    "            ['сероводород'     , 34.08, 8.89  , 373.6 , 0     ],\n",
    "            ['водяной пар'     , 18.02, 22.565, 647.45, 0     ]]\n",
    ")\n",
    "\n",
    "df"
   ]
  },
  {
   "cell_type": "markdown",
   "metadata": {},
   "source": [
    "## Решение"
   ]
  },
  {
   "cell_type": "markdown",
   "metadata": {},
   "source": [
    "Вычисление значений псевдокритических величин"
   ]
  },
  {
   "cell_type": "markdown",
   "metadata": {},
   "source": [
    "Давление $P_{pc}$"
   ]
  },
  {
   "cell_type": "code",
   "execution_count": 10,
   "metadata": {},
   "outputs": [
    {
     "data": {
      "text/html": [
       "$\\displaystyle 4.6044\\ \\mathrm{megapascal}$"
      ],
      "text/latex": [
       "$4.604354000000001\\ \\mathrm{megapascal}$"
      ],
      "text/plain": [
       "4.604354000000001 <Unit('megapascal')>"
      ]
     },
     "execution_count": 10,
     "metadata": {},
     "output_type": "execute_result"
    }
   ],
   "source": [
    "(df.Pc * df.n).sum()"
   ]
  },
  {
   "cell_type": "markdown",
   "metadata": {},
   "source": [
    "Температура $T_{pc}$"
   ]
  },
  {
   "cell_type": "code",
   "execution_count": 11,
   "metadata": {},
   "outputs": [
    {
     "data": {
      "text/html": [
       "$\\displaystyle 217.51\\ \\mathrm{kelvin}$"
      ],
      "text/latex": [
       "$217.51335999999995\\ \\mathrm{kelvin}$"
      ],
      "text/plain": [
       "217.51335999999995 <Unit('kelvin')>"
      ]
     },
     "execution_count": 11,
     "metadata": {},
     "output_type": "execute_result"
    }
   ],
   "source": [
    "(df.Tc * df.n).sum()"
   ]
  },
  {
   "cell_type": "markdown",
   "metadata": {},
   "source": [
    "Значения псевдоприведенных величин"
   ]
  },
  {
   "cell_type": "markdown",
   "metadata": {},
   "source": [
    "Давление $P_{pr}$"
   ]
  },
  {
   "cell_type": "code",
   "execution_count": 12,
   "metadata": {},
   "outputs": [
    {
     "data": {
      "text/html": [
       "$\\displaystyle 4.9193\\ \\mathrm{dimensionless}$"
      ],
      "text/latex": [
       "$4.919256859919979\\ dimensionless$"
      ],
      "text/plain": [
       "4.919256859919979 <Unit('dimensionless')>"
      ]
     },
     "execution_count": 12,
     "metadata": {},
     "output_type": "execute_result"
    }
   ],
   "source": [
    "P_pl / _10"
   ]
  },
  {
   "cell_type": "markdown",
   "metadata": {},
   "source": [
    "Температура $T_{pr}$"
   ]
  },
  {
   "cell_type": "code",
   "execution_count": 13,
   "metadata": {},
   "outputs": [
    {
     "data": {
      "text/html": [
       "$\\displaystyle 1.3654\\ \\mathrm{dimensionless}$"
      ],
      "text/latex": [
       "$1.3654333692422391\\ dimensionless$"
      ],
      "text/plain": [
       "1.3654333692422391 <Unit('dimensionless')>"
      ]
     },
     "execution_count": 13,
     "metadata": {},
     "output_type": "execute_result"
    }
   ],
   "source": [
    "T_pl / _11"
   ]
  },
  {
   "cell_type": "markdown",
   "metadata": {},
   "source": [
    "График значений коэффициента сверхжимаемости $Z$ по значениям $P_{pr}$ и $T_{pr}$"
   ]
  },
  {
   "cell_type": "markdown",
   "metadata": {},
   "source": [
    "![График значений коэффициента сверхжимаемости $Z$ по значениям $P_{pr}$ и $T_{pr}$](palette.png)"
   ]
  },
  {
   "cell_type": "markdown",
   "metadata": {},
   "source": [
    "Значение $Z_{пл}$"
   ]
  },
  {
   "cell_type": "code",
   "execution_count": 14,
   "metadata": {},
   "outputs": [
    {
     "data": {
      "text/html": [
       "$\\displaystyle 0.73\\ \\mathrm{dimensionless}$"
      ],
      "text/latex": [
       "$0.73\\ dimensionless$"
      ],
      "text/plain": [
       "0.73 <Unit('dimensionless')>"
      ]
     },
     "execution_count": 14,
     "metadata": {},
     "output_type": "execute_result"
    }
   ],
   "source": [
    "Z_pl = ureg('0.73 dimensionless')\n",
    "Z_pl"
   ]
  },
  {
   "cell_type": "markdown",
   "metadata": {},
   "source": [
    "### Коэффициент расширения природного газа $E$"
   ]
  },
  {
   "cell_type": "code",
   "execution_count": 15,
   "metadata": {},
   "outputs": [
    {
     "data": {
      "text/html": [
       "$\\displaystyle 297.74\\ \\mathrm{dimensionless}$"
      ],
      "text/latex": [
       "$297.7376504773765\\ dimensionless$"
      ],
      "text/plain": [
       "297.7376504773765 <Unit('dimensionless')>"
      ]
     },
     "execution_count": 15,
     "metadata": {},
     "output_type": "execute_result"
    }
   ],
   "source": [
    "E = 0.00285 * P_pl / T_pl / Z_pl\n",
    "E = (E * ureg('K / Pa')).to('dimensionless')\n",
    "E"
   ]
  },
  {
   "cell_type": "markdown",
   "metadata": {},
   "source": [
    "### Молярная масса природного газа $M_g$"
   ]
  },
  {
   "cell_type": "code",
   "execution_count": 16,
   "metadata": {},
   "outputs": [
    {
     "data": {
      "text/html": [
       "$\\displaystyle 0.020263\\ \\frac{\\mathrm{kilogram}}{\\mathrm{mole}}$"
      ],
      "text/latex": [
       "$0.020262831\\ \\frac{\\mathrm{kilogram}}{\\mathrm{mole}}$"
      ],
      "text/plain": [
       "0.020262831 <Unit('kilogram / mole')>"
      ]
     },
     "execution_count": 16,
     "metadata": {},
     "output_type": "execute_result"
    }
   ],
   "source": [
    "M_g = (df.M * ureg('g/mol') * df.n).sum()\n",
    "M_g.to('kg/mol')"
   ]
  },
  {
   "cell_type": "markdown",
   "metadata": {},
   "source": [
    "### Плотность природного газа $\\rho_g$"
   ]
  },
  {
   "cell_type": "markdown",
   "metadata": {},
   "source": [
    "В стандартных условиях ${\\rho_g}_{\\text{ст}}$"
   ]
  },
  {
   "cell_type": "code",
   "execution_count": 17,
   "metadata": {},
   "outputs": [
    {
     "data": {
      "text/html": [
       "$\\displaystyle 0.85449\\ \\frac{\\mathrm{kilogram}}{\\mathrm{meter}^{3}}$"
      ],
      "text/latex": [
       "$0.8544883325185647\\ \\frac{\\mathrm{kilogram}}{\\mathrm{meter}^{3}}$"
      ],
      "text/plain": [
       "0.8544883325185647 <Unit('kilogram / meter ** 3')>"
      ]
     },
     "execution_count": 17,
     "metadata": {},
     "output_type": "execute_result"
    }
   ],
   "source": [
    "rho_g_st = P_st * M_g / ureg.R / T_st / Z_st\n",
    "rho_g_st.to('kg/m^3')"
   ]
  },
  {
   "cell_type": "markdown",
   "metadata": {},
   "source": [
    "В пластовых условиях ${\\rho_g}_{\\text{пл}}$"
   ]
  },
  {
   "cell_type": "code",
   "execution_count": 18,
   "metadata": {},
   "outputs": [
    {
     "data": {
      "text/html": [
       "$\\displaystyle 254.6\\ \\frac{\\mathrm{kilogram}}{\\mathrm{meter}^{3}}$"
      ],
      "text/latex": [
       "$254.5979099450782\\ \\frac{\\mathrm{kilogram}}{\\mathrm{meter}^{3}}$"
      ],
      "text/plain": [
       "254.5979099450782 <Unit('kilogram / meter ** 3')>"
      ]
     },
     "execution_count": 18,
     "metadata": {},
     "output_type": "execute_result"
    }
   ],
   "source": [
    "rho_g_pl = P_pl * M_g / ureg.R / T_pl / Z_pl\n",
    "rho_g_pl.to('kg/m^3')"
   ]
  },
  {
   "cell_type": "markdown",
   "metadata": {},
   "source": [
    "### Относительная плотность природного газа по воздуху $\\gamma_g$"
   ]
  },
  {
   "cell_type": "markdown",
   "metadata": {},
   "source": [
    "Плотность воздуха в стандартных условиях ${\\rho_{\\text{air}}}_{\\text{ст}}$"
   ]
  },
  {
   "cell_type": "code",
   "execution_count": 19,
   "metadata": {},
   "outputs": [
    {
     "data": {
      "text/html": [
       "$\\displaystyle 1.2217\\ \\frac{\\mathrm{kilogram}}{\\mathrm{meter}^{3}}$"
      ],
      "text/latex": [
       "$1.2216716900547027\\ \\frac{\\mathrm{kilogram}}{\\mathrm{meter}^{3}}$"
      ],
      "text/plain": [
       "1.2216716900547027 <Unit('kilogram / meter ** 3')>"
      ]
     },
     "execution_count": 19,
     "metadata": {},
     "output_type": "execute_result"
    }
   ],
   "source": [
    "rho_air_st = P_st * M_air / ureg.R / T_st / Z_st\n",
    "rho_air_st.to('kg/m^3')"
   ]
  },
  {
   "cell_type": "markdown",
   "metadata": {},
   "source": [
    "Относительная плотность природного газа по воздуху в стандартных условиях $\\gamma_g$ по первой формуле"
   ]
  },
  {
   "cell_type": "code",
   "execution_count": 20,
   "metadata": {},
   "outputs": [
    {
     "data": {
      "text/html": [
       "$\\displaystyle 0.69944\\ \\mathrm{dimensionless}$"
      ],
      "text/latex": [
       "$0.6994418709009319\\ dimensionless$"
      ],
      "text/plain": [
       "0.6994418709009319 <Unit('dimensionless')>"
      ]
     },
     "execution_count": 20,
     "metadata": {},
     "output_type": "execute_result"
    }
   ],
   "source": [
    "rho_g_st / rho_air_st"
   ]
  },
  {
   "cell_type": "markdown",
   "metadata": {},
   "source": [
    "по второй формуле"
   ]
  },
  {
   "cell_type": "code",
   "execution_count": 21,
   "metadata": {},
   "outputs": [
    {
     "data": {
      "text/html": [
       "$\\displaystyle 0.69944\\ \\mathrm{dimensionless}$"
      ],
      "text/latex": [
       "$0.699441870900932\\ dimensionless$"
      ],
      "text/plain": [
       "0.699441870900932 <Unit('dimensionless')>"
      ]
     },
     "execution_count": 21,
     "metadata": {},
     "output_type": "execute_result"
    }
   ],
   "source": [
    "M_g / M_air"
   ]
  },
  {
   "cell_type": "markdown",
   "metadata": {},
   "source": [
    "### Градиент гидростатического давления природного газа $\\displaystyle \\left( \\frac {\\mathrm d P} {\\mathrm d D} \\right)_g$"
   ]
  },
  {
   "cell_type": "code",
   "execution_count": 22,
   "metadata": {},
   "outputs": [
    {
     "data": {
      "text/html": [
       "$\\displaystyle 2494.9\\ \\frac{\\mathrm{pascal}}{\\mathrm{meter}}$"
      ],
      "text/latex": [
       "$2494.9426639146263\\ \\frac{\\mathrm{pascal}}{\\mathrm{meter}}$"
      ],
      "text/plain": [
       "2494.9426639146263 <Unit('pascal / meter')>"
      ]
     },
     "execution_count": 22,
     "metadata": {},
     "output_type": "execute_result"
    }
   ],
   "source": [
    "(rho_g_st * E * ureg.g0).to('Pa/m')"
   ]
  }
 ],
 "metadata": {
  "kernelspec": {
   "display_name": "Python [conda env:env0]",
   "language": "python",
   "name": "conda-env-env0-py"
  },
  "language_info": {
   "codemirror_mode": {
    "name": "ipython",
    "version": 3
   },
   "file_extension": ".py",
   "mimetype": "text/x-python",
   "name": "python",
   "nbconvert_exporter": "python",
   "pygments_lexer": "ipython3",
   "version": "3.9.0"
  }
 },
 "nbformat": 4,
 "nbformat_minor": 4
}
